{
 "cells": [
  {
   "cell_type": "markdown",
   "id": "e5463e25-a804-4525-bd8e-51addfe956fc",
   "metadata": {},
   "source": [
    "## [ 텍스트 데이터 처리]\n",
    "- 다양한 형태의 텍스트 데이터를 정리하기 위한 방법들\n",
    "- SR에 str 속성을 활용해서 str제공 전용 메서드 사용 가능\n",
    "- 사용방법 : SR객체.str.메서드()"
   ]
  },
  {
   "cell_type": "markdown",
   "id": "3472de54-eee9-4ffd-9835-3d9ceae2df92",
   "metadata": {},
   "source": [
    "-문자열 관련 메서드를 살펴보기 (1) 공백 제거 관련 메서드 => strip(), lstrip(), rstrip()"
   ]
  },
  {
   "cell_type": "code",
   "execution_count": 7,
   "id": "2a8c8df2-d3eb-4841-a4ae-8abd966a4545",
   "metadata": {},
   "outputs": [
    {
     "data": {
      "text/plain": [
       "23"
      ]
     },
     "execution_count": 7,
     "metadata": {},
     "output_type": "execute_result"
    }
   ],
   "source": [
    "msg = \"   merry Christmas     \"\n",
    "len(msg)"
   ]
  },
  {
   "cell_type": "code",
   "execution_count": 3,
   "id": "fb9905d6-5272-43e8-9f8f-74eb5139d3ad",
   "metadata": {},
   "outputs": [
    {
     "data": {
      "text/plain": [
       "'merry Christmas   '"
      ]
     },
     "execution_count": 3,
     "metadata": {},
     "output_type": "execute_result"
    }
   ],
   "source": [
    "msg1=msg.lstrip()\n",
    "msg1"
   ]
  },
  {
   "cell_type": "code",
   "execution_count": 6,
   "id": "f89685d7-e899-4183-8f3e-d1bf83567618",
   "metadata": {},
   "outputs": [
    {
     "data": {
      "text/plain": [
       "'  merry Christmas'"
      ]
     },
     "execution_count": 6,
     "metadata": {},
     "output_type": "execute_result"
    }
   ],
   "source": [
    "msg2=msg.rstrip()\n",
    "msg2"
   ]
  },
  {
   "cell_type": "code",
   "execution_count": 9,
   "id": "57b8a023-4f71-42bc-92fb-7a25203acfb0",
   "metadata": {},
   "outputs": [
    {
     "data": {
      "text/plain": [
       "'merry Christmas'"
      ]
     },
     "execution_count": 9,
     "metadata": {},
     "output_type": "execute_result"
    }
   ],
   "source": [
    "msg3=msg.strip()\n",
    "msg3"
   ]
  },
  {
   "cell_type": "markdown",
   "id": "7dc864f8-3b2d-430c-8a61-76492ca58441",
   "metadata": {},
   "source": [
    "<hr>(1) 모듈 로딩"
   ]
  },
  {
   "cell_type": "code",
   "execution_count": 10,
   "id": "595b687a-c808-46c3-9a9d-f4289b7bcd47",
   "metadata": {},
   "outputs": [],
   "source": [
    "import pandas as pd"
   ]
  },
  {
   "cell_type": "markdown",
   "id": "6d9ac6fb-896f-42fd-9917-352feab85432",
   "metadata": {},
   "source": [
    "<hr>(2) 데이터 준비"
   ]
  },
  {
   "cell_type": "code",
   "execution_count": 12,
   "id": "2e753a26-1592-422f-842d-8eee4c8892c6",
   "metadata": {},
   "outputs": [],
   "source": [
    "file=\"../DATA/chicago_food_inspections.csv\""
   ]
  },
  {
   "cell_type": "markdown",
   "id": "b37508d7-e959-4b43-a84b-80c242485b35",
   "metadata": {},
   "source": [
    "<hr>(3) 데이터 저장"
   ]
  },
  {
   "cell_type": "code",
   "execution_count": 13,
   "id": "a99bf79e-7c78-4dc0-b34b-68993fb0b55c",
   "metadata": {},
   "outputs": [
    {
     "data": {
      "text/html": [
       "<div>\n",
       "<style scoped>\n",
       "    .dataframe tbody tr th:only-of-type {\n",
       "        vertical-align: middle;\n",
       "    }\n",
       "\n",
       "    .dataframe tbody tr th {\n",
       "        vertical-align: top;\n",
       "    }\n",
       "\n",
       "    .dataframe thead th {\n",
       "        text-align: right;\n",
       "    }\n",
       "</style>\n",
       "<table border=\"1\" class=\"dataframe\">\n",
       "  <thead>\n",
       "    <tr style=\"text-align: right;\">\n",
       "      <th></th>\n",
       "      <th>Name</th>\n",
       "      <th>Risk</th>\n",
       "    </tr>\n",
       "  </thead>\n",
       "  <tbody>\n",
       "    <tr>\n",
       "      <th>0</th>\n",
       "      <td>MARRIOT MARQUIS CHICAGO</td>\n",
       "      <td>Risk 1 (High)</td>\n",
       "    </tr>\n",
       "    <tr>\n",
       "      <th>1</th>\n",
       "      <td>JETS PIZZA</td>\n",
       "      <td>Risk 2 (Medium)</td>\n",
       "    </tr>\n",
       "    <tr>\n",
       "      <th>2</th>\n",
       "      <td>ROOM 1520</td>\n",
       "      <td>Risk 3 (Low)</td>\n",
       "    </tr>\n",
       "    <tr>\n",
       "      <th>3</th>\n",
       "      <td>MARRIOT MARQUIS CHICAGO</td>\n",
       "      <td>Risk 1 (High)</td>\n",
       "    </tr>\n",
       "    <tr>\n",
       "      <th>4</th>\n",
       "      <td>CHARTWELLS</td>\n",
       "      <td>Risk 1 (High)</td>\n",
       "    </tr>\n",
       "    <tr>\n",
       "      <th>...</th>\n",
       "      <td>...</td>\n",
       "      <td>...</td>\n",
       "    </tr>\n",
       "    <tr>\n",
       "      <th>153805</th>\n",
       "      <td>WOLCOTT'S</td>\n",
       "      <td>Risk 1 (High)</td>\n",
       "    </tr>\n",
       "    <tr>\n",
       "      <th>153806</th>\n",
       "      <td>DUNKIN DONUTS/BASKIN-ROBBINS</td>\n",
       "      <td>Risk 2 (Medium)</td>\n",
       "    </tr>\n",
       "    <tr>\n",
       "      <th>153807</th>\n",
       "      <td>Cafe 608</td>\n",
       "      <td>Risk 1 (High)</td>\n",
       "    </tr>\n",
       "    <tr>\n",
       "      <th>153808</th>\n",
       "      <td>mr.daniel's</td>\n",
       "      <td>Risk 1 (High)</td>\n",
       "    </tr>\n",
       "    <tr>\n",
       "      <th>153809</th>\n",
       "      <td>TEMPO CAFE</td>\n",
       "      <td>Risk 1 (High)</td>\n",
       "    </tr>\n",
       "  </tbody>\n",
       "</table>\n",
       "<p>153810 rows × 2 columns</p>\n",
       "</div>"
      ],
      "text/plain": [
       "                                      Name             Risk\n",
       "0               MARRIOT MARQUIS CHICAGO       Risk 1 (High)\n",
       "1                              JETS PIZZA   Risk 2 (Medium)\n",
       "2                               ROOM 1520      Risk 3 (Low)\n",
       "3                MARRIOT MARQUIS CHICAGO      Risk 1 (High)\n",
       "4                            CHARTWELLS       Risk 1 (High)\n",
       "...                                    ...              ...\n",
       "153805                         WOLCOTT'S      Risk 1 (High)\n",
       "153806     DUNKIN DONUTS/BASKIN-ROBBINS     Risk 2 (Medium)\n",
       "153807                           Cafe 608     Risk 1 (High)\n",
       "153808                        mr.daniel's     Risk 1 (High)\n",
       "153809                         TEMPO CAFE     Risk 1 (High)\n",
       "\n",
       "[153810 rows x 2 columns]"
      ]
     },
     "execution_count": 13,
     "metadata": {},
     "output_type": "execute_result"
    }
   ],
   "source": [
    "chicagoDF = pd.read_csv(file)\n",
    "chicagoDF"
   ]
  },
  {
   "cell_type": "markdown",
   "id": "26e9e1a6-dd9e-44be-a9db-f86ce6ba5e5f",
   "metadata": {},
   "source": [
    "[문제] Name 컬럼에서 공백제거 처리"
   ]
  },
  {
   "cell_type": "code",
   "execution_count": 16,
   "id": "2db074eb-9dd8-44be-8ba3-c043cce2b836",
   "metadata": {},
   "outputs": [],
   "source": [
    "chicagoDF['Name'] = chicagoDF['Name'].str.strip()"
   ]
  },
  {
   "cell_type": "markdown",
   "id": "e7cb7b1a-1f50-4b5e-a371-94a1e67dc416",
   "metadata": {},
   "source": [
    "[문제] Risk 컬럼에서 문자열 나누기 => Risk 숫자 => Risk 숫자 분리"
   ]
  },
  {
   "cell_type": "code",
   "execution_count": 18,
   "id": "4f676ff2-35eb-4bc5-b908-2c9778760608",
   "metadata": {},
   "outputs": [
    {
     "data": {
      "text/plain": [
       "(4,\n",
       " array(['Risk 1 (High)', 'Risk 2 (Medium)', 'Risk 3 (Low)', 'All', nan],\n",
       "       dtype=object))"
      ]
     },
     "execution_count": 18,
     "metadata": {},
     "output_type": "execute_result"
    }
   ],
   "source": [
    "chicagoDF[\"Risk\"].nunique(), chicagoDF[\"Risk\"].unique()"
   ]
  },
  {
   "cell_type": "code",
   "execution_count": 20,
   "id": "8c6b7fc1-2a70-447c-9c25-6767059e1d74",
   "metadata": {},
   "outputs": [
    {
     "data": {
      "text/plain": [
       "(66, 66)"
      ]
     },
     "execution_count": 20,
     "metadata": {},
     "output_type": "execute_result"
    }
   ],
   "source": [
    "chicagoDF[\"Risk\"].isna().sum(), chicagoDF[\"Risk\"].isna().sum()"
   ]
  },
  {
   "cell_type": "code",
   "execution_count": 21,
   "id": "e120c476-9e1a-472c-9f3b-6285d51261fc",
   "metadata": {},
   "outputs": [
    {
     "data": {
      "text/plain": [
       "(153744, 2)"
      ]
     },
     "execution_count": 21,
     "metadata": {},
     "output_type": "execute_result"
    }
   ],
   "source": [
    "# 기본 => 행 방향, 행 내에 한 개라도 NaN있으면 삭제 \n",
    "chicagoDF.dropna().shape"
   ]
  },
  {
   "cell_type": "code",
   "execution_count": 23,
   "id": "736c6830-1662-45ae-ad63-5742a3210652",
   "metadata": {},
   "outputs": [
    {
     "data": {
      "text/plain": [
       "(153744, 2)"
      ]
     },
     "execution_count": 23,
     "metadata": {},
     "output_type": "execute_result"
    }
   ],
   "source": [
    "# Risk 컬럼이 NaN인 행 삭제 => subset 파라미터를 써라\n",
    "chicagoDF.dropna(subset=[\"Risk\"]).shape # Name에는 nan이 없어서 Risk를 subset으로 주거나 안주거나 차이 없음"
   ]
  },
  {
   "cell_type": "code",
   "execution_count": 24,
   "id": "f8520089-4f02-4916-9057-8caa98cf7888",
   "metadata": {},
   "outputs": [
    {
     "data": {
      "text/plain": [
       "0           Risk 1 (High)\n",
       "1         Risk 2 (Medium)\n",
       "2            Risk 3 (Low)\n",
       "3           Risk 1 (High)\n",
       "4           Risk 1 (High)\n",
       "               ...       \n",
       "153805      Risk 1 (High)\n",
       "153806    Risk 2 (Medium)\n",
       "153807      Risk 1 (High)\n",
       "153808      Risk 1 (High)\n",
       "153809      Risk 1 (High)\n",
       "Name: Risk, Length: 153810, dtype: object"
      ]
     },
     "execution_count": 24,
     "metadata": {},
     "output_type": "execute_result"
    }
   ],
   "source": [
    "# 원소의 데이터 값이 'all' => 'Risk 4 (Extreme)' 변경\n",
    "chicagoDF['Risk'].replace('all', \"Risk 4 (Extreme)\")"
   ]
  },
  {
   "cell_type": "code",
   "execution_count": 25,
   "id": "f619daee-6718-4b9a-9786-5cc3d8388d34",
   "metadata": {},
   "outputs": [
    {
     "data": {
      "text/plain": [
       "0           HIGH\n",
       "1         MEDIUM\n",
       "2            LOW\n",
       "3           HIGH\n",
       "4           HIGH\n",
       "           ...  \n",
       "153805      HIGH\n",
       "153806    MEDIUM\n",
       "153807      HIGH\n",
       "153808      HIGH\n",
       "153809      HIGH\n",
       "Name: Risk, Length: 153810, dtype: object"
      ]
     },
     "execution_count": 25,
     "metadata": {},
     "output_type": "execute_result"
    }
   ],
   "source": [
    "chicagoDF[\"Risk\"].str.slice(8, -1).str.upper()"
   ]
  },
  {
   "cell_type": "code",
   "execution_count": null,
   "id": "cac0d881-b249-4074-89b3-f223cdf047df",
   "metadata": {},
   "outputs": [],
   "source": []
  }
 ],
 "metadata": {
  "kernelspec": {
   "display_name": "Python 3 (ipykernel)",
   "language": "python",
   "name": "python3"
  },
  "language_info": {
   "codemirror_mode": {
    "name": "ipython",
    "version": 3
   },
   "file_extension": ".py",
   "mimetype": "text/x-python",
   "name": "python",
   "nbconvert_exporter": "python",
   "pygments_lexer": "ipython3",
   "version": "3.8.18"
  }
 },
 "nbformat": 4,
 "nbformat_minor": 5
}
