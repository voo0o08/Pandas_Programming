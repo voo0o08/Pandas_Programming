{
 "cells": [
  {
   "cell_type": "markdown",
   "id": "a81b64b5-22aa-47da-874c-dbafcfb621c6",
   "metadata": {},
   "source": [
    "# [HTMl => DF으로 저장]"
   ]
  },
  {
   "cell_type": "code",
   "execution_count": 4,
   "id": "5b1c8e1a-c7c3-42bb-9e84-59136b3d066c",
   "metadata": {},
   "outputs": [],
   "source": [
    "import pandas as pd"
   ]
  },
  {
   "cell_type": "code",
   "execution_count": 5,
   "id": "47c6f30c-db1a-4fdf-9e51-281213bce24d",
   "metadata": {},
   "outputs": [],
   "source": [
    "file = '../DATA/test.html'"
   ]
  },
  {
   "cell_type": "code",
   "execution_count": 6,
   "id": "b65ee5e7-303d-4fe0-be69-35ea22803950",
   "metadata": {},
   "outputs": [],
   "source": [
    "## <hr>(3) HTML DF로 저장"
   ]
  },
  {
   "cell_type": "code",
   "execution_count": 16,
   "id": "f3d8ba89-4c9a-41d9-8768-401134390384",
   "metadata": {},
   "outputs": [
    {
     "data": {
      "text/plain": [
       "[    0      1   2\n",
       " 0  번호     이름  전공\n",
       " 1   1    홍길동  의적\n",
       " 2   2    마징가  로봇\n",
       " 3   4    베트맨  박쥐\n",
       " 4   5  스파이더맨  거미,\n",
       "      0     1   2\n",
       " 0  과일명    가격  수량\n",
       " 1   사과  1000  32\n",
       " 2  바나나  3000  10\n",
       " 3   수박  5800   2]"
      ]
     },
     "execution_count": 16,
     "metadata": {},
     "output_type": "execute_result"
    }
   ],
   "source": [
    "htmlDF = pd.read_html(file, encoding=\"utf8\")\n",
    "htmlDF"
   ]
  },
  {
   "cell_type": "code",
   "execution_count": 15,
   "id": "c52860d5-2263-4c1c-889b-b1c6d8c72000",
   "metadata": {},
   "outputs": [
    {
     "data": {
      "text/plain": [
       "list"
      ]
     },
     "execution_count": 15,
     "metadata": {},
     "output_type": "execute_result"
    }
   ],
   "source": [
    "type(htmlDF) # list형"
   ]
  },
  {
   "cell_type": "code",
   "execution_count": null,
   "id": "b1daa643-d610-4501-8a15-f09b6af708f5",
   "metadata": {},
   "outputs": [],
   "source": []
  }
 ],
 "metadata": {
  "kernelspec": {
   "display_name": "Python 3 (ipykernel)",
   "language": "python",
   "name": "python3"
  },
  "language_info": {
   "codemirror_mode": {
    "name": "ipython",
    "version": 3
   },
   "file_extension": ".py",
   "mimetype": "text/x-python",
   "name": "python",
   "nbconvert_exporter": "python",
   "pygments_lexer": "ipython3",
   "version": "3.8.18"
  }
 },
 "nbformat": 4,
 "nbformat_minor": 5
}
