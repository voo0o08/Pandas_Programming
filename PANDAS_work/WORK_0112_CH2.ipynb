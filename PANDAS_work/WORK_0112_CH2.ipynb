{
 "cells": [
  {
   "cell_type": "code",
   "execution_count": 4,
   "id": "49fc3964-9030-4c99-a53e-05cc9eca4392",
   "metadata": {},
   "outputs": [],
   "source": [
    "import pandas as pd"
   ]
  },
  {
   "cell_type": "code",
   "execution_count": 5,
   "id": "0fe6a756-ea98-43b7-9a98-d9335de0398e",
   "metadata": {},
   "outputs": [],
   "source": [
    "superheroes = [\"Batman\", \"Superman\", \"Spider-Man\", \"Iron Man\", \"Captain America\", \"Wonder Woman\"]\n",
    "strength_levels = (100, 120, 90, 95, 110, 120)"
   ]
  },
  {
   "cell_type": "markdown",
   "id": "28a722bd-8fa9-4215-8b4d-32fe4e0a074d",
   "metadata": {},
   "source": [
    "### 1. 슈퍼 히어로(superheroes) 리스트를 사용하여 새 Series 객체의 값을 채우세요."
   ]
  },
  {
   "cell_type": "code",
   "execution_count": 7,
   "id": "07e3dc53-ffb0-4eed-b4c9-318b9f2248b2",
   "metadata": {},
   "outputs": [
    {
     "data": {
      "text/plain": [
       "0             Batman\n",
       "1           Superman\n",
       "2         Spider-Man\n",
       "3           Iron Man\n",
       "4    Captain America\n",
       "5       Wonder Woman\n",
       "dtype: object"
      ]
     },
     "execution_count": 7,
     "metadata": {},
     "output_type": "execute_result"
    }
   ],
   "source": [
    "superSR = pd.Series(superheroes)\n",
    "superSR"
   ]
  },
  {
   "cell_type": "markdown",
   "id": "c6fc1d85-67f4-4dcc-858b-825baf84c23c",
   "metadata": {},
   "source": [
    "### 2. 능력치(strength_levels) 튜플을 사용하여 새 Series 객체의 값을 채우세요."
   ]
  },
  {
   "cell_type": "code",
   "execution_count": 8,
   "id": "57108646-8cb6-4ba8-8032-c0de4d7da1b9",
   "metadata": {},
   "outputs": [
    {
     "data": {
      "text/plain": [
       "0    100\n",
       "1    120\n",
       "2     90\n",
       "3     95\n",
       "4    110\n",
       "5    120\n",
       "dtype: int64"
      ]
     },
     "execution_count": 8,
     "metadata": {},
     "output_type": "execute_result"
    }
   ],
   "source": [
    "levelSR = pd.Series(strength_levels)\n",
    "levelSR"
   ]
  },
  {
   "cell_type": "markdown",
   "id": "8f3114c6-293d-490d-babe-899a0a4068d8",
   "metadata": {},
   "source": [
    "### 3. superheroes를 인덱스 레이블로 사용하고 strength_levels를 값으로 사용하여 Series를 생성하세요. heroes 변수에 Series를 할당하세요."
   ]
  },
  {
   "cell_type": "code",
   "execution_count": 9,
   "id": "a022135c-0039-4c2e-9b22-f0185548baa4",
   "metadata": {},
   "outputs": [
    {
     "data": {
      "text/plain": [
       "Batman             100\n",
       "Superman           120\n",
       "Spider-Man          90\n",
       "Iron Man            95\n",
       "Captain America    110\n",
       "Wonder Woman       120\n",
       "dtype: int64"
      ]
     },
     "execution_count": 9,
     "metadata": {},
     "output_type": "execute_result"
    }
   ],
   "source": [
    "heroes = pd.Series(strength_levels, superheroes)\n",
    "heroes"
   ]
  },
  {
   "cell_type": "markdown",
   "id": "d5bc1504-a765-435e-88b9-913a88ffc0af",
   "metadata": {},
   "source": [
    "### 4. heroes Series의 처음 2개 행을 추출하세요"
   ]
  },
  {
   "cell_type": "code",
   "execution_count": 10,
   "id": "0a01d952-bc0a-4ef2-801c-e75b6dbfeeaa",
   "metadata": {},
   "outputs": [
    {
     "data": {
      "text/plain": [
       "Batman      100\n",
       "Superman    120\n",
       "dtype: int64"
      ]
     },
     "execution_count": 10,
     "metadata": {},
     "output_type": "execute_result"
    }
   ],
   "source": [
    "heroes.head(2)"
   ]
  },
  {
   "cell_type": "markdown",
   "id": "67a6746a-5332-4287-978a-e4397f537b72",
   "metadata": {},
   "source": [
    "### 5. heroes Series의 마지막 4개 행을 추출하세요."
   ]
  },
  {
   "cell_type": "code",
   "execution_count": 11,
   "id": "13848f53-9ac8-42f7-a87a-a0c28cf6ca71",
   "metadata": {},
   "outputs": [
    {
     "data": {
      "text/plain": [
       "Spider-Man          90\n",
       "Iron Man            95\n",
       "Captain America    110\n",
       "Wonder Woman       120\n",
       "dtype: int64"
      ]
     },
     "execution_count": 11,
     "metadata": {},
     "output_type": "execute_result"
    }
   ],
   "source": [
    "heroes.tail(4)"
   ]
  },
  {
   "cell_type": "markdown",
   "id": "f8b9ee72-850d-4052-8c94-20fcb73da85f",
   "metadata": {},
   "source": [
    "### 6. heroes Series에 있는 고유한 값의 개수를 구하세요."
   ]
  },
  {
   "cell_type": "code",
   "execution_count": 19,
   "id": "d4ed7724-4afc-4cc6-8520-b7d4191dacb9",
   "metadata": {},
   "outputs": [
    {
     "data": {
      "text/plain": [
       "5"
      ]
     },
     "execution_count": 19,
     "metadata": {},
     "output_type": "execute_result"
    }
   ],
   "source": [
    "heroes.nunique()"
   ]
  },
  {
   "cell_type": "markdown",
   "id": "eb95420e-af18-465f-869e-3d1239b80c01",
   "metadata": {},
   "source": [
    "### 7. heroes에 있는 슈퍼 히어로의평균 능력치를 구하세요."
   ]
  },
  {
   "cell_type": "code",
   "execution_count": 22,
   "id": "ba183c2a-a371-497c-9d18-e3a00e0190de",
   "metadata": {},
   "outputs": [
    {
     "data": {
      "text/plain": [
       "105.83333333333333"
      ]
     },
     "execution_count": 22,
     "metadata": {},
     "output_type": "execute_result"
    }
   ],
   "source": [
    "heroes.mean()"
   ]
  },
  {
   "cell_type": "markdown",
   "id": "3e7a1a4a-b44d-4faf-83a8-c61867b589ff",
   "metadata": {},
   "source": [
    "### 8. heroes의 최대 및 최소 능력치를 구하세요."
   ]
  },
  {
   "cell_type": "code",
   "execution_count": 25,
   "id": "58cceef5-0c41-44cf-9f94-fff0a0ca491a",
   "metadata": {},
   "outputs": [
    {
     "name": "stdout",
     "output_type": "stream",
     "text": [
      "heroes 최대 능력치 : 120\n",
      "heroes 최소 능력치 : 90\n"
     ]
    }
   ],
   "source": [
    "print(f\"heroes 최대 능력치 : {heroes.max()}\")\n",
    "print(f\"heroes 최소 능력치 : {heroes.min()}\")"
   ]
  },
  {
   "cell_type": "markdown",
   "id": "35e71e31-ef34-4b96-9dd1-ddba7d556449",
   "metadata": {},
   "source": [
    "### 9. 능력치가 2배가 되면 각 슈퍼 히어로의 능력치는 얼마인지 구하세요. "
   ]
  },
  {
   "cell_type": "code",
   "execution_count": 26,
   "id": "71aa1260-4547-498c-94a2-f8e813dbcd0c",
   "metadata": {},
   "outputs": [
    {
     "data": {
      "text/plain": [
       "Batman             200\n",
       "Superman           240\n",
       "Spider-Man         180\n",
       "Iron Man           190\n",
       "Captain America    220\n",
       "Wonder Woman       240\n",
       "dtype: int64"
      ]
     },
     "execution_count": 26,
     "metadata": {},
     "output_type": "execute_result"
    }
   ],
   "source": [
    "heroes * 2"
   ]
  },
  {
   "cell_type": "markdown",
   "id": "a833782b-c5ef-47f8-a733-7f3d8e87bef7",
   "metadata": {},
   "source": [
    "### 10. heroes Series를 파이썬 딕셔너리로 변환하세요."
   ]
  },
  {
   "cell_type": "code",
   "execution_count": 27,
   "id": "e2bb1006-a8ee-45cf-b374-08bb546be9a2",
   "metadata": {},
   "outputs": [
    {
     "data": {
      "text/plain": [
       "{'Batman': 100,\n",
       " 'Superman': 120,\n",
       " 'Spider-Man': 90,\n",
       " 'Iron Man': 95,\n",
       " 'Captain America': 110,\n",
       " 'Wonder Woman': 120}"
      ]
     },
     "execution_count": 27,
     "metadata": {},
     "output_type": "execute_result"
    }
   ],
   "source": [
    "dict(heroes)"
   ]
  }
 ],
 "metadata": {
  "kernelspec": {
   "display_name": "Python 3 (ipykernel)",
   "language": "python",
   "name": "python3"
  },
  "language_info": {
   "codemirror_mode": {
    "name": "ipython",
    "version": 3
   },
   "file_extension": ".py",
   "mimetype": "text/x-python",
   "name": "python",
   "nbconvert_exporter": "python",
   "pygments_lexer": "ipython3",
   "version": "3.8.18"
  }
 },
 "nbformat": 4,
 "nbformat_minor": 5
}
