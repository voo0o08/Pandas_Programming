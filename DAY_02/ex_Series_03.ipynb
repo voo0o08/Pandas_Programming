{
 "cells": [
  {
   "cell_type": "markdown",
   "id": "037aefef-8261-4b70-a7d8-5e7530ac7e63",
   "metadata": {},
   "source": [
    "### [Series 객체 원소 인덱싱&슬라이싱]"
   ]
  },
  {
   "cell_type": "code",
   "execution_count": 4,
   "id": "9c9ab1e4-411a-4b58-977f-bd76250e127d",
   "metadata": {},
   "outputs": [],
   "source": [
    "import pandas as pd # 모듈 로딩"
   ]
  },
  {
   "cell_type": "markdown",
   "id": "3a400d1c-e2ed-454e-9247-c223c0e3dc89",
   "metadata": {},
   "source": [
    "(2) 데이터 준비 ------------------"
   ]
  },
  {
   "cell_type": "code",
   "execution_count": 7,
   "id": "cee2ffcd-23ba-4f10-a480-599e718c86b1",
   "metadata": {},
   "outputs": [],
   "source": [
    "datas = {\"name\":\"홍길동\", \"age\":12, \"job\":\"도적\"}"
   ]
  },
  {
   "cell_type": "code",
   "execution_count": 10,
   "id": "584e6966-baae-4585-b792-a375405429df",
   "metadata": {},
   "outputs": [
    {
     "data": {
      "text/plain": [
       "name    홍길동\n",
       "age      12\n",
       "job      도적\n",
       "dtype: object"
      ]
     },
     "execution_count": 10,
     "metadata": {},
     "output_type": "execute_result"
    }
   ],
   "source": [
    "sr1 = pd.Series(datas)\n",
    "sr1"
   ]
  },
  {
   "cell_type": "markdown",
   "id": "b700fb9f-0375-408a-b038-06e5064ef4df",
   "metadata": {},
   "source": [
    "(3) 인덱싱으로 원소 읽기 -------"
   ]
  },
  {
   "cell_type": "markdown",
   "id": "8f2794de-3119-4494-9670-5108923ad9ad",
   "metadata": {},
   "source": [
    "=> 1개 원소 읽기"
   ]
  },
  {
   "cell_type": "code",
   "execution_count": 12,
   "id": "f825528e-972b-45fd-86f2-9e54aac81060",
   "metadata": {},
   "outputs": [
    {
     "data": {
      "text/plain": [
       "(12, 12, Index(['name', 'age', 'job'], dtype='object'))"
      ]
     },
     "execution_count": 12,
     "metadata": {},
     "output_type": "execute_result"
    }
   ],
   "source": [
    "sr1[\"age\"], sr1[1], sr1.index"
   ]
  },
  {
   "cell_type": "markdown",
   "id": "a68b586d-471e-453d-a15e-4c7cf1e3926e",
   "metadata": {},
   "source": [
    "=> 2개 원소 읽기"
   ]
  },
  {
   "cell_type": "code",
   "execution_count": 16,
   "id": "dbd4c608-0c45-4fa2-8083-dcc765a6b527",
   "metadata": {},
   "outputs": [
    {
     "data": {
      "text/plain": [
       "('홍길동', '도적', '홍길동', '도적', str)"
      ]
     },
     "execution_count": 16,
     "metadata": {},
     "output_type": "execute_result"
    }
   ],
   "source": [
    "# 이름과 직업 데이터 읽기 => 원소 단위로 읽기\n",
    "sr1[\"name\"], sr1[\"job\"], sr1[0], sr1[2], type(sr1[0]) # -> str 형태"
   ]
  },
  {
   "cell_type": "code",
   "execution_count": 17,
   "id": "0408fdd9-b3f7-485e-b770-8ea60dc6e076",
   "metadata": {},
   "outputs": [
    {
     "data": {
      "text/plain": [
       "(name    홍길동\n",
       " job      도적\n",
       " dtype: object,\n",
       " pandas.core.series.Series)"
      ]
     },
     "execution_count": 17,
     "metadata": {},
     "output_type": "execute_result"
    }
   ],
   "source": [
    "# 이름과 직업 데이터 읽기 => 리스트 단위로 읽기\n",
    "sr1[[\"name\", \"job\"]], type(sr1[[\"name\", \"job\"]]) # -> 시리즈 형태"
   ]
  },
  {
   "cell_type": "code",
   "execution_count": 18,
   "id": "441116f0-ed29-45cf-98a0-007fd9711d00",
   "metadata": {},
   "outputs": [
    {
     "data": {
      "text/plain": [
       "(name    홍길동\n",
       " age      12\n",
       " dtype: object,\n",
       " pandas.core.series.Series)"
      ]
     },
     "execution_count": 18,
     "metadata": {},
     "output_type": "execute_result"
    }
   ],
   "source": [
    "sr1[[0, 1]], type(sr1[[0, 1]]) # -> 시리즈 형태"
   ]
  },
  {
   "cell_type": "markdown",
   "id": "d9243193-e374-464b-95e7-6d118f7a980a",
   "metadata": {},
   "source": [
    "(4) 슬라이싱으로 원소 읽기 -------"
   ]
  },
  {
   "cell_type": "code",
   "execution_count": 19,
   "id": "2295874d-a879-4a68-9867-0dcc2c2a441a",
   "metadata": {},
   "outputs": [
    {
     "data": {
      "text/plain": [
       "name    홍길동\n",
       "age      12\n",
       "dtype: object"
      ]
     },
     "execution_count": 19,
     "metadata": {},
     "output_type": "execute_result"
    }
   ],
   "source": [
    "# 위치 인덱스로 슬라이싱 -------------\n",
    "sr1[:2]"
   ]
  },
  {
   "cell_type": "code",
   "execution_count": 21,
   "id": "c8d50b2e-a376-4198-8eae-5163b5e971d5",
   "metadata": {},
   "outputs": [
    {
     "data": {
      "text/plain": [
       "name    홍길동\n",
       "age      12\n",
       "dtype: object"
      ]
     },
     "execution_count": 21,
     "metadata": {},
     "output_type": "execute_result"
    }
   ],
   "source": [
    "sr1[:-1]"
   ]
  },
  {
   "cell_type": "markdown",
   "id": "b6d5f58a-06aa-4167-a6b1-e52e66ee14c7",
   "metadata": {},
   "source": [
    "(4) 슬라이싱으로 원소 읽기 ------- 레이블 인덱스로 슬라이싱  \n",
    "- 레이블 인덱스로 슬라이싱하면 뒤에 요소도 포함됨!! 주의할 것"
   ]
  },
  {
   "cell_type": "code",
   "execution_count": 23,
   "id": "0876f67d-5ed6-450e-81ea-b62a82d821bd",
   "metadata": {},
   "outputs": [
    {
     "data": {
      "text/plain": [
       "name    홍길동\n",
       "age      12\n",
       "job      도적\n",
       "dtype: object"
      ]
     },
     "execution_count": 23,
     "metadata": {},
     "output_type": "execute_result"
    }
   ],
   "source": [
    "sr1[\"name\" : \"job\"]"
   ]
  },
  {
   "cell_type": "code",
   "execution_count": 29,
   "id": "b9be1f1b-7531-4460-a8e0-445ea9742fee",
   "metadata": {},
   "outputs": [
    {
     "name": "stdout",
     "output_type": "stream",
     "text": [
      "   !\n",
      "4  1\n",
      "5  2\n",
      "6  3\n",
      "\n",
      "4    1\n",
      "5    2\n",
      "6    3\n",
      "dtype: int64\n"
     ]
    }
   ],
   "source": [
    "print(pd.DataFrame([1, 2, 3], [4, 5, 6], [\"!\"])) # 2차원\n",
    "print()\n",
    "print(pd.Series([1, 2, 3], [4, 5, 6])) # 1차원"
   ]
  },
  {
   "cell_type": "code",
   "execution_count": null,
   "id": "345761e0-59a6-48fd-af47-20e0b52b8d71",
   "metadata": {},
   "outputs": [],
   "source": []
  }
 ],
 "metadata": {
  "kernelspec": {
   "display_name": "Python 3 (ipykernel)",
   "language": "python",
   "name": "python3"
  },
  "language_info": {
   "codemirror_mode": {
    "name": "ipython",
    "version": 3
   },
   "file_extension": ".py",
   "mimetype": "text/x-python",
   "name": "python",
   "nbconvert_exporter": "python",
   "pygments_lexer": "ipython3",
   "version": "3.8.18"
  }
 },
 "nbformat": 4,
 "nbformat_minor": 5
}
