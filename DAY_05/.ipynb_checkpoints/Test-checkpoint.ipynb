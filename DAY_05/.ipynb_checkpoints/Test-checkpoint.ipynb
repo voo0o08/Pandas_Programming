{
 "cells": [
  {
   "cell_type": "code",
   "execution_count": 1,
   "id": "a48edbb9-34b8-462c-96f6-f4259dde4632",
   "metadata": {},
   "outputs": [],
   "source": [
    "import pandas as pd"
   ]
  },
  {
   "cell_type": "code",
   "execution_count": 2,
   "id": "d55094be-4334-4bdc-b87a-3e19deaf1e14",
   "metadata": {},
   "outputs": [],
   "source": [
    "mi = pd.MultiIndex.from_arrays([list('abb'), list('def')])"
   ]
  },
  {
   "cell_type": "code",
   "execution_count": 3,
   "id": "a048b358-64de-4c99-ab99-e5fd8af72048",
   "metadata": {},
   "outputs": [
    {
     "data": {
      "text/plain": [
       "MultiIndex([('a', 'd'),\n",
       "            ('b', 'e'),\n",
       "            ('b', 'f')],\n",
       "           )"
      ]
     },
     "execution_count": 3,
     "metadata": {},
     "output_type": "execute_result"
    }
   ],
   "source": [
    "mi"
   ]
  },
  {
   "cell_type": "code",
   "execution_count": 5,
   "id": "1997e39b-78ad-494b-ae6f-18e6c1a847be",
   "metadata": {},
   "outputs": [
    {
     "data": {
      "text/plain": [
       "slice(0, 1, None)"
      ]
     },
     "execution_count": 5,
     "metadata": {},
     "output_type": "execute_result"
    }
   ],
   "source": [
    "mi.get_loc('a') # -> start end"
   ]
  },
  {
   "cell_type": "code",
   "execution_count": 9,
   "id": "f3986772-b601-4bc3-8687-f835368f0d5c",
   "metadata": {},
   "outputs": [
    {
     "data": {
      "text/plain": [
       "slice(1, 3, None)"
      ]
     },
     "execution_count": 9,
     "metadata": {},
     "output_type": "execute_result"
    }
   ],
   "source": [
    "mi.get_loc('b')"
   ]
  },
  {
   "cell_type": "code",
   "execution_count": null,
   "id": "e6799be1-34fd-4295-a137-05a7da41e91a",
   "metadata": {},
   "outputs": [],
   "source": []
  }
 ],
 "metadata": {
  "kernelspec": {
   "display_name": "Python 3 (ipykernel)",
   "language": "python",
   "name": "python3"
  },
  "language_info": {
   "codemirror_mode": {
    "name": "ipython",
    "version": 3
   },
   "file_extension": ".py",
   "mimetype": "text/x-python",
   "name": "python",
   "nbconvert_exporter": "python",
   "pygments_lexer": "ipython3",
   "version": "3.8.18"
  }
 },
 "nbformat": 4,
 "nbformat_minor": 5
}
