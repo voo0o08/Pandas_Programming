{
 "cells": [
  {
   "cell_type": "markdown",
   "id": "866e3276-ec40-4c27-8c35-fe5904f0f3da",
   "metadata": {},
   "source": [
    "# [결측치 Missing Value 처리]\n",
    "- 데이터 미입력 또는 데이터 저장 과정에서 지워진 데이터\n",
    "- 빈칸 의미\n",
    "- 표시 : NaN (Not A Number) NaT (Not A Text)\n",
    "- 표현 : numpy.nan, math.nan을 사용"
   ]
  },
  {
   "cell_type": "markdown",
   "id": "4b19c922-650f-45a8-aebf-d1af4e5d9d4c",
   "metadata": {},
   "source": [
    "<hr>(1) 모듈 로딩"
   ]
  },
  {
   "cell_type": "code",
   "execution_count": 2,
   "id": "eee799b8-c202-4883-af5f-9de8ddd65fe7",
   "metadata": {},
   "outputs": [],
   "source": [
    " import pandas as pd"
   ]
  },
  {
   "cell_type": "markdown",
   "id": "501250fb-aa89-415d-82aa-995b84c3042d",
   "metadata": {},
   "source": [
    "<hr>(2) 데이터 준비"
   ]
  },
  {
   "cell_type": "code",
   "execution_count": 4,
   "id": "812b129f-31c4-472b-8459-44054ba5af27",
   "metadata": {},
   "outputs": [],
   "source": [
    "file = \"../DATA/employees.csv\""
   ]
  },
  {
   "cell_type": "markdown",
   "id": "fac90e4e-6df2-466e-a249-4f19cf3b8693",
   "metadata": {},
   "source": [
    "<hr>(3) 데이터 저장 : CSV => DF"
   ]
  },
  {
   "cell_type": "code",
   "execution_count": 5,
   "id": "66cd3c87-ad52-4452-a607-57c8d0c1aa27",
   "metadata": {},
   "outputs": [],
   "source": [
    "# 구분자:, 헤더: 첫번째 줄 컬럼명\n",
    "emDF = pd.read_csv(file)"
   ]
  },
  {
   "cell_type": "code",
   "execution_count": null,
   "id": "99c25a86-b27b-4647-92b6-65d94bd34299",
   "metadata": {},
   "outputs": [],
   "source": []
  }
 ],
 "metadata": {
  "kernelspec": {
   "display_name": "Python 3 (ipykernel)",
   "language": "python",
   "name": "python3"
  },
  "language_info": {
   "codemirror_mode": {
    "name": "ipython",
    "version": 3
   },
   "file_extension": ".py",
   "mimetype": "text/x-python",
   "name": "python",
   "nbconvert_exporter": "python",
   "pygments_lexer": "ipython3",
   "version": "3.8.18"
  }
 },
 "nbformat": 4,
 "nbformat_minor": 5
}
