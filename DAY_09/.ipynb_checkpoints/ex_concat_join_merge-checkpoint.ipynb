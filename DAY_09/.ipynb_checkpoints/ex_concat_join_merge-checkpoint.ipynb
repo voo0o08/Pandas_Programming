{
 "cells": [
  {
   "cell_type": "markdown",
   "id": "4ceec833",
   "metadata": {},
   "source": [
    "# [데이터 병합/연결/조인]\n",
    "[concat](https://pandas.pydata.org/docs/user_guide/merging.html#concat)\n",
    "![concat](https://pandas.pydata.org/docs/_images/merging_concat_basic.png)\n",
    "- 여러 개의 SR/DF 객체의 데이터를 합치는 방법\n",
    "\n",
    "- concat은 데이터 프레임 두 개를 단순히 합칠 때 사용한다.\n",
    "- concat이 단순히 두 데이터 프레임을 합치는 거라면, merge는 두 데이터 프레임을 공통된 항목을 기준으로 합치는 것이다.\n",
    "- join은 행인덱스 기준으로만"
   ]
  },
  {
   "cell_type": "markdown",
   "id": "2a46ba95",
   "metadata": {},
   "source": [
    "## <hr> 1. 모듈로딩"
   ]
  },
  {
   "cell_type": "code",
   "execution_count": 2,
   "id": "fc2852b2",
   "metadata": {},
   "outputs": [],
   "source": [
    "import pandas as pd"
   ]
  },
  {
   "cell_type": "markdown",
   "id": "a8b7d915",
   "metadata": {},
   "source": [
    "## <hr> 2. 데이터 준비"
   ]
  },
  {
   "cell_type": "code",
   "execution_count": 3,
   "id": "cda425d2",
   "metadata": {},
   "outputs": [],
   "source": [
    "datas1 = {\"name\":[\"홍 길동\", \"이 나영\", \"마 징가\", \"베 토벤\"],\n",
    "        \"age\" : [10, 21, 73, 89],\n",
    "        \"reg_date\" : [\"2000/1/23\", \"1991/11/8\", \"2001/5/8\", \"1900/11/12\"]}\n",
    "datas2 = [[\"홍 길동\", \"이 나영\", \"마 징가\", \"베 토벤\"],\n",
    "        [10, 21, 73, 89],\n",
    "        [\"2000/1/23\", \"1991/11/8\", \"2001/5/8\", \"1900/11/12\"]]"
   ]
  },
  {
   "cell_type": "markdown",
   "id": "2e66ab01",
   "metadata": {},
   "source": [
    "## <hr> 3. 데이터 저장"
   ]
  },
  {
   "cell_type": "code",
   "execution_count": 4,
   "id": "90040adc",
   "metadata": {},
   "outputs": [
    {
     "data": {
      "text/html": [
       "<div>\n",
       "<style scoped>\n",
       "    .dataframe tbody tr th:only-of-type {\n",
       "        vertical-align: middle;\n",
       "    }\n",
       "\n",
       "    .dataframe tbody tr th {\n",
       "        vertical-align: top;\n",
       "    }\n",
       "\n",
       "    .dataframe thead th {\n",
       "        text-align: right;\n",
       "    }\n",
       "</style>\n",
       "<table border=\"1\" class=\"dataframe\">\n",
       "  <thead>\n",
       "    <tr style=\"text-align: right;\">\n",
       "      <th></th>\n",
       "      <th>name</th>\n",
       "      <th>age</th>\n",
       "      <th>reg_date</th>\n",
       "    </tr>\n",
       "  </thead>\n",
       "  <tbody>\n",
       "    <tr>\n",
       "      <th>0</th>\n",
       "      <td>홍 길동</td>\n",
       "      <td>10</td>\n",
       "      <td>2000/1/23</td>\n",
       "    </tr>\n",
       "    <tr>\n",
       "      <th>1</th>\n",
       "      <td>이 나영</td>\n",
       "      <td>21</td>\n",
       "      <td>1991/11/8</td>\n",
       "    </tr>\n",
       "    <tr>\n",
       "      <th>2</th>\n",
       "      <td>마 징가</td>\n",
       "      <td>73</td>\n",
       "      <td>2001/5/8</td>\n",
       "    </tr>\n",
       "    <tr>\n",
       "      <th>3</th>\n",
       "      <td>베 토벤</td>\n",
       "      <td>89</td>\n",
       "      <td>1900/11/12</td>\n",
       "    </tr>\n",
       "  </tbody>\n",
       "</table>\n",
       "</div>"
      ],
      "text/plain": [
       "   name  age    reg_date\n",
       "0  홍 길동   10   2000/1/23\n",
       "1  이 나영   21   1991/11/8\n",
       "2  마 징가   73    2001/5/8\n",
       "3  베 토벤   89  1900/11/12"
      ]
     },
     "execution_count": 4,
     "metadata": {},
     "output_type": "execute_result"
    }
   ],
   "source": [
    "# Dict -> DF\n",
    "df1 = pd.DataFrame(datas1)\n",
    "df1"
   ]
  },
  {
   "cell_type": "code",
   "execution_count": 5,
   "id": "3cf0c936",
   "metadata": {},
   "outputs": [
    {
     "data": {
      "text/html": [
       "<div>\n",
       "<style scoped>\n",
       "    .dataframe tbody tr th:only-of-type {\n",
       "        vertical-align: middle;\n",
       "    }\n",
       "\n",
       "    .dataframe tbody tr th {\n",
       "        vertical-align: top;\n",
       "    }\n",
       "\n",
       "    .dataframe thead th {\n",
       "        text-align: right;\n",
       "    }\n",
       "</style>\n",
       "<table border=\"1\" class=\"dataframe\">\n",
       "  <thead>\n",
       "    <tr style=\"text-align: right;\">\n",
       "      <th></th>\n",
       "      <th>0</th>\n",
       "      <th>1</th>\n",
       "      <th>2</th>\n",
       "      <th>3</th>\n",
       "    </tr>\n",
       "  </thead>\n",
       "  <tbody>\n",
       "    <tr>\n",
       "      <th>0</th>\n",
       "      <td>홍 길동</td>\n",
       "      <td>이 나영</td>\n",
       "      <td>마 징가</td>\n",
       "      <td>베 토벤</td>\n",
       "    </tr>\n",
       "    <tr>\n",
       "      <th>1</th>\n",
       "      <td>10</td>\n",
       "      <td>21</td>\n",
       "      <td>73</td>\n",
       "      <td>89</td>\n",
       "    </tr>\n",
       "    <tr>\n",
       "      <th>2</th>\n",
       "      <td>2000/1/23</td>\n",
       "      <td>1991/11/8</td>\n",
       "      <td>2001/5/8</td>\n",
       "      <td>1900/11/12</td>\n",
       "    </tr>\n",
       "  </tbody>\n",
       "</table>\n",
       "</div>"
      ],
      "text/plain": [
       "           0          1         2           3\n",
       "0       홍 길동       이 나영      마 징가        베 토벤\n",
       "1         10         21        73          89\n",
       "2  2000/1/23  1991/11/8  2001/5/8  1900/11/12"
      ]
     },
     "execution_count": 5,
     "metadata": {},
     "output_type": "execute_result"
    }
   ],
   "source": [
    "# List -> DF\n",
    "df2 = pd.DataFrame(datas2)\n",
    "df2"
   ]
  },
  {
   "cell_type": "markdown",
   "id": "6e85dd22",
   "metadata": {},
   "source": [
    "## <hr> 4. 데이터 정보 확인"
   ]
  },
  {
   "cell_type": "code",
   "execution_count": 6,
   "id": "0ac1b719",
   "metadata": {},
   "outputs": [
    {
     "name": "stdout",
     "output_type": "stream",
     "text": [
      "<class 'pandas.core.frame.DataFrame'>\n",
      "RangeIndex: 4 entries, 0 to 3\n",
      "Data columns (total 3 columns):\n",
      " #   Column    Non-Null Count  Dtype \n",
      "---  ------    --------------  ----- \n",
      " 0   name      4 non-null      object\n",
      " 1   age       4 non-null      int64 \n",
      " 2   reg_date  4 non-null      object\n",
      "dtypes: int64(1), object(2)\n",
      "memory usage: 224.0+ bytes\n"
     ]
    }
   ],
   "source": [
    "# 데이터의 전체 기본 정보 확인\n",
    "df1.info()\n"
   ]
  },
  {
   "cell_type": "markdown",
   "id": "04b623db",
   "metadata": {},
   "source": [
    "## <hr> 5. 데이터 전처리"
   ]
  },
  {
   "cell_type": "code",
   "execution_count": 7,
   "id": "c2b2d079",
   "metadata": {},
   "outputs": [
    {
     "data": {
      "text/html": [
       "<div>\n",
       "<style scoped>\n",
       "    .dataframe tbody tr th:only-of-type {\n",
       "        vertical-align: middle;\n",
       "    }\n",
       "\n",
       "    .dataframe tbody tr th {\n",
       "        vertical-align: top;\n",
       "    }\n",
       "\n",
       "    .dataframe thead th {\n",
       "        text-align: right;\n",
       "    }\n",
       "</style>\n",
       "<table border=\"1\" class=\"dataframe\">\n",
       "  <thead>\n",
       "    <tr style=\"text-align: right;\">\n",
       "      <th></th>\n",
       "      <th>0</th>\n",
       "      <th>1</th>\n",
       "      <th>2</th>\n",
       "      <th>3</th>\n",
       "    </tr>\n",
       "  </thead>\n",
       "  <tbody>\n",
       "    <tr>\n",
       "      <th>name</th>\n",
       "      <td>홍 길동</td>\n",
       "      <td>이 나영</td>\n",
       "      <td>마 징가</td>\n",
       "      <td>베 토벤</td>\n",
       "    </tr>\n",
       "    <tr>\n",
       "      <th>age</th>\n",
       "      <td>10</td>\n",
       "      <td>21</td>\n",
       "      <td>73</td>\n",
       "      <td>89</td>\n",
       "    </tr>\n",
       "    <tr>\n",
       "      <th>reg_date</th>\n",
       "      <td>2000/1/23</td>\n",
       "      <td>1991/11/8</td>\n",
       "      <td>2001/5/8</td>\n",
       "      <td>1900/11/12</td>\n",
       "    </tr>\n",
       "  </tbody>\n",
       "</table>\n",
       "</div>"
      ],
      "text/plain": [
       "                  0          1         2           3\n",
       "name           홍 길동       이 나영      마 징가        베 토벤\n",
       "age              10         21        73          89\n",
       "reg_date  2000/1/23  1991/11/8  2001/5/8  1900/11/12"
      ]
     },
     "execution_count": 7,
     "metadata": {},
     "output_type": "execute_result"
    }
   ],
   "source": [
    "df1.transpose()"
   ]
  },
  {
   "cell_type": "code",
   "execution_count": 8,
   "id": "9d70444e",
   "metadata": {},
   "outputs": [
    {
     "data": {
      "text/html": [
       "<div>\n",
       "<style scoped>\n",
       "    .dataframe tbody tr th:only-of-type {\n",
       "        vertical-align: middle;\n",
       "    }\n",
       "\n",
       "    .dataframe tbody tr th {\n",
       "        vertical-align: top;\n",
       "    }\n",
       "\n",
       "    .dataframe thead th {\n",
       "        text-align: right;\n",
       "    }\n",
       "</style>\n",
       "<table border=\"1\" class=\"dataframe\">\n",
       "  <thead>\n",
       "    <tr style=\"text-align: right;\">\n",
       "      <th></th>\n",
       "      <th>0</th>\n",
       "      <th>1</th>\n",
       "      <th>2</th>\n",
       "    </tr>\n",
       "  </thead>\n",
       "  <tbody>\n",
       "    <tr>\n",
       "      <th>0</th>\n",
       "      <td>홍 길동</td>\n",
       "      <td>10</td>\n",
       "      <td>2000/1/23</td>\n",
       "    </tr>\n",
       "    <tr>\n",
       "      <th>1</th>\n",
       "      <td>이 나영</td>\n",
       "      <td>21</td>\n",
       "      <td>1991/11/8</td>\n",
       "    </tr>\n",
       "    <tr>\n",
       "      <th>2</th>\n",
       "      <td>마 징가</td>\n",
       "      <td>73</td>\n",
       "      <td>2001/5/8</td>\n",
       "    </tr>\n",
       "    <tr>\n",
       "      <th>3</th>\n",
       "      <td>베 토벤</td>\n",
       "      <td>89</td>\n",
       "      <td>1900/11/12</td>\n",
       "    </tr>\n",
       "  </tbody>\n",
       "</table>\n",
       "</div>"
      ],
      "text/plain": [
       "      0   1           2\n",
       "0  홍 길동  10   2000/1/23\n",
       "1  이 나영  21   1991/11/8\n",
       "2  마 징가  73    2001/5/8\n",
       "3  베 토벤  89  1900/11/12"
      ]
     },
     "execution_count": 8,
     "metadata": {},
     "output_type": "execute_result"
    }
   ],
   "source": [
    "df1.columns = [0, 1, 2]\n",
    "df1"
   ]
  },
  {
   "cell_type": "code",
   "execution_count": 9,
   "id": "5a0f4c1f",
   "metadata": {},
   "outputs": [],
   "source": [
    "# 1번 컬럼 : object => 정수 \n",
    "df1[1] = df1[1].astype(\"uint8\")"
   ]
  },
  {
   "cell_type": "code",
   "execution_count": 10,
   "id": "bc030ee5",
   "metadata": {},
   "outputs": [
    {
     "data": {
      "text/plain": [
       "dtype('uint8')"
      ]
     },
     "execution_count": 10,
     "metadata": {},
     "output_type": "execute_result"
    }
   ],
   "source": [
    "df1[1].dtypes"
   ]
  },
  {
   "cell_type": "code",
   "execution_count": 11,
   "id": "6d39c09c",
   "metadata": {},
   "outputs": [],
   "source": [
    "# 2번 컬럼 : object -> datetme64[ns] (astype 혹은 to_datetime)\n",
    "df1[2] = df1[2].astype(\"datetime64[ns]\")"
   ]
  },
  {
   "cell_type": "code",
   "execution_count": 12,
   "id": "ec76c7e8",
   "metadata": {},
   "outputs": [
    {
     "name": "stdout",
     "output_type": "stream",
     "text": [
      "<class 'pandas.core.frame.DataFrame'>\n",
      "RangeIndex: 4 entries, 0 to 3\n",
      "Data columns (total 3 columns):\n",
      " #   Column  Non-Null Count  Dtype         \n",
      "---  ------  --------------  -----         \n",
      " 0   0       4 non-null      object        \n",
      " 1   1       4 non-null      uint8         \n",
      " 2   2       4 non-null      datetime64[ns]\n",
      "dtypes: datetime64[ns](1), object(1), uint8(1)\n",
      "memory usage: 196.0+ bytes\n"
     ]
    }
   ],
   "source": [
    "df1.info()"
   ]
  },
  {
   "cell_type": "code",
   "execution_count": 13,
   "id": "8c480b25",
   "metadata": {},
   "outputs": [
    {
     "data": {
      "text/plain": [
       "0            object\n",
       "1             uint8\n",
       "2    datetime64[ns]\n",
       "dtype: object"
      ]
     },
     "execution_count": 13,
     "metadata": {},
     "output_type": "execute_result"
    }
   ],
   "source": [
    "df1.dtypes"
   ]
  },
  {
   "cell_type": "code",
   "execution_count": 14,
   "id": "b57c3415",
   "metadata": {},
   "outputs": [],
   "source": [
    "# 0번 컬럼 성과 이름으로 구분하기 \n",
    "nameSR = df1[0] # SR "
   ]
  },
  {
   "cell_type": "code",
   "execution_count": 15,
   "id": "01d3b2c4",
   "metadata": {},
   "outputs": [
    {
     "data": {
      "text/plain": [
       "str"
      ]
     },
     "execution_count": 15,
     "metadata": {},
     "output_type": "execute_result"
    }
   ],
   "source": [
    "type(nameSR[1])"
   ]
  },
  {
   "cell_type": "code",
   "execution_count": 16,
   "id": "e78b98e4",
   "metadata": {},
   "outputs": [
    {
     "data": {
      "text/plain": [
       "['이', '나영']"
      ]
     },
     "execution_count": 16,
     "metadata": {},
     "output_type": "execute_result"
    }
   ],
   "source": [
    "nameSR[1].split()"
   ]
  },
  {
   "cell_type": "code",
   "execution_count": 17,
   "id": "9929c106",
   "metadata": {},
   "outputs": [
    {
     "data": {
      "text/plain": [
       "'\\nfor idx in range(nameSR.shape[0]):\\n    nameSR[idx] = nameSR[idx].split()\\nnameSR\\n'"
      ]
     },
     "execution_count": 17,
     "metadata": {},
     "output_type": "execute_result"
    }
   ],
   "source": [
    "'''\n",
    "for idx in range(nameSR.shape[0]):\n",
    "    nameSR[idx] = nameSR[idx].split()\n",
    "nameSR\n",
    "'''"
   ]
  },
  {
   "cell_type": "code",
   "execution_count": 18,
   "id": "b89d96c9",
   "metadata": {},
   "outputs": [
    {
     "data": {
      "text/html": [
       "<div>\n",
       "<style scoped>\n",
       "    .dataframe tbody tr th:only-of-type {\n",
       "        vertical-align: middle;\n",
       "    }\n",
       "\n",
       "    .dataframe tbody tr th {\n",
       "        vertical-align: top;\n",
       "    }\n",
       "\n",
       "    .dataframe thead th {\n",
       "        text-align: right;\n",
       "    }\n",
       "</style>\n",
       "<table border=\"1\" class=\"dataframe\">\n",
       "  <thead>\n",
       "    <tr style=\"text-align: right;\">\n",
       "      <th></th>\n",
       "      <th>0</th>\n",
       "      <th>1</th>\n",
       "    </tr>\n",
       "  </thead>\n",
       "  <tbody>\n",
       "    <tr>\n",
       "      <th>0</th>\n",
       "      <td>홍</td>\n",
       "      <td>길동</td>\n",
       "    </tr>\n",
       "    <tr>\n",
       "      <th>1</th>\n",
       "      <td>이</td>\n",
       "      <td>나영</td>\n",
       "    </tr>\n",
       "    <tr>\n",
       "      <th>2</th>\n",
       "      <td>마</td>\n",
       "      <td>징가</td>\n",
       "    </tr>\n",
       "    <tr>\n",
       "      <th>3</th>\n",
       "      <td>베</td>\n",
       "      <td>토벤</td>\n",
       "    </tr>\n",
       "  </tbody>\n",
       "</table>\n",
       "</div>"
      ],
      "text/plain": [
       "   0   1\n",
       "0  홍  길동\n",
       "1  이  나영\n",
       "2  마  징가\n",
       "3  베  토벤"
      ]
     },
     "execution_count": 18,
     "metadata": {},
     "output_type": "execute_result"
    }
   ],
   "source": [
    "#for n in  df1[0]:\n",
    "  #  f, b = n.split()\n",
    "names = nameSR.str.split(expand=True)\n",
    "names"
   ]
  },
  {
   "cell_type": "code",
   "execution_count": 19,
   "id": "e58a051f",
   "metadata": {},
   "outputs": [
    {
     "data": {
      "text/html": [
       "<div>\n",
       "<style scoped>\n",
       "    .dataframe tbody tr th:only-of-type {\n",
       "        vertical-align: middle;\n",
       "    }\n",
       "\n",
       "    .dataframe tbody tr th {\n",
       "        vertical-align: top;\n",
       "    }\n",
       "\n",
       "    .dataframe thead th {\n",
       "        text-align: right;\n",
       "    }\n",
       "</style>\n",
       "<table border=\"1\" class=\"dataframe\">\n",
       "  <thead>\n",
       "    <tr style=\"text-align: right;\">\n",
       "      <th></th>\n",
       "      <th>0</th>\n",
       "      <th>1</th>\n",
       "      <th>2</th>\n",
       "    </tr>\n",
       "  </thead>\n",
       "  <tbody>\n",
       "    <tr>\n",
       "      <th>0</th>\n",
       "      <td>홍 길동</td>\n",
       "      <td>10</td>\n",
       "      <td>2000-01-23</td>\n",
       "    </tr>\n",
       "    <tr>\n",
       "      <th>1</th>\n",
       "      <td>이 나영</td>\n",
       "      <td>21</td>\n",
       "      <td>1991-11-08</td>\n",
       "    </tr>\n",
       "    <tr>\n",
       "      <th>2</th>\n",
       "      <td>마 징가</td>\n",
       "      <td>73</td>\n",
       "      <td>2001-05-08</td>\n",
       "    </tr>\n",
       "    <tr>\n",
       "      <th>3</th>\n",
       "      <td>베 토벤</td>\n",
       "      <td>89</td>\n",
       "      <td>1900-11-12</td>\n",
       "    </tr>\n",
       "  </tbody>\n",
       "</table>\n",
       "</div>"
      ],
      "text/plain": [
       "      0   1          2\n",
       "0  홍 길동  10 2000-01-23\n",
       "1  이 나영  21 1991-11-08\n",
       "2  마 징가  73 2001-05-08\n",
       "3  베 토벤  89 1900-11-12"
      ]
     },
     "execution_count": 19,
     "metadata": {},
     "output_type": "execute_result"
    }
   ],
   "source": [
    "df1"
   ]
  },
  {
   "cell_type": "markdown",
   "id": "63095266",
   "metadata": {},
   "source": [
    "우리의 목적은 df1에 0번을 names로 바꿔치기 하는 것"
   ]
  },
  {
   "cell_type": "markdown",
   "id": "9fc4802a",
   "metadata": {},
   "source": [
    "### 5-(4) 2개의 데이터 프레임을 컬럼방향으로 연결하고 싶음 "
   ]
  },
  {
   "cell_type": "code",
   "execution_count": 20,
   "id": "739fde94",
   "metadata": {},
   "outputs": [
    {
     "data": {
      "text/html": [
       "<div>\n",
       "<style scoped>\n",
       "    .dataframe tbody tr th:only-of-type {\n",
       "        vertical-align: middle;\n",
       "    }\n",
       "\n",
       "    .dataframe tbody tr th {\n",
       "        vertical-align: top;\n",
       "    }\n",
       "\n",
       "    .dataframe thead th {\n",
       "        text-align: right;\n",
       "    }\n",
       "</style>\n",
       "<table border=\"1\" class=\"dataframe\">\n",
       "  <thead>\n",
       "    <tr style=\"text-align: right;\">\n",
       "      <th></th>\n",
       "      <th>0</th>\n",
       "      <th>1</th>\n",
       "      <th>2</th>\n",
       "      <th>0</th>\n",
       "      <th>1</th>\n",
       "    </tr>\n",
       "  </thead>\n",
       "  <tbody>\n",
       "    <tr>\n",
       "      <th>0</th>\n",
       "      <td>홍 길동</td>\n",
       "      <td>10</td>\n",
       "      <td>2000-01-23</td>\n",
       "      <td>홍</td>\n",
       "      <td>길동</td>\n",
       "    </tr>\n",
       "    <tr>\n",
       "      <th>1</th>\n",
       "      <td>이 나영</td>\n",
       "      <td>21</td>\n",
       "      <td>1991-11-08</td>\n",
       "      <td>이</td>\n",
       "      <td>나영</td>\n",
       "    </tr>\n",
       "    <tr>\n",
       "      <th>2</th>\n",
       "      <td>마 징가</td>\n",
       "      <td>73</td>\n",
       "      <td>2001-05-08</td>\n",
       "      <td>마</td>\n",
       "      <td>징가</td>\n",
       "    </tr>\n",
       "    <tr>\n",
       "      <th>3</th>\n",
       "      <td>베 토벤</td>\n",
       "      <td>89</td>\n",
       "      <td>1900-11-12</td>\n",
       "      <td>베</td>\n",
       "      <td>토벤</td>\n",
       "    </tr>\n",
       "  </tbody>\n",
       "</table>\n",
       "</div>"
      ],
      "text/plain": [
       "      0   1          2  0   1\n",
       "0  홍 길동  10 2000-01-23  홍  길동\n",
       "1  이 나영  21 1991-11-08  이  나영\n",
       "2  마 징가  73 2001-05-08  마  징가\n",
       "3  베 토벤  89 1900-11-12  베  토벤"
      ]
     },
     "execution_count": 20,
     "metadata": {},
     "output_type": "execute_result"
    }
   ],
   "source": [
    "pd.concat([df1, names], axis=True)"
   ]
  },
  {
   "cell_type": "code",
   "execution_count": 21,
   "id": "74c3c37a",
   "metadata": {},
   "outputs": [
    {
     "data": {
      "text/html": [
       "<div>\n",
       "<style scoped>\n",
       "    .dataframe tbody tr th:only-of-type {\n",
       "        vertical-align: middle;\n",
       "    }\n",
       "\n",
       "    .dataframe tbody tr th {\n",
       "        vertical-align: top;\n",
       "    }\n",
       "\n",
       "    .dataframe thead th {\n",
       "        text-align: right;\n",
       "    }\n",
       "</style>\n",
       "<table border=\"1\" class=\"dataframe\">\n",
       "  <thead>\n",
       "    <tr style=\"text-align: right;\">\n",
       "      <th></th>\n",
       "      <th>0</th>\n",
       "      <th>1</th>\n",
       "      <th>2</th>\n",
       "      <th>3</th>\n",
       "      <th>4</th>\n",
       "    </tr>\n",
       "  </thead>\n",
       "  <tbody>\n",
       "    <tr>\n",
       "      <th>0</th>\n",
       "      <td>홍 길동</td>\n",
       "      <td>10</td>\n",
       "      <td>2000-01-23</td>\n",
       "      <td>홍</td>\n",
       "      <td>길동</td>\n",
       "    </tr>\n",
       "    <tr>\n",
       "      <th>1</th>\n",
       "      <td>이 나영</td>\n",
       "      <td>21</td>\n",
       "      <td>1991-11-08</td>\n",
       "      <td>이</td>\n",
       "      <td>나영</td>\n",
       "    </tr>\n",
       "    <tr>\n",
       "      <th>2</th>\n",
       "      <td>마 징가</td>\n",
       "      <td>73</td>\n",
       "      <td>2001-05-08</td>\n",
       "      <td>마</td>\n",
       "      <td>징가</td>\n",
       "    </tr>\n",
       "    <tr>\n",
       "      <th>3</th>\n",
       "      <td>베 토벤</td>\n",
       "      <td>89</td>\n",
       "      <td>1900-11-12</td>\n",
       "      <td>베</td>\n",
       "      <td>토벤</td>\n",
       "    </tr>\n",
       "  </tbody>\n",
       "</table>\n",
       "</div>"
      ],
      "text/plain": [
       "      0   1          2  3   4\n",
       "0  홍 길동  10 2000-01-23  홍  길동\n",
       "1  이 나영  21 1991-11-08  이  나영\n",
       "2  마 징가  73 2001-05-08  마  징가\n",
       "3  베 토벤  89 1900-11-12  베  토벤"
      ]
     },
     "execution_count": 21,
     "metadata": {},
     "output_type": "execute_result"
    }
   ],
   "source": [
    "pd.concat([df1, names], axis=True, ignore_index=True)"
   ]
  },
  {
   "cell_type": "code",
   "execution_count": 22,
   "id": "a9556b12-d220-40fc-8937-b1c222892195",
   "metadata": {},
   "outputs": [],
   "source": [
    "### 5-(5) 두 개의 DataFrame을 행(row) 방향으로 연결 "
   ]
  },
  {
   "cell_type": "code",
   "execution_count": 24,
   "id": "9658ce92-2a3f-4d97-9de1-85523d34f5c2",
   "metadata": {},
   "outputs": [
    {
     "data": {
      "text/html": [
       "<div>\n",
       "<style scoped>\n",
       "    .dataframe tbody tr th:only-of-type {\n",
       "        vertical-align: middle;\n",
       "    }\n",
       "\n",
       "    .dataframe tbody tr th {\n",
       "        vertical-align: top;\n",
       "    }\n",
       "\n",
       "    .dataframe thead th {\n",
       "        text-align: right;\n",
       "    }\n",
       "</style>\n",
       "<table border=\"1\" class=\"dataframe\">\n",
       "  <thead>\n",
       "    <tr style=\"text-align: right;\">\n",
       "      <th></th>\n",
       "      <th>0</th>\n",
       "      <th>1</th>\n",
       "      <th>2</th>\n",
       "    </tr>\n",
       "  </thead>\n",
       "  <tbody>\n",
       "    <tr>\n",
       "      <th>0</th>\n",
       "      <td>홍 길동</td>\n",
       "      <td>10</td>\n",
       "      <td>2000-01-23</td>\n",
       "    </tr>\n",
       "    <tr>\n",
       "      <th>1</th>\n",
       "      <td>이 나영</td>\n",
       "      <td>21</td>\n",
       "      <td>1991-11-08</td>\n",
       "    </tr>\n",
       "    <tr>\n",
       "      <th>2</th>\n",
       "      <td>마 징가</td>\n",
       "      <td>73</td>\n",
       "      <td>2001-05-08</td>\n",
       "    </tr>\n",
       "    <tr>\n",
       "      <th>3</th>\n",
       "      <td>베 토벤</td>\n",
       "      <td>89</td>\n",
       "      <td>1900-11-12</td>\n",
       "    </tr>\n",
       "    <tr>\n",
       "      <th>0</th>\n",
       "      <td>홍</td>\n",
       "      <td>길동</td>\n",
       "      <td>NaT</td>\n",
       "    </tr>\n",
       "    <tr>\n",
       "      <th>1</th>\n",
       "      <td>이</td>\n",
       "      <td>나영</td>\n",
       "      <td>NaT</td>\n",
       "    </tr>\n",
       "    <tr>\n",
       "      <th>2</th>\n",
       "      <td>마</td>\n",
       "      <td>징가</td>\n",
       "      <td>NaT</td>\n",
       "    </tr>\n",
       "    <tr>\n",
       "      <th>3</th>\n",
       "      <td>베</td>\n",
       "      <td>토벤</td>\n",
       "      <td>NaT</td>\n",
       "    </tr>\n",
       "  </tbody>\n",
       "</table>\n",
       "</div>"
      ],
      "text/plain": [
       "      0   1          2\n",
       "0  홍 길동  10 2000-01-23\n",
       "1  이 나영  21 1991-11-08\n",
       "2  마 징가  73 2001-05-08\n",
       "3  베 토벤  89 1900-11-12\n",
       "0     홍  길동        NaT\n",
       "1     이  나영        NaT\n",
       "2     마  징가        NaT\n",
       "3     베  토벤        NaT"
      ]
     },
     "execution_count": 24,
     "metadata": {},
     "output_type": "execute_result"
    }
   ],
   "source": [
    "# 여러개의 DF/ SR을 연결 시에 모든 동일 컬럼명/행인덱스 연결 시켜주는 방식 => outer\n",
    "pd.concat([df1, names])"
   ]
  },
  {
   "cell_type": "code",
   "execution_count": 25,
   "id": "08bdb070-760f-4ec5-a774-9b6e02ce0678",
   "metadata": {},
   "outputs": [
    {
     "data": {
      "text/html": [
       "<div>\n",
       "<style scoped>\n",
       "    .dataframe tbody tr th:only-of-type {\n",
       "        vertical-align: middle;\n",
       "    }\n",
       "\n",
       "    .dataframe tbody tr th {\n",
       "        vertical-align: top;\n",
       "    }\n",
       "\n",
       "    .dataframe thead th {\n",
       "        text-align: right;\n",
       "    }\n",
       "</style>\n",
       "<table border=\"1\" class=\"dataframe\">\n",
       "  <thead>\n",
       "    <tr style=\"text-align: right;\">\n",
       "      <th></th>\n",
       "      <th>0</th>\n",
       "      <th>1</th>\n",
       "    </tr>\n",
       "  </thead>\n",
       "  <tbody>\n",
       "    <tr>\n",
       "      <th>0</th>\n",
       "      <td>홍 길동</td>\n",
       "      <td>10</td>\n",
       "    </tr>\n",
       "    <tr>\n",
       "      <th>1</th>\n",
       "      <td>이 나영</td>\n",
       "      <td>21</td>\n",
       "    </tr>\n",
       "    <tr>\n",
       "      <th>2</th>\n",
       "      <td>마 징가</td>\n",
       "      <td>73</td>\n",
       "    </tr>\n",
       "    <tr>\n",
       "      <th>3</th>\n",
       "      <td>베 토벤</td>\n",
       "      <td>89</td>\n",
       "    </tr>\n",
       "    <tr>\n",
       "      <th>0</th>\n",
       "      <td>홍</td>\n",
       "      <td>길동</td>\n",
       "    </tr>\n",
       "    <tr>\n",
       "      <th>1</th>\n",
       "      <td>이</td>\n",
       "      <td>나영</td>\n",
       "    </tr>\n",
       "    <tr>\n",
       "      <th>2</th>\n",
       "      <td>마</td>\n",
       "      <td>징가</td>\n",
       "    </tr>\n",
       "    <tr>\n",
       "      <th>3</th>\n",
       "      <td>베</td>\n",
       "      <td>토벤</td>\n",
       "    </tr>\n",
       "  </tbody>\n",
       "</table>\n",
       "</div>"
      ],
      "text/plain": [
       "      0   1\n",
       "0  홍 길동  10\n",
       "1  이 나영  21\n",
       "2  마 징가  73\n",
       "3  베 토벤  89\n",
       "0     홍  길동\n",
       "1     이  나영\n",
       "2     마  징가\n",
       "3     베  토벤"
      ]
     },
     "execution_count": 25,
     "metadata": {},
     "output_type": "execute_result"
    }
   ],
   "source": [
    "# 여러개의 DF/ SR을 연결 시에 동일 컬럼명/행인덱스 연결 시켜주는 방식 => inner\n",
    "pd.concat([df1, names], join = \"inner\")"
   ]
  },
  {
   "cell_type": "markdown",
   "id": "07763ee4-e7c3-42ba-a502-2816a82ee872",
   "metadata": {},
   "source": [
    "## [merge]\n",
    "- 2개의 DF에서 특정 컬럼을 기준으로 데이터를 합치는 것\n",
    "- 기준 컬럼 지정 필요\n",
    "- 지정된 컬럼 없으면 컬럼명을 기준으로 합쳐짐 "
   ]
  },
  {
   "cell_type": "code",
   "execution_count": null,
   "id": "3009c2ab-3d38-4fdf-b5ea-76061a622527",
   "metadata": {},
   "outputs": [],
   "source": [
    "merge(df_left, df_right, how='inner', on=None, left=왼쪽 키, right=오른쪽 키)"
   ]
  },
  {
   "cell_type": "code",
   "execution_count": 26,
   "id": "b7b32902-6509-46bb-9523-3ecc64717d0c",
   "metadata": {},
   "outputs": [],
   "source": [
    "f1 = \"../DATA/stock price.xlsx\"\n",
    "f2 = \"../DATA/stock valuation.xlsx\""
   ]
  },
  {
   "cell_type": "code",
   "execution_count": 31,
   "id": "2f58f5d6-85f0-46a4-8bb0-d58db9556d01",
   "metadata": {},
   "outputs": [
    {
     "data": {
      "text/html": [
       "<div>\n",
       "<style scoped>\n",
       "    .dataframe tbody tr th:only-of-type {\n",
       "        vertical-align: middle;\n",
       "    }\n",
       "\n",
       "    .dataframe tbody tr th {\n",
       "        vertical-align: top;\n",
       "    }\n",
       "\n",
       "    .dataframe thead th {\n",
       "        text-align: right;\n",
       "    }\n",
       "</style>\n",
       "<table border=\"1\" class=\"dataframe\">\n",
       "  <thead>\n",
       "    <tr style=\"text-align: right;\">\n",
       "      <th></th>\n",
       "      <th>id</th>\n",
       "      <th>stock_name</th>\n",
       "      <th>value</th>\n",
       "      <th>price</th>\n",
       "    </tr>\n",
       "  </thead>\n",
       "  <tbody>\n",
       "    <tr>\n",
       "      <th>0</th>\n",
       "      <td>128940</td>\n",
       "      <td>한미약품</td>\n",
       "      <td>59385.666667</td>\n",
       "      <td>421000.0</td>\n",
       "    </tr>\n",
       "    <tr>\n",
       "      <th>1</th>\n",
       "      <td>138040</td>\n",
       "      <td>메리츠금융지주</td>\n",
       "      <td>827.500000</td>\n",
       "      <td>NaN</td>\n",
       "    </tr>\n",
       "    <tr>\n",
       "      <th>2</th>\n",
       "      <td>130960</td>\n",
       "      <td>CJ E&amp;M</td>\n",
       "      <td>58540.666667</td>\n",
       "      <td>98900.0</td>\n",
       "    </tr>\n",
       "    <tr>\n",
       "      <th>3</th>\n",
       "      <td>138250</td>\n",
       "      <td>엔에스쇼핑</td>\n",
       "      <td>14558.666667</td>\n",
       "      <td>13200.0</td>\n",
       "    </tr>\n",
       "    <tr>\n",
       "      <th>4</th>\n",
       "      <td>139480</td>\n",
       "      <td>이마트</td>\n",
       "      <td>239230.833333</td>\n",
       "      <td>254500.0</td>\n",
       "    </tr>\n",
       "    <tr>\n",
       "      <th>5</th>\n",
       "      <td>142280</td>\n",
       "      <td>녹십자엠에스</td>\n",
       "      <td>468.833333</td>\n",
       "      <td>10200.0</td>\n",
       "    </tr>\n",
       "    <tr>\n",
       "      <th>6</th>\n",
       "      <td>145990</td>\n",
       "      <td>삼양사</td>\n",
       "      <td>82750.000000</td>\n",
       "      <td>82000.0</td>\n",
       "    </tr>\n",
       "    <tr>\n",
       "      <th>7</th>\n",
       "      <td>181710</td>\n",
       "      <td>NHN엔터테인먼트</td>\n",
       "      <td>NaN</td>\n",
       "      <td>NaN</td>\n",
       "    </tr>\n",
       "    <tr>\n",
       "      <th>8</th>\n",
       "      <td>185750</td>\n",
       "      <td>종근당</td>\n",
       "      <td>40293.666667</td>\n",
       "      <td>100500.0</td>\n",
       "    </tr>\n",
       "    <tr>\n",
       "      <th>9</th>\n",
       "      <td>192400</td>\n",
       "      <td>쿠쿠홀딩스</td>\n",
       "      <td>179204.666667</td>\n",
       "      <td>177500.0</td>\n",
       "    </tr>\n",
       "    <tr>\n",
       "      <th>10</th>\n",
       "      <td>199800</td>\n",
       "      <td>툴젠</td>\n",
       "      <td>-2514.333333</td>\n",
       "      <td>115400.0</td>\n",
       "    </tr>\n",
       "    <tr>\n",
       "      <th>11</th>\n",
       "      <td>204210</td>\n",
       "      <td>모두투어리츠</td>\n",
       "      <td>3093.333333</td>\n",
       "      <td>3475.0</td>\n",
       "    </tr>\n",
       "    <tr>\n",
       "      <th>12</th>\n",
       "      <td>207940</td>\n",
       "      <td>삼성바이오로직스</td>\n",
       "      <td>NaN</td>\n",
       "      <td>91900.0</td>\n",
       "    </tr>\n",
       "  </tbody>\n",
       "</table>\n",
       "</div>"
      ],
      "text/plain": [
       "        id stock_name          value     price\n",
       "0   128940       한미약품   59385.666667  421000.0\n",
       "1   138040    메리츠금융지주     827.500000       NaN\n",
       "2   130960     CJ E&M   58540.666667   98900.0\n",
       "3   138250      엔에스쇼핑   14558.666667   13200.0\n",
       "4   139480        이마트  239230.833333  254500.0\n",
       "5   142280     녹십자엠에스     468.833333   10200.0\n",
       "6   145990        삼양사   82750.000000   82000.0\n",
       "7   181710  NHN엔터테인먼트            NaN       NaN\n",
       "8   185750        종근당   40293.666667  100500.0\n",
       "9   192400      쿠쿠홀딩스  179204.666667  177500.0\n",
       "10  199800         툴젠   -2514.333333  115400.0\n",
       "11  204210     모두투어리츠    3093.333333    3475.0\n",
       "12  207940   삼성바이오로직스            NaN   91900.0"
      ]
     },
     "execution_count": 31,
     "metadata": {},
     "output_type": "execute_result"
    }
   ],
   "source": [
    "DF1 = pd.read_excel(f1)\n",
    "DF1"
   ]
  },
  {
   "cell_type": "code",
   "execution_count": 43,
   "id": "af16eb56-36e2-468c-8fed-d935b32ab6d0",
   "metadata": {},
   "outputs": [
    {
     "data": {
      "text/html": [
       "<div>\n",
       "<style scoped>\n",
       "    .dataframe tbody tr th:only-of-type {\n",
       "        vertical-align: middle;\n",
       "    }\n",
       "\n",
       "    .dataframe tbody tr th {\n",
       "        vertical-align: top;\n",
       "    }\n",
       "\n",
       "    .dataframe thead th {\n",
       "        text-align: right;\n",
       "    }\n",
       "</style>\n",
       "<table border=\"1\" class=\"dataframe\">\n",
       "  <thead>\n",
       "    <tr style=\"text-align: right;\">\n",
       "      <th></th>\n",
       "      <th>id</th>\n",
       "      <th>name</th>\n",
       "      <th>eps</th>\n",
       "      <th>bps</th>\n",
       "      <th>per</th>\n",
       "      <th>pbr</th>\n",
       "    </tr>\n",
       "  </thead>\n",
       "  <tbody>\n",
       "    <tr>\n",
       "      <th>0</th>\n",
       "      <td>130960</td>\n",
       "      <td>CJ E&amp;M</td>\n",
       "      <td>6301.333333</td>\n",
       "      <td>54068</td>\n",
       "      <td>15.695091</td>\n",
       "      <td>1.829178</td>\n",
       "    </tr>\n",
       "    <tr>\n",
       "      <th>1</th>\n",
       "      <td>136480</td>\n",
       "      <td>하림</td>\n",
       "      <td>274.166667</td>\n",
       "      <td>3551</td>\n",
       "      <td>11.489362</td>\n",
       "      <td>0.887074</td>\n",
       "    </tr>\n",
       "    <tr>\n",
       "      <th>2</th>\n",
       "      <td>138040</td>\n",
       "      <td>메리츠금융지주</td>\n",
       "      <td>2122.333333</td>\n",
       "      <td>14894</td>\n",
       "      <td>6.313806</td>\n",
       "      <td>0.899691</td>\n",
       "    </tr>\n",
       "    <tr>\n",
       "      <th>3</th>\n",
       "      <td>139480</td>\n",
       "      <td>이마트</td>\n",
       "      <td>18268.166667</td>\n",
       "      <td>295780</td>\n",
       "      <td>13.931338</td>\n",
       "      <td>0.860437</td>\n",
       "    </tr>\n",
       "    <tr>\n",
       "      <th>4</th>\n",
       "      <td>145990</td>\n",
       "      <td>삼양사</td>\n",
       "      <td>5741.000000</td>\n",
       "      <td>108090</td>\n",
       "      <td>14.283226</td>\n",
       "      <td>0.758627</td>\n",
       "    </tr>\n",
       "    <tr>\n",
       "      <th>5</th>\n",
       "      <td>161390</td>\n",
       "      <td>한국타이어</td>\n",
       "      <td>5648.500000</td>\n",
       "      <td>51341</td>\n",
       "      <td>7.453306</td>\n",
       "      <td>0.820007</td>\n",
       "    </tr>\n",
       "    <tr>\n",
       "      <th>6</th>\n",
       "      <td>181710</td>\n",
       "      <td>NHN엔터테인먼트</td>\n",
       "      <td>2110.166667</td>\n",
       "      <td>78434</td>\n",
       "      <td>30.755864</td>\n",
       "      <td>0.827447</td>\n",
       "    </tr>\n",
       "    <tr>\n",
       "      <th>7</th>\n",
       "      <td>185750</td>\n",
       "      <td>종근당</td>\n",
       "      <td>3990.333333</td>\n",
       "      <td>40684</td>\n",
       "      <td>25.185866</td>\n",
       "      <td>2.470259</td>\n",
       "    </tr>\n",
       "    <tr>\n",
       "      <th>8</th>\n",
       "      <td>204210</td>\n",
       "      <td>모두투어리츠</td>\n",
       "      <td>85.166667</td>\n",
       "      <td>5335</td>\n",
       "      <td>40.802348</td>\n",
       "      <td>0.651359</td>\n",
       "    </tr>\n",
       "    <tr>\n",
       "      <th>9</th>\n",
       "      <td>207940</td>\n",
       "      <td>삼성바이오로직스</td>\n",
       "      <td>4644.166667</td>\n",
       "      <td>60099</td>\n",
       "      <td>89.790059</td>\n",
       "      <td>6.938551</td>\n",
       "    </tr>\n",
       "  </tbody>\n",
       "</table>\n",
       "</div>"
      ],
      "text/plain": [
       "       id       name           eps     bps        per       pbr\n",
       "0  130960     CJ E&M   6301.333333   54068  15.695091  1.829178\n",
       "1  136480         하림    274.166667    3551  11.489362  0.887074\n",
       "2  138040    메리츠금융지주   2122.333333   14894   6.313806  0.899691\n",
       "3  139480        이마트  18268.166667  295780  13.931338  0.860437\n",
       "4  145990        삼양사   5741.000000  108090  14.283226  0.758627\n",
       "5  161390      한국타이어   5648.500000   51341   7.453306  0.820007\n",
       "6  181710  NHN엔터테인먼트   2110.166667   78434  30.755864  0.827447\n",
       "7  185750        종근당   3990.333333   40684  25.185866  2.470259\n",
       "8  204210     모두투어리츠     85.166667    5335  40.802348  0.651359\n",
       "9  207940   삼성바이오로직스   4644.166667   60099  89.790059  6.938551"
      ]
     },
     "execution_count": 43,
     "metadata": {},
     "output_type": "execute_result"
    }
   ],
   "source": [
    "DF2 = pd.read_excel(f2)\n",
    "DF2"
   ]
  },
  {
   "cell_type": "markdown",
   "id": "c6315d62-fbc7-4b77-8ab6-9b39e1ac1bd6",
   "metadata": {},
   "source": [
    "id 기준으로 합쳐질 것을 예상할 수 있음"
   ]
  },
  {
   "cell_type": "markdown",
   "id": "a307720b-0236-44a2-80e3-e889bbb2f33c",
   "metadata": {},
   "source": [
    "### 데이터 확인"
   ]
  },
  {
   "cell_type": "code",
   "execution_count": 44,
   "id": "9534d6f2-ce61-4dd2-949f-c92dfdab1e7d",
   "metadata": {},
   "outputs": [
    {
     "name": "stdout",
     "output_type": "stream",
     "text": [
      "<class 'pandas.core.frame.DataFrame'>\n",
      "RangeIndex: 4 entries, 0 to 3\n",
      "Data columns (total 3 columns):\n",
      " #   Column  Non-Null Count  Dtype         \n",
      "---  ------  --------------  -----         \n",
      " 0   0       4 non-null      object        \n",
      " 1   1       4 non-null      uint8         \n",
      " 2   2       4 non-null      datetime64[ns]\n",
      "dtypes: datetime64[ns](1), object(1), uint8(1)\n",
      "memory usage: 196.0+ bytes\n"
     ]
    }
   ],
   "source": [
    "df1.info()"
   ]
  },
  {
   "cell_type": "code",
   "execution_count": 45,
   "id": "14f78fdb-0679-480e-a41b-b33dadf99efd",
   "metadata": {},
   "outputs": [
    {
     "name": "stdout",
     "output_type": "stream",
     "text": [
      "<class 'pandas.core.frame.DataFrame'>\n",
      "RangeIndex: 3 entries, 0 to 2\n",
      "Data columns (total 4 columns):\n",
      " #   Column  Non-Null Count  Dtype \n",
      "---  ------  --------------  ----- \n",
      " 0   0       3 non-null      object\n",
      " 1   1       3 non-null      object\n",
      " 2   2       3 non-null      object\n",
      " 3   3       3 non-null      object\n",
      "dtypes: object(4)\n",
      "memory usage: 224.0+ bytes\n"
     ]
    }
   ],
   "source": [
    "df2.info()"
   ]
  },
  {
   "cell_type": "markdown",
   "id": "af2c3f21-3501-4989-afbc-aba7bff5013d",
   "metadata": {},
   "source": [
    "### 데이터 프레임 병합"
   ]
  },
  {
   "cell_type": "code",
   "execution_count": 50,
   "id": "06621e5d-b0c9-4aa9-8367-ec0e2bf3101a",
   "metadata": {},
   "outputs": [
    {
     "name": "stdout",
     "output_type": "stream",
     "text": [
      "Unexpected exception formatting exception. Falling back to standard exception\n"
     ]
    },
    {
     "name": "stderr",
     "output_type": "stream",
     "text": [
      "Traceback (most recent call last):\n",
      "  File \"C:\\Users\\kdp\\anaconda3\\envs\\My_38\\lib\\site-packages\\IPython\\core\\interactiveshell.py\", line 3508, in run_code\n",
      "    exec(code_obj, self.user_global_ns, self.user_ns)\n",
      "  File \"C:\\Users\\kdp\\AppData\\Local\\Temp\\ipykernel_25388\\946318515.py\", line 2, in <module>\n",
      "    pd.merge(df1, df2)\n",
      "  File \"C:\\Users\\kdp\\anaconda3\\envs\\My_38\\lib\\site-packages\\pandas\\core\\reshape\\merge.py\", line 148, in merge\n",
      "  File \"C:\\Users\\kdp\\anaconda3\\envs\\My_38\\lib\\site-packages\\pandas\\core\\reshape\\merge.py\", line 741, in __init__\n",
      "    copy=False,\n",
      "  File \"C:\\Users\\kdp\\anaconda3\\envs\\My_38\\lib\\site-packages\\pandas\\core\\reshape\\merge.py\", line 1405, in _maybe_coerce_merge_keys\n",
      "    right_on = com.maybe_make_list(right_on)\n",
      "ValueError: You are trying to merge on datetime64[ns] and object columns. If you wish to proceed you should use pd.concat\n",
      "\n",
      "During handling of the above exception, another exception occurred:\n",
      "\n",
      "Traceback (most recent call last):\n",
      "  File \"C:\\Users\\kdp\\anaconda3\\envs\\My_38\\lib\\site-packages\\IPython\\core\\interactiveshell.py\", line 2105, in showtraceback\n",
      "    stb = self.InteractiveTB.structured_traceback(\n",
      "  File \"C:\\Users\\kdp\\anaconda3\\envs\\My_38\\lib\\site-packages\\IPython\\core\\ultratb.py\", line 1396, in structured_traceback\n",
      "    return FormattedTB.structured_traceback(\n",
      "  File \"C:\\Users\\kdp\\anaconda3\\envs\\My_38\\lib\\site-packages\\IPython\\core\\ultratb.py\", line 1287, in structured_traceback\n",
      "    return VerboseTB.structured_traceback(\n",
      "  File \"C:\\Users\\kdp\\anaconda3\\envs\\My_38\\lib\\site-packages\\IPython\\core\\ultratb.py\", line 1140, in structured_traceback\n",
      "    formatted_exception = self.format_exception_as_a_whole(etype, evalue, etb, number_of_lines_of_context,\n",
      "  File \"C:\\Users\\kdp\\anaconda3\\envs\\My_38\\lib\\site-packages\\IPython\\core\\ultratb.py\", line 1055, in format_exception_as_a_whole\n",
      "    frames.append(self.format_record(record))\n",
      "  File \"C:\\Users\\kdp\\anaconda3\\envs\\My_38\\lib\\site-packages\\IPython\\core\\ultratb.py\", line 955, in format_record\n",
      "    frame_info.lines, Colors, self.has_colors, lvals\n",
      "  File \"C:\\Users\\kdp\\anaconda3\\envs\\My_38\\lib\\site-packages\\IPython\\core\\ultratb.py\", line 778, in lines\n",
      "    return self._sd.lines\n",
      "  File \"C:\\Users\\kdp\\anaconda3\\envs\\My_38\\lib\\site-packages\\stack_data\\utils.py\", line 145, in cached_property_wrapper\n",
      "    value = obj.__dict__[self.func.__name__] = self.func(obj)\n",
      "  File \"C:\\Users\\kdp\\anaconda3\\envs\\My_38\\lib\\site-packages\\stack_data\\core.py\", line 698, in lines\n",
      "    pieces = self.included_pieces\n",
      "  File \"C:\\Users\\kdp\\anaconda3\\envs\\My_38\\lib\\site-packages\\stack_data\\utils.py\", line 145, in cached_property_wrapper\n",
      "    value = obj.__dict__[self.func.__name__] = self.func(obj)\n",
      "  File \"C:\\Users\\kdp\\anaconda3\\envs\\My_38\\lib\\site-packages\\stack_data\\core.py\", line 649, in included_pieces\n",
      "    pos = scope_pieces.index(self.executing_piece)\n",
      "  File \"C:\\Users\\kdp\\anaconda3\\envs\\My_38\\lib\\site-packages\\stack_data\\utils.py\", line 145, in cached_property_wrapper\n",
      "    value = obj.__dict__[self.func.__name__] = self.func(obj)\n",
      "  File \"C:\\Users\\kdp\\anaconda3\\envs\\My_38\\lib\\site-packages\\stack_data\\core.py\", line 628, in executing_piece\n",
      "    return only(\n",
      "  File \"C:\\Users\\kdp\\anaconda3\\envs\\My_38\\lib\\site-packages\\executing\\executing.py\", line 164, in only\n",
      "    raise NotOneValueFound('Expected one value, found 0')\n",
      "executing.executing.NotOneValueFound: Expected one value, found 0\n"
     ]
    }
   ],
   "source": [
    "# [기본] 두 개의 DF에서 동일 컬럼명을 찾아 '존재하는' 컬럼명의 '행' 데이터만 합치기 \n",
    "pd.merge(df1, df2)"
   ]
  },
  {
   "cell_type": "code",
   "execution_count": null,
   "id": "8b1031a8-ebd8-48d6-8b6d-92c25b8c6efd",
   "metadata": {},
   "outputs": [],
   "source": []
  }
 ],
 "metadata": {
  "kernelspec": {
   "display_name": "Python 3 (ipykernel)",
   "language": "python",
   "name": "python3"
  },
  "language_info": {
   "codemirror_mode": {
    "name": "ipython",
    "version": 3
   },
   "file_extension": ".py",
   "mimetype": "text/x-python",
   "name": "python",
   "nbconvert_exporter": "python",
   "pygments_lexer": "ipython3",
   "version": "3.8.18"
  }
 },
 "nbformat": 4,
 "nbformat_minor": 5
}
