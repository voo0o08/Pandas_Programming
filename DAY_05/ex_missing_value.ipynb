{
 "cells": [
  {
   "cell_type": "markdown",
   "id": "866e3276-ec40-4c27-8c35-fe5904f0f3da",
   "metadata": {},
   "source": [
    "# [결측치 Missing Value 처리]\n",
    "- 데이터 미입력 또는 데이터 저장 과정에서 지워진 데이터\n",
    "- 빈칸 의미\n",
    "- 표시 : NaN (Not A Number) NaT (Not A Text)\n",
    "- 표현 : numpy.nan, math.nan을 사용"
   ]
  },
  {
   "cell_type": "markdown",
   "id": "4b19c922-650f-45a8-aebf-d1af4e5d9d4c",
   "metadata": {},
   "source": [
    "## <hr>(1) 모듈 로딩"
   ]
  },
  {
   "cell_type": "code",
   "execution_count": 1,
   "id": "eee799b8-c202-4883-af5f-9de8ddd65fe7",
   "metadata": {},
   "outputs": [],
   "source": [
    " import pandas as pd"
   ]
  },
  {
   "cell_type": "markdown",
   "id": "501250fb-aa89-415d-82aa-995b84c3042d",
   "metadata": {},
   "source": [
    "## <hr>(2) 데이터 준비"
   ]
  },
  {
   "cell_type": "code",
   "execution_count": 2,
   "id": "812b129f-31c4-472b-8459-44054ba5af27",
   "metadata": {},
   "outputs": [],
   "source": [
    "file = \"../DATA/employees.csv\""
   ]
  },
  {
   "cell_type": "markdown",
   "id": "fac90e4e-6df2-466e-a249-4f19cf3b8693",
   "metadata": {},
   "source": [
    "## <hr>(3) 데이터 저장 : CSV => DF"
   ]
  },
  {
   "cell_type": "code",
   "execution_count": 3,
   "id": "66cd3c87-ad52-4452-a607-57c8d0c1aa27",
   "metadata": {},
   "outputs": [],
   "source": [
    "# 구분자:, 헤더: 첫번째 줄 컬럼명\n",
    "empDF = pd.read_csv(file)"
   ]
  },
  {
   "cell_type": "code",
   "execution_count": 4,
   "id": "99c25a86-b27b-4647-92b6-65d94bd34299",
   "metadata": {},
   "outputs": [
    {
     "name": "stdout",
     "output_type": "stream",
     "text": [
      "<class 'pandas.core.frame.DataFrame'>\n",
      "RangeIndex: 1001 entries, 0 to 1000\n",
      "Data columns (total 6 columns):\n",
      " #   Column      Non-Null Count  Dtype  \n",
      "---  ------      --------------  -----  \n",
      " 0   First Name  933 non-null    object \n",
      " 1   Gender      854 non-null    object \n",
      " 2   Start Date  999 non-null    object \n",
      " 3   Salary      999 non-null    float64\n",
      " 4   Mgmt        933 non-null    object \n",
      " 5   Team        957 non-null    object \n",
      "dtypes: float64(1), object(5)\n",
      "memory usage: 47.0+ KB\n"
     ]
    }
   ],
   "source": [
    "# 데이터의 전반적인 요약정보 확인 => info() 메서드\n",
    "# - 컬럼별 결측치 여부 확인 => 결측치 처리\n",
    "# - 타입이 다른 경우, 타입 변환 => 타입 다른 경우, 타입 변환\n",
    "empDF.info()"
   ]
  },
  {
   "cell_type": "code",
   "execution_count": 5,
   "id": "e5d06530-296b-4a3a-aeec-26de683538c7",
   "metadata": {},
   "outputs": [
    {
     "data": {
      "text/html": [
       "<div>\n",
       "<style scoped>\n",
       "    .dataframe tbody tr th:only-of-type {\n",
       "        vertical-align: middle;\n",
       "    }\n",
       "\n",
       "    .dataframe tbody tr th {\n",
       "        vertical-align: top;\n",
       "    }\n",
       "\n",
       "    .dataframe thead th {\n",
       "        text-align: right;\n",
       "    }\n",
       "</style>\n",
       "<table border=\"1\" class=\"dataframe\">\n",
       "  <thead>\n",
       "    <tr style=\"text-align: right;\">\n",
       "      <th></th>\n",
       "      <th>Salary</th>\n",
       "    </tr>\n",
       "  </thead>\n",
       "  <tbody>\n",
       "    <tr>\n",
       "      <th>count</th>\n",
       "      <td>999.000000</td>\n",
       "    </tr>\n",
       "    <tr>\n",
       "      <th>mean</th>\n",
       "      <td>90655.528529</td>\n",
       "    </tr>\n",
       "    <tr>\n",
       "      <th>std</th>\n",
       "      <td>32939.511615</td>\n",
       "    </tr>\n",
       "    <tr>\n",
       "      <th>min</th>\n",
       "      <td>35013.000000</td>\n",
       "    </tr>\n",
       "    <tr>\n",
       "      <th>25%</th>\n",
       "      <td>62560.000000</td>\n",
       "    </tr>\n",
       "    <tr>\n",
       "      <th>50%</th>\n",
       "      <td>90427.000000</td>\n",
       "    </tr>\n",
       "    <tr>\n",
       "      <th>75%</th>\n",
       "      <td>118744.500000</td>\n",
       "    </tr>\n",
       "    <tr>\n",
       "      <th>max</th>\n",
       "      <td>149908.000000</td>\n",
       "    </tr>\n",
       "  </tbody>\n",
       "</table>\n",
       "</div>"
      ],
      "text/plain": [
       "              Salary\n",
       "count     999.000000\n",
       "mean    90655.528529\n",
       "std     32939.511615\n",
       "min     35013.000000\n",
       "25%     62560.000000\n",
       "50%     90427.000000\n",
       "75%    118744.500000\n",
       "max    149908.000000"
      ]
     },
     "execution_count": 5,
     "metadata": {},
     "output_type": "execute_result"
    }
   ],
   "source": [
    "# 데이터의 컬럼별 분포 확인 => describe()\n",
    "empDF.describe()"
   ]
  },
  {
   "cell_type": "code",
   "execution_count": 7,
   "id": "c123e134-47f4-4e86-945b-45877a3c278d",
   "metadata": {},
   "outputs": [
    {
     "name": "stdout",
     "output_type": "stream",
     "text": [
      "     Salary\n",
      "0   86676.0\n",
      "1   91462.0\n",
      "2  121160.0\n",
      "3  145988.0\n",
      "4  147183.0\n",
      "\n",
      "\n",
      "\n",
      "Salary    90427.0\n",
      "dtype: float64\n",
      "\n",
      "\n",
      "\n",
      "Salary    90655.528529\n",
      "dtype: float64\n"
     ]
    }
   ],
   "source": [
    "# 최빈값 중앙값\n",
    "print(empDF.mode(numeric_only=True), empDF.median(numeric_only=True), empDF.mean(numeric_only=True), sep = \"\\n\\n\\n\\n\")"
   ]
  },
  {
   "cell_type": "markdown",
   "id": "96e474de-2b32-4e08-b2e4-91225405e8c5",
   "metadata": {},
   "source": [
    "## <hr>(5) 결측값, 이상치, 특이값 처리 -> 제거/치환<br>\n",
    "- 나이 : -4살<br>\n",
    "- 혈액형 : p형<br>\n",
    "- 중복데이터<br>\n",
    "- 누락데이터<br>"
   ]
  },
  {
   "cell_type": "code",
   "execution_count": 14,
   "id": "ee2c7127-6d18-4115-b5cc-0f672d0c4ecb",
   "metadata": {},
   "outputs": [
    {
     "name": "stdout",
     "output_type": "stream",
     "text": [
      "   First Name  Gender  Start Date  Salary   Mgmt   Team\n",
      "0       False   False       False    True  False  False\n",
      "1       False   False       False   False  False   True\n",
      "2       False   False        True   False  False  False\n",
      "3       False    True       False   False  False  False\n",
      "4       False   False       False   False  False  False\n",
      "\n",
      "\n",
      "   First Name  Gender  Start Date  Salary   Mgmt   Team\n",
      "0       False   False       False    True  False  False\n",
      "1       False   False       False   False  False   True\n",
      "2       False   False        True   False  False  False\n",
      "3       False    True       False   False  False  False\n",
      "4       False   False       False   False  False  False\n"
     ]
    }
   ],
   "source": [
    "# 결측치 => isna(), isnull() : 원소 단위로 검사 후 결측치인 경우 True 반환\n",
    "\n",
    "print(empDF.isna().head(), empDF.isnull().head(), sep=\"\\n\\n\\n\")"
   ]
  },
  {
   "cell_type": "code",
   "execution_count": 16,
   "id": "b1f467b0-33a3-44ef-a278-a73d492347a5",
   "metadata": {},
   "outputs": [
    {
     "name": "stdout",
     "output_type": "stream",
     "text": [
      "First Name     68\n",
      "Gender        147\n",
      "Start Date      2\n",
      "Salary          2\n",
      "Mgmt           68\n",
      "Team           44\n",
      "dtype: int64\n",
      "\n",
      "\n",
      "First Name     68\n",
      "Gender        147\n",
      "Start Date      2\n",
      "Salary          2\n",
      "Mgmt           68\n",
      "Team           44\n",
      "dtype: int64\n"
     ]
    }
   ],
   "source": [
    "# 결측치 개수\n",
    "print(empDF.isna().sum(), empDF.isnull().sum(), sep=\"\\n\\n\\n\")"
   ]
  },
  {
   "cell_type": "code",
   "execution_count": 17,
   "id": "ce0c7850-85a6-42c4-8333-a8b88a26dd54",
   "metadata": {},
   "outputs": [
    {
     "name": "stdout",
     "output_type": "stream",
     "text": [
      "   First Name  Gender  Start Date  Salary  Mgmt   Team\n",
      "0        True    True        True   False  True   True\n",
      "1        True    True        True    True  True  False\n",
      "2        True    True       False    True  True   True\n",
      "3        True   False        True    True  True   True\n",
      "4        True    True        True    True  True   True\n",
      "\n",
      "\n",
      "   First Name  Gender  Start Date  Salary  Mgmt   Team\n",
      "0        True    True        True   False  True   True\n",
      "1        True    True        True    True  True  False\n",
      "2        True    True       False    True  True   True\n",
      "3        True   False        True    True  True   True\n",
      "4        True    True        True    True  True   True\n"
     ]
    }
   ],
   "source": [
    "# 결측치 체크 ==> notna() / notnull() : 결측치가 아니면 True -> 정상 데이터 체크 가능\n",
    "print(empDF.notna().head(), empDF.notnull().head(), sep=\"\\n\\n\\n\")"
   ]
  },
  {
   "cell_type": "markdown",
   "id": "cd85439f-3ebc-4bd3-aadd-0770c448e2ff",
   "metadata": {},
   "source": [
    "### 결측치 처리 ==> (1) 삭제 : dropna()"
   ]
  },
  {
   "cell_type": "code",
   "execution_count": 20,
   "id": "e50889a9-dd97-4ea8-9603-678b17ac53ba",
   "metadata": {},
   "outputs": [
    {
     "name": "stdout",
     "output_type": "stream",
     "text": [
      "(1001, 6) (761, 6)\n"
     ]
    }
   ],
   "source": [
    "# 모든 행에 1개의 값이라도 NaN이면 행 자체 삭\n",
    "empDF2 = empDF.dropna()\n",
    "\n",
    "print(empDF.shape, empDF2.shape)"
   ]
  },
  {
   "cell_type": "code",
   "execution_count": 22,
   "id": "86b72a25-7c49-4dc2-a4ff-0afbfebd40dd",
   "metadata": {},
   "outputs": [
    {
     "name": "stdout",
     "output_type": "stream",
     "text": [
      "(1001, 6) (1000, 6)\n"
     ]
    }
   ],
   "source": [
    "# 행에 모든(all) 데이터 즉 값이 NA면 삭제\n",
    "empDF3 = empDF.dropna(how=\"all\") \n",
    "\n",
    "print(empDF.shape, empDF3.shape)"
   ]
  },
  {
   "cell_type": "code",
   "execution_count": 25,
   "id": "d36aa690-087c-4f37-9741-0efaa9c3c4ba",
   "metadata": {},
   "outputs": [
    {
     "data": {
      "text/html": [
       "<div>\n",
       "<style scoped>\n",
       "    .dataframe tbody tr th:only-of-type {\n",
       "        vertical-align: middle;\n",
       "    }\n",
       "\n",
       "    .dataframe tbody tr th {\n",
       "        vertical-align: top;\n",
       "    }\n",
       "\n",
       "    .dataframe thead th {\n",
       "        text-align: right;\n",
       "    }\n",
       "</style>\n",
       "<table border=\"1\" class=\"dataframe\">\n",
       "  <thead>\n",
       "    <tr style=\"text-align: right;\">\n",
       "      <th></th>\n",
       "      <th>First Name</th>\n",
       "      <th>Gender</th>\n",
       "      <th>Start Date</th>\n",
       "      <th>Salary</th>\n",
       "      <th>Mgmt</th>\n",
       "      <th>Team</th>\n",
       "    </tr>\n",
       "  </thead>\n",
       "  <tbody>\n",
       "    <tr>\n",
       "      <th>1</th>\n",
       "      <td>Thomas</td>\n",
       "      <td>Male</td>\n",
       "      <td>3/31/96</td>\n",
       "      <td>61933.0</td>\n",
       "      <td>True</td>\n",
       "      <td>NaN</td>\n",
       "    </tr>\n",
       "    <tr>\n",
       "      <th>2</th>\n",
       "      <td>Maria</td>\n",
       "      <td>Female</td>\n",
       "      <td>NaN</td>\n",
       "      <td>130590.0</td>\n",
       "      <td>False</td>\n",
       "      <td>Finance</td>\n",
       "    </tr>\n",
       "    <tr>\n",
       "      <th>4</th>\n",
       "      <td>Larry</td>\n",
       "      <td>Male</td>\n",
       "      <td>1/24/98</td>\n",
       "      <td>101004.0</td>\n",
       "      <td>True</td>\n",
       "      <td>IT</td>\n",
       "    </tr>\n",
       "    <tr>\n",
       "      <th>5</th>\n",
       "      <td>Dennis</td>\n",
       "      <td>Male</td>\n",
       "      <td>4/18/87</td>\n",
       "      <td>115163.0</td>\n",
       "      <td>False</td>\n",
       "      <td>Legal</td>\n",
       "    </tr>\n",
       "    <tr>\n",
       "      <th>6</th>\n",
       "      <td>Ruby</td>\n",
       "      <td>Female</td>\n",
       "      <td>8/17/87</td>\n",
       "      <td>65476.0</td>\n",
       "      <td>True</td>\n",
       "      <td>Product</td>\n",
       "    </tr>\n",
       "    <tr>\n",
       "      <th>...</th>\n",
       "      <td>...</td>\n",
       "      <td>...</td>\n",
       "      <td>...</td>\n",
       "      <td>...</td>\n",
       "      <td>...</td>\n",
       "      <td>...</td>\n",
       "    </tr>\n",
       "    <tr>\n",
       "      <th>994</th>\n",
       "      <td>George</td>\n",
       "      <td>Male</td>\n",
       "      <td>6/21/13</td>\n",
       "      <td>98874.0</td>\n",
       "      <td>True</td>\n",
       "      <td>Marketing</td>\n",
       "    </tr>\n",
       "    <tr>\n",
       "      <th>996</th>\n",
       "      <td>Phillip</td>\n",
       "      <td>Male</td>\n",
       "      <td>1/31/84</td>\n",
       "      <td>42392.0</td>\n",
       "      <td>False</td>\n",
       "      <td>Finance</td>\n",
       "    </tr>\n",
       "    <tr>\n",
       "      <th>997</th>\n",
       "      <td>Russell</td>\n",
       "      <td>Male</td>\n",
       "      <td>5/20/13</td>\n",
       "      <td>96914.0</td>\n",
       "      <td>False</td>\n",
       "      <td>Product</td>\n",
       "    </tr>\n",
       "    <tr>\n",
       "      <th>998</th>\n",
       "      <td>Larry</td>\n",
       "      <td>Male</td>\n",
       "      <td>4/20/13</td>\n",
       "      <td>60500.0</td>\n",
       "      <td>False</td>\n",
       "      <td>Business Dev</td>\n",
       "    </tr>\n",
       "    <tr>\n",
       "      <th>999</th>\n",
       "      <td>Albert</td>\n",
       "      <td>Male</td>\n",
       "      <td>5/15/12</td>\n",
       "      <td>129949.0</td>\n",
       "      <td>True</td>\n",
       "      <td>Sales</td>\n",
       "    </tr>\n",
       "  </tbody>\n",
       "</table>\n",
       "<p>853 rows × 6 columns</p>\n",
       "</div>"
      ],
      "text/plain": [
       "    First Name  Gender Start Date    Salary   Mgmt          Team\n",
       "1       Thomas    Male    3/31/96   61933.0   True           NaN\n",
       "2        Maria  Female        NaN  130590.0  False       Finance\n",
       "4        Larry    Male    1/24/98  101004.0   True            IT\n",
       "5       Dennis    Male    4/18/87  115163.0  False         Legal\n",
       "6         Ruby  Female    8/17/87   65476.0   True       Product\n",
       "..         ...     ...        ...       ...    ...           ...\n",
       "994     George    Male    6/21/13   98874.0   True     Marketing\n",
       "996    Phillip    Male    1/31/84   42392.0  False       Finance\n",
       "997    Russell    Male    5/20/13   96914.0  False       Product\n",
       "998      Larry    Male    4/20/13   60500.0  False  Business Dev\n",
       "999     Albert    Male    5/15/12  129949.0   True         Sales\n",
       "\n",
       "[853 rows x 6 columns]"
      ]
     },
     "execution_count": 25,
     "metadata": {},
     "output_type": "execute_result"
    }
   ],
   "source": [
    "# 성별과 연봉을 보고 싶은데, 만약 성별과 연봉 중 하나라도 삐꾸면 삭제 나머지는 알 바 아님 \n",
    "empDF4 = empDF.dropna(subset=(\"Gender\", \"Salary\"))\n",
    "empDF4"
   ]
  },
  {
   "cell_type": "code",
   "execution_count": 27,
   "id": "e1152dfb-6ff5-45b5-ab83-d89867a59728",
   "metadata": {},
   "outputs": [
    {
     "data": {
      "text/html": [
       "<div>\n",
       "<style scoped>\n",
       "    .dataframe tbody tr th:only-of-type {\n",
       "        vertical-align: middle;\n",
       "    }\n",
       "\n",
       "    .dataframe tbody tr th {\n",
       "        vertical-align: top;\n",
       "    }\n",
       "\n",
       "    .dataframe thead th {\n",
       "        text-align: right;\n",
       "    }\n",
       "</style>\n",
       "<table border=\"1\" class=\"dataframe\">\n",
       "  <thead>\n",
       "    <tr style=\"text-align: right;\">\n",
       "      <th></th>\n",
       "      <th>Start Date</th>\n",
       "      <th>Salary</th>\n",
       "      <th>Team</th>\n",
       "    </tr>\n",
       "  </thead>\n",
       "  <tbody>\n",
       "    <tr>\n",
       "      <th>0</th>\n",
       "      <td>8/6/93</td>\n",
       "      <td>NaN</td>\n",
       "      <td>Marketing</td>\n",
       "    </tr>\n",
       "    <tr>\n",
       "      <th>1</th>\n",
       "      <td>3/31/96</td>\n",
       "      <td>61933.0</td>\n",
       "      <td>NaN</td>\n",
       "    </tr>\n",
       "    <tr>\n",
       "      <th>2</th>\n",
       "      <td>NaN</td>\n",
       "      <td>130590.0</td>\n",
       "      <td>Finance</td>\n",
       "    </tr>\n",
       "    <tr>\n",
       "      <th>3</th>\n",
       "      <td>3/4/05</td>\n",
       "      <td>138705.0</td>\n",
       "      <td>Finance</td>\n",
       "    </tr>\n",
       "    <tr>\n",
       "      <th>4</th>\n",
       "      <td>1/24/98</td>\n",
       "      <td>101004.0</td>\n",
       "      <td>IT</td>\n",
       "    </tr>\n",
       "    <tr>\n",
       "      <th>...</th>\n",
       "      <td>...</td>\n",
       "      <td>...</td>\n",
       "      <td>...</td>\n",
       "    </tr>\n",
       "    <tr>\n",
       "      <th>996</th>\n",
       "      <td>1/31/84</td>\n",
       "      <td>42392.0</td>\n",
       "      <td>Finance</td>\n",
       "    </tr>\n",
       "    <tr>\n",
       "      <th>997</th>\n",
       "      <td>5/20/13</td>\n",
       "      <td>96914.0</td>\n",
       "      <td>Product</td>\n",
       "    </tr>\n",
       "    <tr>\n",
       "      <th>998</th>\n",
       "      <td>4/20/13</td>\n",
       "      <td>60500.0</td>\n",
       "      <td>Business Dev</td>\n",
       "    </tr>\n",
       "    <tr>\n",
       "      <th>999</th>\n",
       "      <td>5/15/12</td>\n",
       "      <td>129949.0</td>\n",
       "      <td>Sales</td>\n",
       "    </tr>\n",
       "    <tr>\n",
       "      <th>1000</th>\n",
       "      <td>NaN</td>\n",
       "      <td>NaN</td>\n",
       "      <td>NaN</td>\n",
       "    </tr>\n",
       "  </tbody>\n",
       "</table>\n",
       "<p>1001 rows × 3 columns</p>\n",
       "</div>"
      ],
      "text/plain": [
       "     Start Date    Salary          Team\n",
       "0        8/6/93       NaN     Marketing\n",
       "1       3/31/96   61933.0           NaN\n",
       "2           NaN  130590.0       Finance\n",
       "3        3/4/05  138705.0       Finance\n",
       "4       1/24/98  101004.0            IT\n",
       "...         ...       ...           ...\n",
       "996     1/31/84   42392.0       Finance\n",
       "997     5/20/13   96914.0       Product\n",
       "998     4/20/13   60500.0  Business Dev\n",
       "999     5/15/12  129949.0         Sales\n",
       "1000        NaN       NaN           NaN\n",
       "\n",
       "[1001 rows x 3 columns]"
      ]
     },
     "execution_count": 27,
     "metadata": {},
     "output_type": "execute_result"
    }
   ],
   "source": [
    "empDF5 = empDF.dropna(thresh=950, axis=1) # 데이터가 최소 몇개는 되어야한다~\n",
    "empDF5"
   ]
  },
  {
   "cell_type": "markdown",
   "id": "1d551abb-57b0-43b9-8ccd-3c55cbaaf735",
   "metadata": {},
   "source": [
    "### 결측치 처리 ==> (2) 대체 : fillna()"
   ]
  },
  {
   "cell_type": "code",
   "execution_count": 29,
   "id": "2ecf8fe5-6a46-40d6-8751-a4f694c4593c",
   "metadata": {},
   "outputs": [
    {
     "data": {
      "text/html": [
       "<div>\n",
       "<style scoped>\n",
       "    .dataframe tbody tr th:only-of-type {\n",
       "        vertical-align: middle;\n",
       "    }\n",
       "\n",
       "    .dataframe tbody tr th {\n",
       "        vertical-align: top;\n",
       "    }\n",
       "\n",
       "    .dataframe thead th {\n",
       "        text-align: right;\n",
       "    }\n",
       "</style>\n",
       "<table border=\"1\" class=\"dataframe\">\n",
       "  <thead>\n",
       "    <tr style=\"text-align: right;\">\n",
       "      <th></th>\n",
       "      <th>First Name</th>\n",
       "      <th>Gender</th>\n",
       "      <th>Start Date</th>\n",
       "      <th>Salary</th>\n",
       "      <th>Mgmt</th>\n",
       "      <th>Team</th>\n",
       "    </tr>\n",
       "  </thead>\n",
       "  <tbody>\n",
       "    <tr>\n",
       "      <th>count</th>\n",
       "      <td>933</td>\n",
       "      <td>854</td>\n",
       "      <td>999</td>\n",
       "      <td>999.000000</td>\n",
       "      <td>933</td>\n",
       "      <td>957</td>\n",
       "    </tr>\n",
       "    <tr>\n",
       "      <th>unique</th>\n",
       "      <td>200</td>\n",
       "      <td>2</td>\n",
       "      <td>971</td>\n",
       "      <td>NaN</td>\n",
       "      <td>2</td>\n",
       "      <td>10</td>\n",
       "    </tr>\n",
       "    <tr>\n",
       "      <th>top</th>\n",
       "      <td>Marilyn</td>\n",
       "      <td>Female</td>\n",
       "      <td>10/30/04</td>\n",
       "      <td>NaN</td>\n",
       "      <td>True</td>\n",
       "      <td>IT</td>\n",
       "    </tr>\n",
       "    <tr>\n",
       "      <th>freq</th>\n",
       "      <td>11</td>\n",
       "      <td>431</td>\n",
       "      <td>2</td>\n",
       "      <td>NaN</td>\n",
       "      <td>468</td>\n",
       "      <td>106</td>\n",
       "    </tr>\n",
       "    <tr>\n",
       "      <th>mean</th>\n",
       "      <td>NaN</td>\n",
       "      <td>NaN</td>\n",
       "      <td>NaN</td>\n",
       "      <td>90655.528529</td>\n",
       "      <td>NaN</td>\n",
       "      <td>NaN</td>\n",
       "    </tr>\n",
       "    <tr>\n",
       "      <th>std</th>\n",
       "      <td>NaN</td>\n",
       "      <td>NaN</td>\n",
       "      <td>NaN</td>\n",
       "      <td>32939.511615</td>\n",
       "      <td>NaN</td>\n",
       "      <td>NaN</td>\n",
       "    </tr>\n",
       "    <tr>\n",
       "      <th>min</th>\n",
       "      <td>NaN</td>\n",
       "      <td>NaN</td>\n",
       "      <td>NaN</td>\n",
       "      <td>35013.000000</td>\n",
       "      <td>NaN</td>\n",
       "      <td>NaN</td>\n",
       "    </tr>\n",
       "    <tr>\n",
       "      <th>25%</th>\n",
       "      <td>NaN</td>\n",
       "      <td>NaN</td>\n",
       "      <td>NaN</td>\n",
       "      <td>62560.000000</td>\n",
       "      <td>NaN</td>\n",
       "      <td>NaN</td>\n",
       "    </tr>\n",
       "    <tr>\n",
       "      <th>50%</th>\n",
       "      <td>NaN</td>\n",
       "      <td>NaN</td>\n",
       "      <td>NaN</td>\n",
       "      <td>90427.000000</td>\n",
       "      <td>NaN</td>\n",
       "      <td>NaN</td>\n",
       "    </tr>\n",
       "    <tr>\n",
       "      <th>75%</th>\n",
       "      <td>NaN</td>\n",
       "      <td>NaN</td>\n",
       "      <td>NaN</td>\n",
       "      <td>118744.500000</td>\n",
       "      <td>NaN</td>\n",
       "      <td>NaN</td>\n",
       "    </tr>\n",
       "    <tr>\n",
       "      <th>max</th>\n",
       "      <td>NaN</td>\n",
       "      <td>NaN</td>\n",
       "      <td>NaN</td>\n",
       "      <td>149908.000000</td>\n",
       "      <td>NaN</td>\n",
       "      <td>NaN</td>\n",
       "    </tr>\n",
       "  </tbody>\n",
       "</table>\n",
       "</div>"
      ],
      "text/plain": [
       "       First Name  Gender Start Date         Salary  Mgmt Team\n",
       "count         933     854        999     999.000000   933  957\n",
       "unique        200       2        971            NaN     2   10\n",
       "top       Marilyn  Female   10/30/04            NaN  True   IT\n",
       "freq           11     431          2            NaN   468  106\n",
       "mean          NaN     NaN        NaN   90655.528529   NaN  NaN\n",
       "std           NaN     NaN        NaN   32939.511615   NaN  NaN\n",
       "min           NaN     NaN        NaN   35013.000000   NaN  NaN\n",
       "25%           NaN     NaN        NaN   62560.000000   NaN  NaN\n",
       "50%           NaN     NaN        NaN   90427.000000   NaN  NaN\n",
       "75%           NaN     NaN        NaN  118744.500000   NaN  NaN\n",
       "max           NaN     NaN        NaN  149908.000000   NaN  NaN"
      ]
     },
     "execution_count": 29,
     "metadata": {},
     "output_type": "execute_result"
    }
   ],
   "source": [
    "# Gender 컬럼에 결측 값을 무엇으로 채울까?\n",
    "empDF.describe(include=\"all\")"
   ]
  },
  {
   "cell_type": "code",
   "execution_count": 33,
   "id": "def4b2e5-5133-4000-a94b-1e6c61e47447",
   "metadata": {},
   "outputs": [
    {
     "data": {
      "text/plain": [
       "'Female'"
      ]
     },
     "execution_count": 33,
     "metadata": {},
     "output_type": "execute_result"
    }
   ],
   "source": [
    "# 최빈값으로 채우기\n",
    "m = empDF.Gender.mode()[0]\n",
    "m"
   ]
  },
  {
   "cell_type": "code",
   "execution_count": 37,
   "id": "4881cbf5-5ab3-40fc-8491-89fe8e1cb0ab",
   "metadata": {},
   "outputs": [],
   "source": [
    "genSR = empDF.Gender.fillna(m)"
   ]
  },
  {
   "cell_type": "code",
   "execution_count": 38,
   "id": "d44cfe35-20cf-4ac9-9bf8-933f2736319f",
   "metadata": {},
   "outputs": [
    {
     "data": {
      "text/plain": [
       "0"
      ]
     },
     "execution_count": 38,
     "metadata": {},
     "output_type": "execute_result"
    }
   ],
   "source": [
    "genSR.isna().sum() # 결측치 사라진 거 확인!!"
   ]
  },
  {
   "cell_type": "code",
   "execution_count": 40,
   "id": "2673f6b1-8295-4187-93ed-27d04c7e2ff3",
   "metadata": {},
   "outputs": [
    {
     "data": {
      "text/plain": [
       "0         Male\n",
       "1         Male\n",
       "2       Female\n",
       "3       Female\n",
       "4         Male\n",
       "         ...  \n",
       "996       Male\n",
       "997       Male\n",
       "998       Male\n",
       "999       Male\n",
       "1000      Male\n",
       "Name: Gender, Length: 1001, dtype: object"
      ]
     },
     "execution_count": 40,
     "metadata": {},
     "output_type": "execute_result"
    }
   ],
   "source": [
    "# NA 이전 이후 값으로 채우기 ffill, bfill\n",
    "empDF.Gender.fillna(method='ffill')"
   ]
  },
  {
   "cell_type": "code",
   "execution_count": 45,
   "id": "731fc8af-4d89-440b-8a33-4f6ffe1c8de5",
   "metadata": {},
   "outputs": [
    {
     "data": {
      "text/html": [
       "<div>\n",
       "<style scoped>\n",
       "    .dataframe tbody tr th:only-of-type {\n",
       "        vertical-align: middle;\n",
       "    }\n",
       "\n",
       "    .dataframe tbody tr th {\n",
       "        vertical-align: top;\n",
       "    }\n",
       "\n",
       "    .dataframe thead th {\n",
       "        text-align: right;\n",
       "    }\n",
       "</style>\n",
       "<table border=\"1\" class=\"dataframe\">\n",
       "  <thead>\n",
       "    <tr style=\"text-align: right;\">\n",
       "      <th></th>\n",
       "      <th>A</th>\n",
       "      <th>B</th>\n",
       "      <th>C</th>\n",
       "      <th>D</th>\n",
       "    </tr>\n",
       "  </thead>\n",
       "  <tbody>\n",
       "    <tr>\n",
       "      <th>0</th>\n",
       "      <td>NaN</td>\n",
       "      <td>2.0</td>\n",
       "      <td>NaN</td>\n",
       "      <td>0.0</td>\n",
       "    </tr>\n",
       "    <tr>\n",
       "      <th>1</th>\n",
       "      <td>3.0</td>\n",
       "      <td>4.0</td>\n",
       "      <td>NaN</td>\n",
       "      <td>1.0</td>\n",
       "    </tr>\n",
       "    <tr>\n",
       "      <th>2</th>\n",
       "      <td>NaN</td>\n",
       "      <td>NaN</td>\n",
       "      <td>NaN</td>\n",
       "      <td>NaN</td>\n",
       "    </tr>\n",
       "    <tr>\n",
       "      <th>3</th>\n",
       "      <td>NaN</td>\n",
       "      <td>3.0</td>\n",
       "      <td>NaN</td>\n",
       "      <td>4.0</td>\n",
       "    </tr>\n",
       "  </tbody>\n",
       "</table>\n",
       "</div>"
      ],
      "text/plain": [
       "     A    B   C    D\n",
       "0  NaN  2.0 NaN  0.0\n",
       "1  3.0  4.0 NaN  1.0\n",
       "2  NaN  NaN NaN  NaN\n",
       "3  NaN  3.0 NaN  4.0"
      ]
     },
     "execution_count": 45,
     "metadata": {},
     "output_type": "execute_result"
    }
   ],
   "source": [
    "import numpy as np\n",
    "import numpy as np\n",
    "df = pd.DataFrame([[np.nan, 2, np.nan, 0],\n",
    "                    [3, 4, np.nan, 1],\n",
    "                    [np.nan, np.nan, np.nan, np.nan],\n",
    "                    [np.nan, 3, np.nan, 4]],\n",
    "                   columns=list(\"ABCD\"))\n",
    "df"
   ]
  },
  {
   "cell_type": "code",
   "execution_count": 46,
   "id": "596e4988-cf48-486c-8294-2086a2933d4e",
   "metadata": {},
   "outputs": [
    {
     "data": {
      "text/plain": [
       "0    NaN\n",
       "1    3.0\n",
       "2    3.0\n",
       "3    NaN\n",
       "Name: A, dtype: float64"
      ]
     },
     "execution_count": 46,
     "metadata": {},
     "output_type": "execute_result"
    }
   ],
   "source": [
    "df.A.fillna(method=\"ffill\", limit=1)"
   ]
  },
  {
   "cell_type": "code",
   "execution_count": null,
   "id": "bc51f307-2010-4abb-a6e1-a3913652aab1",
   "metadata": {},
   "outputs": [],
   "source": [
    "# 평균값은 df.col.mean()"
   ]
  }
 ],
 "metadata": {
  "kernelspec": {
   "display_name": "Python 3 (ipykernel)",
   "language": "python",
   "name": "python3"
  },
  "language_info": {
   "codemirror_mode": {
    "name": "ipython",
    "version": 3
   },
   "file_extension": ".py",
   "mimetype": "text/x-python",
   "name": "python",
   "nbconvert_exporter": "python",
   "pygments_lexer": "ipython3",
   "version": "3.8.18"
  }
 },
 "nbformat": 4,
 "nbformat_minor": 5
}
