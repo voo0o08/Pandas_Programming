{
 "cells": [
  {
   "cell_type": "markdown",
   "id": "6607227c-7dce-497d-ab21-24991fc60b57",
   "metadata": {},
   "source": [
    "쳐즥인다...\n",
    "dd누르면 셀 삭제\n",
    "shift + enter = 실행\n",
    "그 외 단축키 = Help -> keyboard shortcuts\n",
    "A = 위로 추가\n",
    "B = 아래로 추가\n",
    "tab누르면 자동완성 보임\n",
    "shift tab하면 설명 보임\n",
    "- 우우\n",
    "    * 아아"
   ]
  },
  {
   "cell_type": "markdown",
   "id": "44161b18-f578-480e-84ef-24ae3e5153ad",
   "metadata": {},
   "source": [
    "<h1>시리즈 살펴보기</h1>\n",
    "- 판다스에서 데이터를 저장하는 자료 구조 중 하나<br>- 동일한 타입의 데이터를 연속된 메모리 공간에 저장<br>  - 구성 : 인덱스 + 데이터<br>  \n",
    "- 생성 : Series() 생성자 메서드  "
   ]
  },
  {
   "cell_type": "markdown",
   "id": "7c87892e-47cd-4534-9a13-69b245e80b23",
   "metadata": {},
   "source": [
    "#### (1) 모듈 로딩 --------------------------"
   ]
  },
  {
   "cell_type": "code",
   "execution_count": 3,
   "id": "b7a425ec-ae4d-4e35-aa6c-307120f53bad",
   "metadata": {},
   "outputs": [],
   "source": [
    "import pandas as pd"
   ]
  },
  {
   "cell_type": "markdown",
   "id": "4ea0c6ce-5c37-4151-9057-5d81c842616c",
   "metadata": {},
   "source": [
    "#### 시리즈 객체 생성"
   ]
  },
  {
   "cell_type": "code",
   "execution_count": 11,
   "id": "01ae27e0-a0f8-4bdf-b13d-1b0dd4299444",
   "metadata": {},
   "outputs": [
    {
     "data": {
      "text/plain": [
       "0    11.0\n",
       "1    22.0\n",
       "2    33.0\n",
       "dtype: float64"
      ]
     },
     "execution_count": 11,
     "metadata": {},
     "output_type": "execute_result"
    }
   ],
   "source": [
    "# 객체 생성에 사용되는 메서드 => 생성자(COnstructor)\n",
    "# 데이터 타입과 동일한 이름의 메서드 => Series()\n",
    "sr = pd.Series([11, 22., 33])\n",
    "sr"
   ]
  },
  {
   "cell_type": "markdown",
   "id": "c3c29300-7e31-413f-8a1f-5b69454d865a",
   "metadata": {},
   "source": [
    "- (3) Series 객체의 속성(attributes)/필드(feild) 살펴보기\n",
    "    * 기본 : data, index, dtype\n",
    "    * 읽기 : 객체변수명.속성명\n",
    "    * 쓰기 : 객체변수명.속성명 = 새로운 값"
   ]
  },
  {
   "cell_type": "code",
   "execution_count": 12,
   "id": "872c4072-73ed-46e9-bd66-be056fd7d31b",
   "metadata": {},
   "outputs": [
    {
     "data": {
      "text/plain": [
       "RangeIndex(start=0, stop=3, step=1)"
      ]
     },
     "execution_count": 12,
     "metadata": {},
     "output_type": "execute_result"
    }
   ],
   "source": [
    "# 현재 시리즈 객체에 저장된 인덱스 속성\n",
    "sr.index"
   ]
  },
  {
   "cell_type": "code",
   "execution_count": 13,
   "id": "91a0c6d1-12c6-4d1d-bde4-c9c3644bb5b4",
   "metadata": {},
   "outputs": [
    {
     "data": {
      "text/plain": [
       "array([11., 22., 33.])"
      ]
     },
     "execution_count": 13,
     "metadata": {},
     "output_type": "execute_result"
    }
   ],
   "source": [
    "# 현재 시리즈 객체에 저장된 데이터 즉 값 확인\n",
    "# float이 하나라도 있으면 전부 float으로 바뀜\n",
    "sr.values"
   ]
  },
  {
   "cell_type": "code",
   "execution_count": null,
   "id": "234da806-ed65-490a-b4da-90f485eb8bfd",
   "metadata": {},
   "outputs": [],
   "source": []
  },
  {
   "cell_type": "code",
   "execution_count": 15,
   "id": "f7e9c596-2c85-4a46-888b-4f038f93f28b",
   "metadata": {},
   "outputs": [
    {
     "name": "stdout",
     "output_type": "stream",
     "text": [
      "0      11\n",
      "1    22.0\n",
      "2      33\n",
      "dtype: object\n",
      "RangeIndex(start=0, stop=3, step=1)\n",
      "[11 22.0 '33']\n"
     ]
    }
   ],
   "source": [
    "# 객체 생성에 사용되는 메서드 => 생성자(COnstructor)\n",
    "# 데이터 타입과 동일한 이름의 메서드 => Series()\n",
    "sr = pd.Series([11, 22., \"33\"]) # 데이터 타입이 오브젝트로 바뀜\n",
    "print(sr)\n",
    "print(sr.index)\n",
    "print(sr.values)"
   ]
  },
  {
   "cell_type": "code",
   "execution_count": 16,
   "id": "5066de95-5f9e-4ea5-9822-bf2460605b2c",
   "metadata": {},
   "outputs": [
    {
     "data": {
      "text/plain": [
       "100      11\n",
       "200    22.0\n",
       "300      33\n",
       "dtype: object"
      ]
     },
     "execution_count": 16,
     "metadata": {},
     "output_type": "execute_result"
    }
   ],
   "source": [
    "# 숫자 라벨 인덱스 지정하면 정수 위치 인덱스는 사용불가\n",
    "sr.index = [100, 200, 300]\n",
    "sr"
   ]
  },
  {
   "cell_type": "code",
   "execution_count": 17,
   "id": "79075caa-61ee-4509-baec-389fe760823d",
   "metadata": {},
   "outputs": [
    {
     "ename": "AttributeError",
     "evalue": "'Series' object has no attribute 'vaules'",
     "output_type": "error",
     "traceback": [
      "\u001b[1;31m---------------------------------------------------------------------------\u001b[0m",
      "\u001b[1;31mAttributeError\u001b[0m                            Traceback (most recent call last)",
      "Cell \u001b[1;32mIn[17], line 1\u001b[0m\n\u001b[1;32m----> 1\u001b[0m \u001b[43msr\u001b[49m\u001b[38;5;241;43m.\u001b[39;49m\u001b[43mvaules\u001b[49m[\u001b[38;5;241m77\u001b[39m, \u001b[38;5;241m88\u001b[39m, \u001b[38;5;241m99\u001b[39m]\n",
      "File \u001b[1;32m~\\anaconda3\\envs\\My_38\\lib\\site-packages\\pandas\\core\\generic.py:5989\u001b[0m, in \u001b[0;36mNDFrame.__getattr__\u001b[1;34m(self, name)\u001b[0m\n\u001b[0;32m   5982\u001b[0m \u001b[38;5;28;01mif\u001b[39;00m (\n\u001b[0;32m   5983\u001b[0m     name \u001b[38;5;129;01mnot\u001b[39;00m \u001b[38;5;129;01min\u001b[39;00m \u001b[38;5;28mself\u001b[39m\u001b[38;5;241m.\u001b[39m_internal_names_set\n\u001b[0;32m   5984\u001b[0m     \u001b[38;5;129;01mand\u001b[39;00m name \u001b[38;5;129;01mnot\u001b[39;00m \u001b[38;5;129;01min\u001b[39;00m \u001b[38;5;28mself\u001b[39m\u001b[38;5;241m.\u001b[39m_metadata\n\u001b[0;32m   5985\u001b[0m     \u001b[38;5;129;01mand\u001b[39;00m name \u001b[38;5;129;01mnot\u001b[39;00m \u001b[38;5;129;01min\u001b[39;00m \u001b[38;5;28mself\u001b[39m\u001b[38;5;241m.\u001b[39m_accessors\n\u001b[0;32m   5986\u001b[0m     \u001b[38;5;129;01mand\u001b[39;00m \u001b[38;5;28mself\u001b[39m\u001b[38;5;241m.\u001b[39m_info_axis\u001b[38;5;241m.\u001b[39m_can_hold_identifiers_and_holds_name(name)\n\u001b[0;32m   5987\u001b[0m ):\n\u001b[0;32m   5988\u001b[0m     \u001b[38;5;28;01mreturn\u001b[39;00m \u001b[38;5;28mself\u001b[39m[name]\n\u001b[1;32m-> 5989\u001b[0m \u001b[38;5;28;01mreturn\u001b[39;00m \u001b[38;5;28;43mobject\u001b[39;49m\u001b[38;5;241;43m.\u001b[39;49m\u001b[38;5;21;43m__getattribute__\u001b[39;49m\u001b[43m(\u001b[49m\u001b[38;5;28;43mself\u001b[39;49m\u001b[43m,\u001b[49m\u001b[43m \u001b[49m\u001b[43mname\u001b[49m\u001b[43m)\u001b[49m\n",
      "\u001b[1;31mAttributeError\u001b[0m: 'Series' object has no attribute 'vaules'"
     ]
    }
   ],
   "source": [
    "sr.vaules[77, 88, 99]"
   ]
  },
  {
   "cell_type": "markdown",
   "id": "c504cc48-d565-43ed-b970-0bd4b01d1b5e",
   "metadata": {},
   "source": [
    "인덱스는 마음대로 휘뚜루 마뚜루 바꿨지만, values는 이런 식으로 바꾸면 안됨!! \"sr.속성명=어쩌구\"가 다 되는 것은 아니다!!"
   ]
  },
  {
   "cell_type": "markdown",
   "id": "2f27f97e-a775-4e5a-8638-7ac7af6971ba",
   "metadata": {},
   "source": [
    "- (4) 시리즈 객체의 요소 데이터/값 제어\n",
    "    * 읽기 : 객체변수명[index]\n",
    "    * 쓰기 : 객체변수[index] = 새로운 값"
   ]
  },
  {
   "cell_type": "code",
   "execution_count": 19,
   "id": "5618b4ef-8757-46de-a9e3-804e882d6338",
   "metadata": {},
   "outputs": [
    {
     "data": {
      "text/plain": [
       "11"
      ]
     },
     "execution_count": 19,
     "metadata": {},
     "output_type": "execute_result"
    }
   ],
   "source": [
    "sr[100]"
   ]
  },
  {
   "cell_type": "code",
   "execution_count": 20,
   "id": "1d406bb3-4fcb-401d-82ca-ca044f823d33",
   "metadata": {},
   "outputs": [
    {
     "data": {
      "text/plain": [
       "100     111\n",
       "200    22.0\n",
       "300      33\n",
       "dtype: object"
      ]
     },
     "execution_count": 20,
     "metadata": {},
     "output_type": "execute_result"
    }
   ],
   "source": [
    "sr[100] = 111\n",
    "sr"
   ]
  },
  {
   "cell_type": "code",
   "execution_count": 22,
   "id": "7c1ad5d3-f40d-483d-bf51-7704e66198e4",
   "metadata": {},
   "outputs": [
    {
     "data": {
      "text/plain": [
       "111"
      ]
     },
     "execution_count": 22,
     "metadata": {},
     "output_type": "execute_result"
    }
   ],
   "source": [
    "sr.index = [\"A\", \"B\", \"D\"] # 문자는 label로 인식하지만 만약 index가 정수형이라면 인덱싱[0, 1, 3] 위치 불가능\n",
    "sr[0]"
   ]
  },
  {
   "cell_type": "code",
   "execution_count": null,
   "id": "3dbc222c-7e20-4f46-baf7-d3fcfb555852",
   "metadata": {},
   "outputs": [],
   "source": [
    "for idx in sr.index:\n",
    "    print(idx, sr[idx]"
   ]
  },
  {
   "cell_type": "code",
   "execution_count": 26,
   "id": "23b56bdc-3135-4284-ba11-3a26d23dcd8f",
   "metadata": {},
   "outputs": [
    {
     "data": {
      "text/plain": [
       "111"
      ]
     },
     "execution_count": 26,
     "metadata": {},
     "output_type": "execute_result"
    }
   ],
   "source": [
    "# 문자열 숫자로 인덱스 변경\n",
    "sr.index = [\"1\", \"2\", \"3\"] \n",
    "sr[\"1\"]"
   ]
  },
  {
   "cell_type": "code",
   "execution_count": 27,
   "id": "87fbf703-0973-4853-8216-b74500d1631a",
   "metadata": {},
   "outputs": [
    {
     "data": {
      "text/plain": [
       "22.0"
      ]
     },
     "execution_count": 27,
     "metadata": {},
     "output_type": "execute_result"
    }
   ],
   "source": [
    "sr[1]"
   ]
  },
  {
   "cell_type": "code",
   "execution_count": null,
   "id": "bbf05007-417f-42e0-a15d-62fab134462e",
   "metadata": {},
   "outputs": [],
   "source": []
  }
 ],
 "metadata": {
  "kernelspec": {
   "display_name": "Python 3 (ipykernel)",
   "language": "python",
   "name": "python3"
  },
  "language_info": {
   "codemirror_mode": {
    "name": "ipython",
    "version": 3
   },
   "file_extension": ".py",
   "mimetype": "text/x-python",
   "name": "python",
   "nbconvert_exporter": "python",
   "pygments_lexer": "ipython3",
   "version": "3.8.18"
  }
 },
 "nbformat": 4,
 "nbformat_minor": 5
}
