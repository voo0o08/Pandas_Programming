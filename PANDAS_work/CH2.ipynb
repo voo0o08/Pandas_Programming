{
 "cells": [
  {
   "cell_type": "code",
   "execution_count": 14,
   "id": "a6222f6e-9c58-483e-b1f4-9f1fc5a777ae",
   "metadata": {},
   "outputs": [],
   "source": [
    "import pandas as pd\n",
    "from numpy import nan # nan(not a number = null/부재)"
   ]
  },
  {
   "cell_type": "markdown",
   "id": "3517047d-5ce7-4808-99ac-e4253108e4f8",
   "metadata": {},
   "source": [
    "## 2.1.2 Series 값 채우기"
   ]
  },
  {
   "cell_type": "code",
   "execution_count": 2,
   "id": "7e35920a-a010-4fd2-bcfb-4c00005b9beb",
   "metadata": {},
   "outputs": [
    {
     "data": {
      "text/plain": [
       "Series([], dtype: object)"
      ]
     },
     "execution_count": 2,
     "metadata": {},
     "output_type": "execute_result"
    }
   ],
   "source": [
    "pd.Series() \n",
    "# 생성자 = constructor는 클래스에서 객체를 만드는 메서드 \n",
    "# 인수 = argument는 메서드에 전달하는 입력\n",
    "# 매개변수 = parameter는 함수 또는 메서드에서 기대한느 입력을 부르는 이름\n",
    "# 파이썬은 생성자에 전달한 모든 인수를 내부적으로 매개변수와 연결함"
   ]
  },
  {
   "cell_type": "code",
   "execution_count": 3,
   "id": "031d2623-08f7-4bcc-9cce-79451d9e3bfb",
   "metadata": {},
   "outputs": [
    {
     "data": {
      "text/plain": [
       "0     Chocolate\n",
       "1       Vanilla\n",
       "2    Strawberry\n",
       "3    Rum Raisin\n",
       "dtype: object"
      ]
     },
     "execution_count": 3,
     "metadata": {},
     "output_type": "execute_result"
    }
   ],
   "source": [
    "ice_cream_flavors = [\"Chocolate\", \"Vanilla\", \"Strawberry\", \"Rum Raisin\"]\n",
    "pd.Series(ice_cream_flavors)"
   ]
  },
  {
   "cell_type": "code",
   "execution_count": null,
   "id": "7809300c-7630-448a-a2ce-71a559988406",
   "metadata": {},
   "outputs": [],
   "source": [
    "# shift + tab 기본인수 : default argument는 매개변수에 대한 인수를 제공하지 않는 경우 파이썬이 사용하는 대체값\n",
    "# 각 값은 2개의 식별자를 가질 수 있다 : 위치 인덱스, 라벨 인덱스"
   ]
  },
  {
   "cell_type": "markdown",
   "id": "46082967-2e88-4bfc-aa15-ee24fe54c8c6",
   "metadata": {},
   "source": [
    "## 2.1.3 Series 인덱스 사용자 정의"
   ]
  },
  {
   "cell_type": "code",
   "execution_count": 4,
   "id": "c1139f2d-e2de-4883-9f1f-b2d6e7395a61",
   "metadata": {},
   "outputs": [],
   "source": [
    "ice_cream_flavors = [\"Chocolate\", \"Vanilla\", \"Strawberry\", \"Rum Raisin\"]\n",
    "days_of_week = (\"Monday\", \"Wednesday\", \"Friday\", \"Saturday\")"
   ]
  },
  {
   "cell_type": "code",
   "execution_count": 5,
   "id": "45ca9c20-558a-4011-babe-da05692a344d",
   "metadata": {},
   "outputs": [
    {
     "data": {
      "text/plain": [
       "Monday        Chocolate\n",
       "Wednesday       Vanilla\n",
       "Friday       Strawberry\n",
       "Saturday     Rum Raisin\n",
       "dtype: object"
      ]
     },
     "execution_count": 5,
     "metadata": {},
     "output_type": "execute_result"
    }
   ],
   "source": [
    "pd.Series(ice_cream_flavors, days_of_week)"
   ]
  },
  {
   "cell_type": "code",
   "execution_count": 7,
   "id": "d123838b-26c6-4b4c-85a2-f984cf0df403",
   "metadata": {},
   "outputs": [
    {
     "data": {
      "text/plain": [
       "Monday        Chocolate\n",
       "Wednesday       Vanilla\n",
       "Friday       Strawberry\n",
       "Saturday     Rum Raisin\n",
       "dtype: object"
      ]
     },
     "execution_count": 7,
     "metadata": {},
     "output_type": "execute_result"
    }
   ],
   "source": [
    "pd.Series(data = ice_cream_flavors, index = days_of_week)"
   ]
  },
  {
   "cell_type": "code",
   "execution_count": 9,
   "id": "49122088-c43c-4dd9-b4fb-51ba8cfa77dd",
   "metadata": {},
   "outputs": [
    {
     "data": {
      "text/plain": [
       "0     True\n",
       "1    False\n",
       "2    False\n",
       "dtype: bool"
      ]
     },
     "execution_count": 9,
     "metadata": {},
     "output_type": "execute_result"
    }
   ],
   "source": [
    "# dtype의 경우 bool, int, float 외에는 전부 object로 표기\n",
    "bunch_of_bools = [True, False, False]\n",
    "pd.Series(bunch_of_bools) "
   ]
  },
  {
   "cell_type": "code",
   "execution_count": 12,
   "id": "f0e5286e-2f84-4ace-b00a-c70c07ee6c50",
   "metadata": {},
   "outputs": [
    {
     "data": {
      "text/plain": [
       "0      1.0\n",
       "1    546.0\n",
       "2     31.0\n",
       "dtype: float64"
      ]
     },
     "execution_count": 12,
     "metadata": {},
     "output_type": "execute_result"
    }
   ],
   "source": [
    "nums = [1.0, 546, 31]\n",
    "pd.Series(nums) "
   ]
  },
  {
   "cell_type": "code",
   "execution_count": 13,
   "id": "13cfc5ff-0d92-4978-a171-436ebb479daa",
   "metadata": {},
   "outputs": [
    {
     "data": {
      "text/plain": [
       "0      1.0\n",
       "1    546.0\n",
       "2     31.0\n",
       "dtype: float64"
      ]
     },
     "execution_count": 13,
     "metadata": {},
     "output_type": "execute_result"
    }
   ],
   "source": [
    "# dtype 지정\n",
    "nums = [1, 546, 31]\n",
    "pd.Series(nums, dtype=\"float\") "
   ]
  },
  {
   "cell_type": "markdown",
   "id": "baa5a1d0-df2c-484b-922b-0ff048990e0a",
   "metadata": {},
   "source": [
    "## 2.1.4 결측값이 있는 Series 생성"
   ]
  },
  {
   "cell_type": "code",
   "execution_count": 15,
   "id": "4d1db213-88dc-4222-9de3-8a737a8c332f",
   "metadata": {},
   "outputs": [
    {
     "data": {
      "text/plain": [
       "0    94.0\n",
       "1    88.0\n",
       "2     NaN\n",
       "3    91.0\n",
       "dtype: float64"
      ]
     },
     "execution_count": 15,
     "metadata": {},
     "output_type": "execute_result"
    }
   ],
   "source": [
    "temperatures = [94, 88, nan, 91]\n",
    "pd.Series(temperatures)"
   ]
  },
  {
   "cell_type": "markdown",
   "id": "a76b8698-63b8-4e4a-9ff1-5b42efe3e189",
   "metadata": {},
   "source": [
    "# 2.2 파이썬 객체에서 Series 생성"
   ]
  },
  {
   "cell_type": "markdown",
   "id": "70c77d02-580e-4086-8394-284f79bf7799",
   "metadata": {},
   "source": [
    "Series 생성자가 딕셔너리, 튜플, set, numpy 배열을 만나면 어떻게 되는지 알아보자"
   ]
  },
  {
   "cell_type": "code",
   "execution_count": 18,
   "id": "697e002b-d8d3-4b6e-a64e-00a8e6b7e9ff",
   "metadata": {},
   "outputs": [
    {
     "data": {
      "text/plain": [
       "Cereal              125\n",
       "chocolate Bar       406\n",
       "Ice cream Sundae    342\n",
       "dtype: int64"
      ]
     },
     "execution_count": 18,
     "metadata": {},
     "output_type": "execute_result"
    }
   ],
   "source": [
    "# dict\n",
    "cal_info = {\n",
    "    \"Cereal\": 125,\n",
    "    \"chocolate Bar\": 406,\n",
    "    \"Ice cream Sundae\": 342\n",
    "}\n",
    "pd.Series(cal_info)"
   ]
  },
  {
   "cell_type": "code",
   "execution_count": 19,
   "id": "48fdb128-1ac0-4b40-867e-a9fe59875c82",
   "metadata": {},
   "outputs": [
    {
     "data": {
      "text/plain": [
       "0    (1, 2, 3)\n",
       "1    (4, 5, 6)\n",
       "dtype: object"
      ]
     },
     "execution_count": 19,
     "metadata": {},
     "output_type": "execute_result"
    }
   ],
   "source": [
    "rgb_col = ((1, 2, 3),(4, 5, 6))\n",
    "pd.Series(rgb_col)"
   ]
  },
  {
   "cell_type": "code",
   "execution_count": 20,
   "id": "f53d71b1-f970-471d-a0fd-f5f288b5f778",
   "metadata": {},
   "outputs": [
    {
     "data": {
      "text/plain": [
       "0    (1, 2, 3)\n",
       "1    (4, 5, 6)\n",
       "dtype: object"
      ]
     },
     "execution_count": 20,
     "metadata": {},
     "output_type": "execute_result"
    }
   ],
   "source": [
    "rgb_col = [(1, 2, 3),(4, 5, 6)]\n",
    "pd.Series(rgb_col) # 위와 결과는 똑같당"
   ]
  },
  {
   "cell_type": "code",
   "execution_count": 23,
   "id": "f63b9397-e82c-4157-9182-ed365866f83b",
   "metadata": {},
   "outputs": [
    {
     "ename": "TypeError",
     "evalue": "'set' type is unordered",
     "output_type": "error",
     "traceback": [
      "\u001b[1;31m---------------------------------------------------------------------------\u001b[0m",
      "\u001b[1;31mTypeError\u001b[0m                                 Traceback (most recent call last)",
      "Cell \u001b[1;32mIn[23], line 2\u001b[0m\n\u001b[0;32m      1\u001b[0m set_num \u001b[38;5;241m=\u001b[39m \u001b[38;5;28mset\u001b[39m([\u001b[38;5;241m1\u001b[39m, \u001b[38;5;241m2\u001b[39m, \u001b[38;5;241m3\u001b[39m])\n\u001b[1;32m----> 2\u001b[0m \u001b[43mpd\u001b[49m\u001b[38;5;241;43m.\u001b[39;49m\u001b[43mSeries\u001b[49m\u001b[43m(\u001b[49m\u001b[43mset_num\u001b[49m\u001b[43m)\u001b[49m\n",
      "File \u001b[1;32m~\\anaconda3\\envs\\My_38\\lib\\site-packages\\pandas\\core\\series.py:509\u001b[0m, in \u001b[0;36mSeries.__init__\u001b[1;34m(self, data, index, dtype, name, copy, fastpath)\u001b[0m\n\u001b[0;32m    507\u001b[0m         data \u001b[38;5;241m=\u001b[39m data\u001b[38;5;241m.\u001b[39mcopy()\n\u001b[0;32m    508\u001b[0m \u001b[38;5;28;01melse\u001b[39;00m:\n\u001b[1;32m--> 509\u001b[0m     data \u001b[38;5;241m=\u001b[39m \u001b[43msanitize_array\u001b[49m\u001b[43m(\u001b[49m\u001b[43mdata\u001b[49m\u001b[43m,\u001b[49m\u001b[43m \u001b[49m\u001b[43mindex\u001b[49m\u001b[43m,\u001b[49m\u001b[43m \u001b[49m\u001b[43mdtype\u001b[49m\u001b[43m,\u001b[49m\u001b[43m \u001b[49m\u001b[43mcopy\u001b[49m\u001b[43m)\u001b[49m\n\u001b[0;32m    511\u001b[0m     manager \u001b[38;5;241m=\u001b[39m get_option(\u001b[38;5;124m\"\u001b[39m\u001b[38;5;124mmode.data_manager\u001b[39m\u001b[38;5;124m\"\u001b[39m)\n\u001b[0;32m    512\u001b[0m     \u001b[38;5;28;01mif\u001b[39;00m manager \u001b[38;5;241m==\u001b[39m \u001b[38;5;124m\"\u001b[39m\u001b[38;5;124mblock\u001b[39m\u001b[38;5;124m\"\u001b[39m:\n",
      "File \u001b[1;32m~\\anaconda3\\envs\\My_38\\lib\\site-packages\\pandas\\core\\construction.py:590\u001b[0m, in \u001b[0;36msanitize_array\u001b[1;34m(data, index, dtype, copy, allow_2d)\u001b[0m\n\u001b[0;32m    581\u001b[0m     \u001b[38;5;28;01mreturn\u001b[39;00m sanitize_array(\n\u001b[0;32m    582\u001b[0m         data,\n\u001b[0;32m    583\u001b[0m         index\u001b[38;5;241m=\u001b[39mindex,\n\u001b[1;32m   (...)\u001b[0m\n\u001b[0;32m    586\u001b[0m         allow_2d\u001b[38;5;241m=\u001b[39mallow_2d,\n\u001b[0;32m    587\u001b[0m     )\n\u001b[0;32m    589\u001b[0m \u001b[38;5;28;01melse\u001b[39;00m:\n\u001b[1;32m--> 590\u001b[0m     \u001b[43m_sanitize_non_ordered\u001b[49m\u001b[43m(\u001b[49m\u001b[43mdata\u001b[49m\u001b[43m)\u001b[49m\n\u001b[0;32m    591\u001b[0m     \u001b[38;5;66;03m# materialize e.g. generators, convert e.g. tuples, abc.ValueView\u001b[39;00m\n\u001b[0;32m    592\u001b[0m     data \u001b[38;5;241m=\u001b[39m \u001b[38;5;28mlist\u001b[39m(data)\n",
      "File \u001b[1;32m~\\anaconda3\\envs\\My_38\\lib\\site-packages\\pandas\\core\\construction.py:641\u001b[0m, in \u001b[0;36m_sanitize_non_ordered\u001b[1;34m(data)\u001b[0m\n\u001b[0;32m    637\u001b[0m \u001b[38;5;250m\u001b[39m\u001b[38;5;124;03m\"\"\"\u001b[39;00m\n\u001b[0;32m    638\u001b[0m \u001b[38;5;124;03mRaise only for unordered sets, e.g., not for dict_keys\u001b[39;00m\n\u001b[0;32m    639\u001b[0m \u001b[38;5;124;03m\"\"\"\u001b[39;00m\n\u001b[0;32m    640\u001b[0m \u001b[38;5;28;01mif\u001b[39;00m \u001b[38;5;28misinstance\u001b[39m(data, (\u001b[38;5;28mset\u001b[39m, \u001b[38;5;28mfrozenset\u001b[39m)):\n\u001b[1;32m--> 641\u001b[0m     \u001b[38;5;28;01mraise\u001b[39;00m \u001b[38;5;167;01mTypeError\u001b[39;00m(\u001b[38;5;124mf\u001b[39m\u001b[38;5;124m\"\u001b[39m\u001b[38;5;124m'\u001b[39m\u001b[38;5;132;01m{\u001b[39;00m\u001b[38;5;28mtype\u001b[39m(data)\u001b[38;5;241m.\u001b[39m\u001b[38;5;18m__name__\u001b[39m\u001b[38;5;132;01m}\u001b[39;00m\u001b[38;5;124m'\u001b[39m\u001b[38;5;124m type is unordered\u001b[39m\u001b[38;5;124m\"\u001b[39m)\n",
      "\u001b[1;31mTypeError\u001b[0m: 'set' type is unordered"
     ]
    }
   ],
   "source": [
    "set_num = set([1, 2, 3])\n",
    "pd.Series(set_num)\n",
    "# 셋과 같이 순서형이 아닌 데이터는 시리즈로 받을 수 없음!!"
   ]
  },
  {
   "cell_type": "markdown",
   "id": "5f103120-de62-40ac-9201-a21a36c69618",
   "metadata": {},
   "source": [
    "# 2.3 Series의 속성"
   ]
  },
  {
   "cell_type": "markdown",
   "id": "1431b149-b1b8-46f5-b65b-5c7ce404e958",
   "metadata": {},
   "source": [
    "속성(attribute)는 객체에 속하는 데이터의 조각, 속성은 객체의 내부 상태에 대한 정보를 나타냄."
   ]
  },
  {
   "cell_type": "code",
   "execution_count": 31,
   "id": "26f9fa86-3602-4f45-99d1-e7ad20aa98d9",
   "metadata": {},
   "outputs": [
    {
     "data": {
      "text/plain": [
       "Cereal              125\n",
       "chocolate Bar       406\n",
       "Ice cream Sundae    342\n",
       "dtype: int64"
      ]
     },
     "execution_count": 31,
     "metadata": {},
     "output_type": "execute_result"
    }
   ],
   "source": [
    "cal_info = {\n",
    "    \"Cereal\": 125,\n",
    "    \"chocolate Bar\": 406,\n",
    "    \"Ice cream Sundae\": 342\n",
    "}\n",
    "diet = pd.Series(cal_info)\n",
    "# ndarray 객체를 사용하여 칼로리 수를 저장하고 판다스 라이브러리의 Index 객체를 사용하여 인덱스에 음식 저장 후\n",
    "# Series의 속성을 통해 중첩 객체에 접근\n",
    "diet"
   ]
  },
  {
   "cell_type": "code",
   "execution_count": 32,
   "id": "4c7b672f-49f3-4f93-a773-5a698cdb8df3",
   "metadata": {},
   "outputs": [
    {
     "data": {
      "text/plain": [
       "array([125, 406, 342], dtype=int64)"
      ]
     },
     "execution_count": 32,
     "metadata": {},
     "output_type": "execute_result"
    }
   ],
   "source": [
    "# values 속성으로 값을 저장하는 ndarray객체\n",
    "diet.values"
   ]
  },
  {
   "cell_type": "code",
   "execution_count": 33,
   "id": "30b19ecb-461b-4654-96e6-27b643e4bff6",
   "metadata": {},
   "outputs": [
    {
     "data": {
      "text/plain": [
       "numpy.ndarray"
      ]
     },
     "execution_count": 33,
     "metadata": {},
     "output_type": "execute_result"
    }
   ],
   "source": [
    "type(diet.values)"
   ]
  },
  {
   "cell_type": "code",
   "execution_count": 34,
   "id": "6060fdbb-6d4d-41a9-86fe-2ad1cc1767cd",
   "metadata": {},
   "outputs": [
    {
     "data": {
      "text/plain": [
       "Index(['Cereal', 'chocolate Bar', 'Ice cream Sundae'], dtype='object')"
      ]
     },
     "execution_count": 34,
     "metadata": {},
     "output_type": "execute_result"
    }
   ],
   "source": [
    "diet.index"
   ]
  },
  {
   "cell_type": "code",
   "execution_count": 35,
   "id": "fa10f643-263b-45cc-a23b-422a7d19f05e",
   "metadata": {},
   "outputs": [
    {
     "data": {
      "text/plain": [
       "pandas.core.indexes.base.Index"
      ]
     },
     "execution_count": 35,
     "metadata": {},
     "output_type": "execute_result"
    }
   ],
   "source": [
    "type(diet.index)"
   ]
  },
  {
   "cell_type": "code",
   "execution_count": 36,
   "id": "5835e735-afcf-4380-909e-70d18563f6c9",
   "metadata": {},
   "outputs": [
    {
     "data": {
      "text/plain": [
       "False"
      ]
     },
     "execution_count": 36,
     "metadata": {},
     "output_type": "execute_result"
    }
   ],
   "source": [
    "pd.Series([3, 3]).is_unique"
   ]
  },
  {
   "cell_type": "code",
   "execution_count": 37,
   "id": "a07356c7-4a3f-426d-8810-5b5c020c921e",
   "metadata": {},
   "outputs": [
    {
     "data": {
      "text/plain": [
       "True"
      ]
     },
     "execution_count": 37,
     "metadata": {},
     "output_type": "execute_result"
    }
   ],
   "source": [
    "pd.Series([1, 3]).is_unique"
   ]
  },
  {
   "cell_type": "code",
   "execution_count": 39,
   "id": "a03fb025-0e41-4c74-8d64-815664d4f6f5",
   "metadata": {},
   "outputs": [
    {
     "data": {
      "text/plain": [
       "True"
      ]
     },
     "execution_count": 39,
     "metadata": {},
     "output_type": "execute_result"
    }
   ],
   "source": [
    "# 간격 무관 값이 자신의 이전 값보다 크면 is_monotonic 속성은 True\n",
    "pd.Series([1, 2, 3]).is_monotonic_increasing"
   ]
  },
  {
   "cell_type": "code",
   "execution_count": 40,
   "id": "eee83820-948c-42ae-8bde-c54601737a37",
   "metadata": {},
   "outputs": [
    {
     "data": {
      "text/plain": [
       "False"
      ]
     },
     "execution_count": 40,
     "metadata": {},
     "output_type": "execute_result"
    }
   ],
   "source": [
    "pd.Series([1, 2, 3]).is_monotonic_decreasing"
   ]
  },
  {
   "cell_type": "markdown",
   "id": "8fcb4588-d270-429d-85f6-b03b579338d7",
   "metadata": {},
   "source": [
    "# 2.5 수학 연산"
   ]
  },
  {
   "cell_type": "markdown",
   "id": "b235d2c1-511f-4001-a9f6-80ecc65da7fe",
   "metadata": {},
   "source": [
    "## 2.5.1 통계 연산"
   ]
  },
  {
   "cell_type": "code",
   "execution_count": 44,
   "id": "47e279e3-495e-4688-b7db-6d794c52f53d",
   "metadata": {},
   "outputs": [
    {
     "data": {
      "text/plain": [
       "0    1.0\n",
       "1    2.0\n",
       "2    3.0\n",
       "3    NaN\n",
       "4    4.0\n",
       "5    5.0\n",
       "dtype: float64"
      ]
     },
     "execution_count": 44,
     "metadata": {},
     "output_type": "execute_result"
    }
   ],
   "source": [
    "numbers = pd.Series([1, 2, 3, nan, 4, 5])\n",
    "numbers"
   ]
  },
  {
   "cell_type": "code",
   "execution_count": 45,
   "id": "42992985-55ac-4ee4-83bb-5240843ff2c6",
   "metadata": {},
   "outputs": [
    {
     "data": {
      "text/plain": [
       "5"
      ]
     },
     "execution_count": 45,
     "metadata": {},
     "output_type": "execute_result"
    }
   ],
   "source": [
    "numbers.count()"
   ]
  },
  {
   "cell_type": "code",
   "execution_count": 49,
   "id": "4681ed9f-661a-43a8-905c-da68dd35e140",
   "metadata": {},
   "outputs": [
    {
     "data": {
      "text/plain": [
       "nan"
      ]
     },
     "execution_count": 49,
     "metadata": {},
     "output_type": "execute_result"
    }
   ],
   "source": [
    "numbers.sum(skipna = False, min_count = 0)"
   ]
  },
  {
   "cell_type": "code",
   "execution_count": 50,
   "id": "62d3232e-7860-412b-872c-89f779e31cf0",
   "metadata": {},
   "outputs": [
    {
     "data": {
      "text/plain": [
       "0    1.0\n",
       "1    2.0\n",
       "2    3.0\n",
       "3    NaN\n",
       "4    4.0\n",
       "5    5.0\n",
       "dtype: float64"
      ]
     },
     "execution_count": 50,
     "metadata": {},
     "output_type": "execute_result"
    }
   ],
   "source": [
    "numbers"
   ]
  },
  {
   "cell_type": "code",
   "execution_count": 53,
   "id": "5bc3015b-7249-4cb1-9eca-8597e68e8689",
   "metadata": {},
   "outputs": [
    {
     "data": {
      "text/plain": [
       "0    1.0\n",
       "1    3.0\n",
       "2    6.0\n",
       "3    NaN\n",
       "4    NaN\n",
       "5    NaN\n",
       "dtype: float64"
      ]
     },
     "execution_count": 53,
     "metadata": {},
     "output_type": "execute_result"
    }
   ],
   "source": [
    "numbers.cumsum(skipna=False)"
   ]
  },
  {
   "cell_type": "code",
   "execution_count": 54,
   "id": "c3c6dd0d-a77c-4dd0-9cc5-afdeffc08a04",
   "metadata": {},
   "outputs": [
    {
     "data": {
      "text/plain": [
       "0         NaN\n",
       "1    1.000000\n",
       "2    0.500000\n",
       "3    0.000000\n",
       "4    0.333333\n",
       "5    0.250000\n",
       "dtype: float64"
      ]
     },
     "execution_count": 54,
     "metadata": {},
     "output_type": "execute_result"
    }
   ],
   "source": [
    "numbers.pct_change()"
   ]
  },
  {
   "cell_type": "code",
   "execution_count": 55,
   "id": "696702c7-e04a-41b7-a43d-0c0f26e7a180",
   "metadata": {},
   "outputs": [
    {
     "data": {
      "text/plain": [
       "0         NaN\n",
       "1    1.000000\n",
       "2    0.500000\n",
       "3    0.333333\n",
       "4    0.000000\n",
       "5    0.250000\n",
       "dtype: float64"
      ]
     },
     "execution_count": 55,
     "metadata": {},
     "output_type": "execute_result"
    }
   ],
   "source": [
    "numbers.pct_change(fill_method = \"bfill\")"
   ]
  },
  {
   "cell_type": "code",
   "execution_count": 57,
   "id": "4b01f851-1788-44cc-b750-27dfa32abcc3",
   "metadata": {},
   "outputs": [
    {
     "data": {
      "text/plain": [
       "5    5.0\n",
       "0    1.0\n",
       "4    4.0\n",
       "dtype: float64"
      ]
     },
     "execution_count": 57,
     "metadata": {},
     "output_type": "execute_result"
    }
   ],
   "source": [
    "numbers.sample(3)"
   ]
  },
  {
   "cell_type": "markdown",
   "id": "b3a5612e-2e85-4cae-a885-f1c643481d49",
   "metadata": {},
   "source": [
    "## 2.5.2 산술 연산"
   ]
  },
  {
   "cell_type": "code",
   "execution_count": 69,
   "id": "c9f39c67-4dd8-4f2e-9007-b8d03255189e",
   "metadata": {},
   "outputs": [
    {
     "data": {
      "text/plain": [
       "A     5\n",
       "B    15\n",
       "C    15\n",
       "dtype: int64"
      ]
     },
     "execution_count": 69,
     "metadata": {},
     "output_type": "execute_result"
    }
   ],
   "source": [
    "s1 = pd.Series(data = [5, 15, 15], index = [\"A\", \"B\", \"C\"])\n",
    "s1"
   ]
  },
  {
   "cell_type": "code",
   "execution_count": 71,
   "id": "174fd3c7-bb1a-4aa9-b9a1-4ead8882a78f",
   "metadata": {},
   "outputs": [
    {
     "data": {
      "text/plain": [
       "B       100\n",
       "C       200\n",
       "D       300\n",
       "A    100000\n",
       "dtype: int64"
      ]
     },
     "execution_count": 71,
     "metadata": {},
     "output_type": "execute_result"
    }
   ],
   "source": [
    "s2 = pd.Series(data = [100, 200, 300, 100000], index = [ \"B\", \"C\", \"D\", \"A\"])\n",
    "s2"
   ]
  },
  {
   "cell_type": "code",
   "execution_count": 72,
   "id": "01fbf152-20c0-4a98-87c4-269e7231c6c2",
   "metadata": {},
   "outputs": [
    {
     "data": {
      "text/plain": [
       "A    100005.0\n",
       "B       115.0\n",
       "C       215.0\n",
       "D         NaN\n",
       "dtype: float64"
      ]
     },
     "execution_count": 72,
     "metadata": {},
     "output_type": "execute_result"
    }
   ],
   "source": [
    "s1 + s2"
   ]
  },
  {
   "cell_type": "code",
   "execution_count": 75,
   "id": "d3c44537-3a63-433a-9cba-a3b28244a82a",
   "metadata": {},
   "outputs": [
    {
     "data": {
      "text/plain": [
       "0     영천\n",
       "1     경산\n",
       "2     대구\n",
       "3    NaN\n",
       "dtype: object"
      ]
     },
     "execution_count": 75,
     "metadata": {},
     "output_type": "execute_result"
    }
   ],
   "source": [
    "cities = pd.Series([\"영천\", \"경산\", \"대구\", nan])\n",
    "cities"
   ]
  },
  {
   "cell_type": "code",
   "execution_count": 76,
   "id": "bd6ada65-4027-4636-967f-862b54f9f868",
   "metadata": {},
   "outputs": [
    {
     "data": {
      "text/plain": [
       "['영천', '경산', '대구', nan]"
      ]
     },
     "execution_count": 76,
     "metadata": {},
     "output_type": "execute_result"
    }
   ],
   "source": [
    "list(cities)"
   ]
  },
  {
   "cell_type": "code",
   "execution_count": 77,
   "id": "d298768c-469e-4672-b8e9-68d3981bf1f3",
   "metadata": {},
   "outputs": [
    {
     "data": {
      "text/plain": [
       "{0: '영천', 1: '경산', 2: '대구', 3: nan}"
      ]
     },
     "execution_count": 77,
     "metadata": {},
     "output_type": "execute_result"
    }
   ],
   "source": [
    "dict(cities)"
   ]
  },
  {
   "cell_type": "code",
   "execution_count": 81,
   "id": "25805cc6-5790-4fec-bcec-8b81dcc0acb3",
   "metadata": {},
   "outputs": [
    {
     "data": {
      "text/plain": [
       "4"
      ]
     },
     "execution_count": 81,
     "metadata": {},
     "output_type": "execute_result"
    }
   ],
   "source": [
    "len(cities) # nan 포함해서 세버려 아주 그냥"
   ]
  },
  {
   "cell_type": "code",
   "execution_count": 82,
   "id": "4de1c648-4293-4021-8ecc-beb1e397713d",
   "metadata": {},
   "outputs": [
    {
     "data": {
      "text/plain": [
       "True"
      ]
     },
     "execution_count": 82,
     "metadata": {},
     "output_type": "execute_result"
    }
   ],
   "source": [
    "1 in cities"
   ]
  },
  {
   "cell_type": "code",
   "execution_count": 83,
   "id": "ec889664-c3c0-4933-9360-f9855f3c7a01",
   "metadata": {},
   "outputs": [
    {
     "data": {
      "text/plain": [
       "False"
      ]
     },
     "execution_count": 83,
     "metadata": {},
     "output_type": "execute_result"
    }
   ],
   "source": [
    "\"대구\" in cities"
   ]
  },
  {
   "cell_type": "code",
   "execution_count": 84,
   "id": "8456236a-c353-4798-81cc-ae701dc7f120",
   "metadata": {},
   "outputs": [
    {
     "data": {
      "text/plain": [
       "True"
      ]
     },
     "execution_count": 84,
     "metadata": {},
     "output_type": "execute_result"
    }
   ],
   "source": [
    "\"대구\" in cities.values"
   ]
  },
  {
   "cell_type": "code",
   "execution_count": null,
   "id": "8a1d5792-ca49-481c-82c1-81abec1b7e81",
   "metadata": {},
   "outputs": [],
   "source": []
  }
 ],
 "metadata": {
  "kernelspec": {
   "display_name": "Python 3 (ipykernel)",
   "language": "python",
   "name": "python3"
  },
  "language_info": {
   "codemirror_mode": {
    "name": "ipython",
    "version": 3
   },
   "file_extension": ".py",
   "mimetype": "text/x-python",
   "name": "python",
   "nbconvert_exporter": "python",
   "pygments_lexer": "ipython3",
   "version": "3.8.18"
  }
 },
 "nbformat": 4,
 "nbformat_minor": 5
}
