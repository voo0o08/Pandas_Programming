{
 "cells": [
  {
   "cell_type": "code",
   "execution_count": 1,
   "id": "94999c41-f52f-499e-a3ab-3e23d05ea7a6",
   "metadata": {},
   "outputs": [],
   "source": [
    "import pandas as pd"
   ]
  },
  {
   "cell_type": "code",
   "execution_count": 7,
   "id": "69b6db6b-17f9-4a69-bf2d-0060f2297a0c",
   "metadata": {},
   "outputs": [],
   "source": [
    "file = \"../DATA/nobel.json\""
   ]
  },
  {
   "cell_type": "code",
   "execution_count": 12,
   "id": "0153a014-b33f-4080-abb7-87fb9407249d",
   "metadata": {},
   "outputs": [
    {
     "name": "stdout",
     "output_type": "stream",
     "text": [
      "<class 'pandas.core.frame.DataFrame'>\n",
      "RangeIndex: 646 entries, 0 to 645\n",
      "Data columns (total 1 columns):\n",
      " #   Column  Non-Null Count  Dtype \n",
      "---  ------  --------------  ----- \n",
      " 0   prizes  646 non-null    object\n",
      "dtypes: object(1)\n",
      "memory usage: 5.2+ KB\n"
     ]
    }
   ],
   "source": [
    "nobelDF = pd.read_json(file)\n",
    "nobelDF.info()"
   ]
  },
  {
   "cell_type": "code",
   "execution_count": 13,
   "id": "e138f743-241f-4b49-b3d1-cf5cee7ca513",
   "metadata": {},
   "outputs": [],
   "source": [
    "# 418p 12장"
   ]
  },
  {
   "cell_type": "code",
   "execution_count": 14,
   "id": "8a9eeeb7-5e13-467c-ae0f-b35eb1f496fa",
   "metadata": {},
   "outputs": [
    {
     "data": {
      "text/html": [
       "<div>\n",
       "<style scoped>\n",
       "    .dataframe tbody tr th:only-of-type {\n",
       "        vertical-align: middle;\n",
       "    }\n",
       "\n",
       "    .dataframe tbody tr th {\n",
       "        vertical-align: top;\n",
       "    }\n",
       "\n",
       "    .dataframe thead th {\n",
       "        text-align: right;\n",
       "    }\n",
       "</style>\n",
       "<table border=\"1\" class=\"dataframe\">\n",
       "  <thead>\n",
       "    <tr style=\"text-align: right;\">\n",
       "      <th></th>\n",
       "      <th>prizes</th>\n",
       "    </tr>\n",
       "  </thead>\n",
       "  <tbody>\n",
       "    <tr>\n",
       "      <th>0</th>\n",
       "      <td>{'year': '2019', 'category': 'chemistry', 'lau...</td>\n",
       "    </tr>\n",
       "    <tr>\n",
       "      <th>1</th>\n",
       "      <td>{'year': '2019', 'category': 'economics', 'lau...</td>\n",
       "    </tr>\n",
       "    <tr>\n",
       "      <th>2</th>\n",
       "      <td>{'year': '2019', 'category': 'literature', 'la...</td>\n",
       "    </tr>\n",
       "    <tr>\n",
       "      <th>3</th>\n",
       "      <td>{'year': '2019', 'category': 'peace', 'laureat...</td>\n",
       "    </tr>\n",
       "    <tr>\n",
       "      <th>4</th>\n",
       "      <td>{'year': '2019', 'category': 'physics', 'overa...</td>\n",
       "    </tr>\n",
       "    <tr>\n",
       "      <th>...</th>\n",
       "      <td>...</td>\n",
       "    </tr>\n",
       "    <tr>\n",
       "      <th>641</th>\n",
       "      <td>{'year': '1901', 'category': 'chemistry', 'lau...</td>\n",
       "    </tr>\n",
       "    <tr>\n",
       "      <th>642</th>\n",
       "      <td>{'year': '1901', 'category': 'literature', 'la...</td>\n",
       "    </tr>\n",
       "    <tr>\n",
       "      <th>643</th>\n",
       "      <td>{'year': '1901', 'category': 'peace', 'laureat...</td>\n",
       "    </tr>\n",
       "    <tr>\n",
       "      <th>644</th>\n",
       "      <td>{'year': '1901', 'category': 'physics', 'laure...</td>\n",
       "    </tr>\n",
       "    <tr>\n",
       "      <th>645</th>\n",
       "      <td>{'year': '1901', 'category': 'medicine', 'laur...</td>\n",
       "    </tr>\n",
       "  </tbody>\n",
       "</table>\n",
       "<p>646 rows × 1 columns</p>\n",
       "</div>"
      ],
      "text/plain": [
       "                                                prizes\n",
       "0    {'year': '2019', 'category': 'chemistry', 'lau...\n",
       "1    {'year': '2019', 'category': 'economics', 'lau...\n",
       "2    {'year': '2019', 'category': 'literature', 'la...\n",
       "3    {'year': '2019', 'category': 'peace', 'laureat...\n",
       "4    {'year': '2019', 'category': 'physics', 'overa...\n",
       "..                                                 ...\n",
       "641  {'year': '1901', 'category': 'chemistry', 'lau...\n",
       "642  {'year': '1901', 'category': 'literature', 'la...\n",
       "643  {'year': '1901', 'category': 'peace', 'laureat...\n",
       "644  {'year': '1901', 'category': 'physics', 'laure...\n",
       "645  {'year': '1901', 'category': 'medicine', 'laur...\n",
       "\n",
       "[646 rows x 1 columns]"
      ]
     },
     "execution_count": 14,
     "metadata": {},
     "output_type": "execute_result"
    }
   ],
   "source": [
    "nobelDF"
   ]
  },
  {
   "cell_type": "code",
   "execution_count": 15,
   "id": "41692d11-419d-4dcb-b9b9-d74a9214d1be",
   "metadata": {},
   "outputs": [
    {
     "name": "stdout",
     "output_type": "stream",
     "text": [
      "                                              prizes\n",
      "0  {'year': '2019', 'category': 'chemistry', 'lau...\n",
      "1  {'year': '2019', 'category': 'economics', 'lau...\n",
      "2  {'year': '2019', 'category': 'literature', 'la...\n",
      "\n",
      "                                                prizes\n",
      "643  {'year': '1901', 'category': 'peace', 'laureat...\n",
      "644  {'year': '1901', 'category': 'physics', 'laure...\n",
      "645  {'year': '1901', 'category': 'medicine', 'laur...\n"
     ]
    }
   ],
   "source": [
    "print(nobelDF.head(3), nobelDF.tail(3), sep=\"\\n\\n\")"
   ]
  },
  {
   "cell_type": "markdown",
   "id": "f90ec0ee-1fc4-47c5-9a1b-124c73189de4",
   "metadata": {},
   "source": [
    "## <hr>(4) 데이터 추출"
   ]
  },
  {
   "cell_type": "code",
   "execution_count": 17,
   "id": "882284aa-47a8-457f-b636-6d534f1d68a8",
   "metadata": {},
   "outputs": [
    {
     "data": {
      "text/plain": [
       "prizes    {'year': '2019', 'category': 'chemistry', 'lau...\n",
       "Name: 0, dtype: object"
      ]
     },
     "execution_count": 17,
     "metadata": {},
     "output_type": "execute_result"
    }
   ],
   "source": [
    "# 행 추출\n",
    "nobelDF.iloc[0] # SR"
   ]
  },
  {
   "cell_type": "code",
   "execution_count": 21,
   "id": "c55f8806-bc5f-41aa-a1a9-4b1fcd5c7380",
   "metadata": {},
   "outputs": [
    {
     "data": {
      "text/plain": [
       "{'year': '2019',\n",
       " 'category': 'chemistry',\n",
       " 'laureates': [{'id': '976',\n",
       "   'firstname': 'John',\n",
       "   'surname': 'Goodenough',\n",
       "   'motivation': '\"for the development of lithium-ion batteries\"',\n",
       "   'share': '3'},\n",
       "  {'id': '977',\n",
       "   'firstname': 'M. Stanley',\n",
       "   'surname': 'Whittingham',\n",
       "   'motivation': '\"for the development of lithium-ion batteries\"',\n",
       "   'share': '3'},\n",
       "  {'id': '978',\n",
       "   'firstname': 'Akira',\n",
       "   'surname': 'Yoshino',\n",
       "   'motivation': '\"for the development of lithium-ion batteries\"',\n",
       "   'share': '3'}]}"
      ]
     },
     "execution_count": 21,
     "metadata": {},
     "output_type": "execute_result"
    }
   ],
   "source": [
    "nobelDF.iloc[0][\"prizes\"] # Dict"
   ]
  },
  {
   "cell_type": "code",
   "execution_count": 22,
   "id": "8aa59ad6-8ebb-494d-9b4b-91177dc7d1ac",
   "metadata": {},
   "outputs": [],
   "source": [
    "oneData = nobelDF.iloc[0][\"prizes\"]"
   ]
  },
  {
   "cell_type": "code",
   "execution_count": 27,
   "id": "9285943c-06de-4f4b-b95e-469b934af6c4",
   "metadata": {},
   "outputs": [
    {
     "name": "stdout",
     "output_type": "stream",
     "text": [
      "k = year\n",
      "v = 2019\n",
      "k = category\n",
      "v = chemistry\n",
      "k = laureates\n",
      "v = [{'id': '976', 'firstname': 'John', 'surname': 'Goodenough', 'motivation': '\"for the development of lithium-ion batteries\"', 'share': '3'}, {'id': '977', 'firstname': 'M. Stanley', 'surname': 'Whittingham', 'motivation': '\"for the development of lithium-ion batteries\"', 'share': '3'}, {'id': '978', 'firstname': 'Akira', 'surname': 'Yoshino', 'motivation': '\"for the development of lithium-ion batteries\"', 'share': '3'}]\n"
     ]
    }
   ],
   "source": [
    "for k, v in oneData.items():\n",
    "    print(f\"k = {k}\\nv = {v}\")"
   ]
  },
  {
   "cell_type": "code",
   "execution_count": 29,
   "id": "1a87fef4-620d-4780-a479-4b29972f8b35",
   "metadata": {},
   "outputs": [
    {
     "name": "stdout",
     "output_type": "stream",
     "text": [
      "k = year\n",
      "v = 2019\n",
      "k = category\n",
      "v = chemistry\n",
      "k = laureates\n",
      "v = [{'id': '976', 'firstname': 'John', 'surname': 'Goodenough', 'motivation': '\"for the development of lithium-ion batteries\"', 'share': '3'}, {'id': '977', 'firstname': 'M. Stanley', 'surname': 'Whittingham', 'motivation': '\"for the development of lithium-ion batteries\"', 'share': '3'}, {'id': '978', 'firstname': 'Akira', 'surname': 'Yoshino', 'motivation': '\"for the development of lithium-ion batteries\"', 'share': '3'}]\n",
      "k2 = id\n",
      "v2 = 976\n",
      "k2 = firstname\n",
      "v2 = John\n",
      "k2 = surname\n",
      "v2 = Goodenough\n",
      "k2 = motivation\n",
      "v2 = \"for the development of lithium-ion batteries\"\n",
      "k2 = share\n",
      "v2 = 3\n",
      "k2 = id\n",
      "v2 = 977\n",
      "k2 = firstname\n",
      "v2 = M. Stanley\n",
      "k2 = surname\n",
      "v2 = Whittingham\n",
      "k2 = motivation\n",
      "v2 = \"for the development of lithium-ion batteries\"\n",
      "k2 = share\n",
      "v2 = 3\n",
      "k2 = id\n",
      "v2 = 978\n",
      "k2 = firstname\n",
      "v2 = Akira\n",
      "k2 = surname\n",
      "v2 = Yoshino\n",
      "k2 = motivation\n",
      "v2 = \"for the development of lithium-ion batteries\"\n",
      "k2 = share\n",
      "v2 = 3\n"
     ]
    }
   ],
   "source": [
    "for k, v in oneData.items():\n",
    "    print(f\"k = {k}\\nv = {v}\")\n",
    "    if k == \"laureates\":\n",
    "        for d in v:\n",
    "            for k2, v2 in d.items():\n",
    "                print(f\"k2 = {k2}\\nv2 = {v2}\")"
   ]
  },
  {
   "cell_type": "code",
   "execution_count": null,
   "id": "158c3267-70d6-4621-a0ce-94e4c409a223",
   "metadata": {},
   "outputs": [],
   "source": [
    "- json 중첩 데이터의 다중 반복문 = > 다중 리스트 형태 처리 : 평탄화, 정규화 "
   ]
  },
  {
   "cell_type": "code",
   "execution_count": 30,
   "id": "3228f2bc-a287-4211-82c3-fe7050cd76a9",
   "metadata": {},
   "outputs": [
    {
     "data": {
      "text/html": [
       "<div>\n",
       "<style scoped>\n",
       "    .dataframe tbody tr th:only-of-type {\n",
       "        vertical-align: middle;\n",
       "    }\n",
       "\n",
       "    .dataframe tbody tr th {\n",
       "        vertical-align: top;\n",
       "    }\n",
       "\n",
       "    .dataframe thead th {\n",
       "        text-align: right;\n",
       "    }\n",
       "</style>\n",
       "<table border=\"1\" class=\"dataframe\">\n",
       "  <thead>\n",
       "    <tr style=\"text-align: right;\">\n",
       "      <th></th>\n",
       "      <th>year</th>\n",
       "      <th>category</th>\n",
       "      <th>laureates</th>\n",
       "    </tr>\n",
       "  </thead>\n",
       "  <tbody>\n",
       "    <tr>\n",
       "      <th>0</th>\n",
       "      <td>2019</td>\n",
       "      <td>chemistry</td>\n",
       "      <td>[{'id': '976', 'firstname': 'John', 'surname':...</td>\n",
       "    </tr>\n",
       "  </tbody>\n",
       "</table>\n",
       "</div>"
      ],
      "text/plain": [
       "   year   category                                          laureates\n",
       "0  2019  chemistry  [{'id': '976', 'firstname': 'John', 'surname':..."
      ]
     },
     "execution_count": 30,
     "metadata": {},
     "output_type": "execute_result"
    }
   ],
   "source": [
    "pd.json_normalize(oneData)"
   ]
  },
  {
   "cell_type": "code",
   "execution_count": 31,
   "id": "657d3bcc-d7a9-4279-a314-2d43d4e8a815",
   "metadata": {},
   "outputs": [
    {
     "data": {
      "text/html": [
       "<div>\n",
       "<style scoped>\n",
       "    .dataframe tbody tr th:only-of-type {\n",
       "        vertical-align: middle;\n",
       "    }\n",
       "\n",
       "    .dataframe tbody tr th {\n",
       "        vertical-align: top;\n",
       "    }\n",
       "\n",
       "    .dataframe thead th {\n",
       "        text-align: right;\n",
       "    }\n",
       "</style>\n",
       "<table border=\"1\" class=\"dataframe\">\n",
       "  <thead>\n",
       "    <tr style=\"text-align: right;\">\n",
       "      <th></th>\n",
       "      <th>id</th>\n",
       "      <th>firstname</th>\n",
       "      <th>surname</th>\n",
       "      <th>motivation</th>\n",
       "      <th>share</th>\n",
       "    </tr>\n",
       "  </thead>\n",
       "  <tbody>\n",
       "    <tr>\n",
       "      <th>0</th>\n",
       "      <td>976</td>\n",
       "      <td>John</td>\n",
       "      <td>Goodenough</td>\n",
       "      <td>\"for the development of lithium-ion batteries\"</td>\n",
       "      <td>3</td>\n",
       "    </tr>\n",
       "    <tr>\n",
       "      <th>1</th>\n",
       "      <td>977</td>\n",
       "      <td>M. Stanley</td>\n",
       "      <td>Whittingham</td>\n",
       "      <td>\"for the development of lithium-ion batteries\"</td>\n",
       "      <td>3</td>\n",
       "    </tr>\n",
       "    <tr>\n",
       "      <th>2</th>\n",
       "      <td>978</td>\n",
       "      <td>Akira</td>\n",
       "      <td>Yoshino</td>\n",
       "      <td>\"for the development of lithium-ion batteries\"</td>\n",
       "      <td>3</td>\n",
       "    </tr>\n",
       "  </tbody>\n",
       "</table>\n",
       "</div>"
      ],
      "text/plain": [
       "    id   firstname      surname  \\\n",
       "0  976        John   Goodenough   \n",
       "1  977  M. Stanley  Whittingham   \n",
       "2  978       Akira      Yoshino   \n",
       "\n",
       "                                       motivation share  \n",
       "0  \"for the development of lithium-ion batteries\"     3  \n",
       "1  \"for the development of lithium-ion batteries\"     3  \n",
       "2  \"for the development of lithium-ion batteries\"     3  "
      ]
     },
     "execution_count": 31,
     "metadata": {},
     "output_type": "execute_result"
    }
   ],
   "source": [
    "pd.json_normalize(oneData, record_path=\"laureates\")"
   ]
  },
  {
   "cell_type": "code",
   "execution_count": 34,
   "id": "1f748e44-e89b-4cd1-a5f1-d3d28d379011",
   "metadata": {},
   "outputs": [
    {
     "data": {
      "text/html": [
       "<div>\n",
       "<style scoped>\n",
       "    .dataframe tbody tr th:only-of-type {\n",
       "        vertical-align: middle;\n",
       "    }\n",
       "\n",
       "    .dataframe tbody tr th {\n",
       "        vertical-align: top;\n",
       "    }\n",
       "\n",
       "    .dataframe thead th {\n",
       "        text-align: right;\n",
       "    }\n",
       "</style>\n",
       "<table border=\"1\" class=\"dataframe\">\n",
       "  <thead>\n",
       "    <tr style=\"text-align: right;\">\n",
       "      <th></th>\n",
       "      <th>id</th>\n",
       "      <th>firstname</th>\n",
       "      <th>surname</th>\n",
       "      <th>motivation</th>\n",
       "      <th>share</th>\n",
       "      <th>year</th>\n",
       "      <th>category</th>\n",
       "    </tr>\n",
       "  </thead>\n",
       "  <tbody>\n",
       "    <tr>\n",
       "      <th>0</th>\n",
       "      <td>976</td>\n",
       "      <td>John</td>\n",
       "      <td>Goodenough</td>\n",
       "      <td>\"for the development of lithium-ion batteries\"</td>\n",
       "      <td>3</td>\n",
       "      <td>2019</td>\n",
       "      <td>chemistry</td>\n",
       "    </tr>\n",
       "    <tr>\n",
       "      <th>1</th>\n",
       "      <td>977</td>\n",
       "      <td>M. Stanley</td>\n",
       "      <td>Whittingham</td>\n",
       "      <td>\"for the development of lithium-ion batteries\"</td>\n",
       "      <td>3</td>\n",
       "      <td>2019</td>\n",
       "      <td>chemistry</td>\n",
       "    </tr>\n",
       "    <tr>\n",
       "      <th>2</th>\n",
       "      <td>978</td>\n",
       "      <td>Akira</td>\n",
       "      <td>Yoshino</td>\n",
       "      <td>\"for the development of lithium-ion batteries\"</td>\n",
       "      <td>3</td>\n",
       "      <td>2019</td>\n",
       "      <td>chemistry</td>\n",
       "    </tr>\n",
       "  </tbody>\n",
       "</table>\n",
       "</div>"
      ],
      "text/plain": [
       "    id   firstname      surname  \\\n",
       "0  976        John   Goodenough   \n",
       "1  977  M. Stanley  Whittingham   \n",
       "2  978       Akira      Yoshino   \n",
       "\n",
       "                                       motivation share  year   category  \n",
       "0  \"for the development of lithium-ion batteries\"     3  2019  chemistry  \n",
       "1  \"for the development of lithium-ion batteries\"     3  2019  chemistry  \n",
       "2  \"for the development of lithium-ion batteries\"     3  2019  chemistry  "
      ]
     },
     "execution_count": 34,
     "metadata": {},
     "output_type": "execute_result"
    }
   ],
   "source": [
    "pd.json_normalize(oneData, record_path=\"laureates\", meta=['year', 'category'])"
   ]
  },
  {
   "cell_type": "code",
   "execution_count": 36,
   "id": "5dd1f518-7bbf-4f58-b70e-b2967c40fe89",
   "metadata": {},
   "outputs": [
    {
     "data": {
      "text/plain": [
       "0      {'year': '2019', 'category': 'chemistry', 'lau...\n",
       "1      {'year': '2019', 'category': 'economics', 'lau...\n",
       "2      {'year': '2019', 'category': 'literature', 'la...\n",
       "3      {'year': '2019', 'category': 'peace', 'laureat...\n",
       "4      {'year': '2019', 'category': 'physics', 'overa...\n",
       "                             ...                        \n",
       "641    {'year': '1901', 'category': 'chemistry', 'lau...\n",
       "642    {'year': '1901', 'category': 'literature', 'la...\n",
       "643    {'year': '1901', 'category': 'peace', 'laureat...\n",
       "644    {'year': '1901', 'category': 'physics', 'laure...\n",
       "645    {'year': '1901', 'category': 'medicine', 'laur...\n",
       "Name: prizes, Length: 646, dtype: object"
      ]
     },
     "execution_count": 36,
     "metadata": {},
     "output_type": "execute_result"
    }
   ],
   "source": [
    "# 컬럼 읽기 => DF객체변수명[\"컬럼명\"], Df객체변수명.컬럼명\n",
    "nobelDF.prizes"
   ]
  },
  {
   "cell_type": "code",
   "execution_count": 37,
   "id": "b0efcaa7-425e-434a-ac3d-921b08550435",
   "metadata": {},
   "outputs": [
    {
     "ename": "KeyError",
     "evalue": "\"Key 'laureates' not found. If specifying a record_path, all elements of data should have the path.\"",
     "output_type": "error",
     "traceback": [
      "\u001b[1;31m---------------------------------------------------------------------------\u001b[0m",
      "\u001b[1;31mKeyError\u001b[0m                                  Traceback (most recent call last)",
      "File \u001b[1;32m~\\anaconda3\\envs\\My_38\\lib\\site-packages\\pandas\\io\\json\\_normalize.py:400\u001b[0m, in \u001b[0;36mjson_normalize.<locals>._pull_field\u001b[1;34m(js, spec, extract_record)\u001b[0m\n\u001b[0;32m    399\u001b[0m     \u001b[38;5;28;01melse\u001b[39;00m:\n\u001b[1;32m--> 400\u001b[0m         result \u001b[38;5;241m=\u001b[39m \u001b[43mresult\u001b[49m\u001b[43m[\u001b[49m\u001b[43mspec\u001b[49m\u001b[43m]\u001b[49m\n\u001b[0;32m    401\u001b[0m \u001b[38;5;28;01mexcept\u001b[39;00m \u001b[38;5;167;01mKeyError\u001b[39;00m \u001b[38;5;28;01mas\u001b[39;00m e:\n",
      "\u001b[1;31mKeyError\u001b[0m: 'laureates'",
      "\nThe above exception was the direct cause of the following exception:\n",
      "\u001b[1;31mKeyError\u001b[0m                                  Traceback (most recent call last)",
      "Cell \u001b[1;32mIn[37], line 1\u001b[0m\n\u001b[1;32m----> 1\u001b[0m \u001b[43mpd\u001b[49m\u001b[38;5;241;43m.\u001b[39;49m\u001b[43mjson_normalize\u001b[49m\u001b[43m(\u001b[49m\u001b[43mnobelDF\u001b[49m\u001b[38;5;241;43m.\u001b[39;49m\u001b[43mprizes\u001b[49m\u001b[43m,\u001b[49m\u001b[43m \u001b[49m\u001b[43mrecord_path\u001b[49m\u001b[38;5;241;43m=\u001b[39;49m\u001b[38;5;124;43m\"\u001b[39;49m\u001b[38;5;124;43mlaureates\u001b[39;49m\u001b[38;5;124;43m\"\u001b[39;49m\u001b[43m)\u001b[49m\n",
      "File \u001b[1;32m~\\anaconda3\\envs\\My_38\\lib\\site-packages\\pandas\\io\\json\\_normalize.py:519\u001b[0m, in \u001b[0;36mjson_normalize\u001b[1;34m(data, record_path, meta, meta_prefix, record_prefix, errors, sep, max_level)\u001b[0m\n\u001b[0;32m    516\u001b[0m                 meta_vals[key]\u001b[38;5;241m.\u001b[39mappend(meta_val)\n\u001b[0;32m    517\u001b[0m             records\u001b[38;5;241m.\u001b[39mextend(recs)\n\u001b[1;32m--> 519\u001b[0m \u001b[43m_recursive_extract\u001b[49m\u001b[43m(\u001b[49m\u001b[43mdata\u001b[49m\u001b[43m,\u001b[49m\u001b[43m \u001b[49m\u001b[43mrecord_path\u001b[49m\u001b[43m,\u001b[49m\u001b[43m \u001b[49m\u001b[43m{\u001b[49m\u001b[43m}\u001b[49m\u001b[43m,\u001b[49m\u001b[43m \u001b[49m\u001b[43mlevel\u001b[49m\u001b[38;5;241;43m=\u001b[39;49m\u001b[38;5;241;43m0\u001b[39;49m\u001b[43m)\u001b[49m\n\u001b[0;32m    521\u001b[0m result \u001b[38;5;241m=\u001b[39m DataFrame(records)\n\u001b[0;32m    523\u001b[0m \u001b[38;5;28;01mif\u001b[39;00m record_prefix \u001b[38;5;129;01mis\u001b[39;00m \u001b[38;5;129;01mnot\u001b[39;00m \u001b[38;5;28;01mNone\u001b[39;00m:\n",
      "File \u001b[1;32m~\\anaconda3\\envs\\My_38\\lib\\site-packages\\pandas\\io\\json\\_normalize.py:501\u001b[0m, in \u001b[0;36mjson_normalize.<locals>._recursive_extract\u001b[1;34m(data, path, seen_meta, level)\u001b[0m\n\u001b[0;32m    499\u001b[0m \u001b[38;5;28;01melse\u001b[39;00m:\n\u001b[0;32m    500\u001b[0m     \u001b[38;5;28;01mfor\u001b[39;00m obj \u001b[38;5;129;01min\u001b[39;00m data:\n\u001b[1;32m--> 501\u001b[0m         recs \u001b[38;5;241m=\u001b[39m \u001b[43m_pull_records\u001b[49m\u001b[43m(\u001b[49m\u001b[43mobj\u001b[49m\u001b[43m,\u001b[49m\u001b[43m \u001b[49m\u001b[43mpath\u001b[49m\u001b[43m[\u001b[49m\u001b[38;5;241;43m0\u001b[39;49m\u001b[43m]\u001b[49m\u001b[43m)\u001b[49m\n\u001b[0;32m    502\u001b[0m         recs \u001b[38;5;241m=\u001b[39m [\n\u001b[0;32m    503\u001b[0m             nested_to_record(r, sep\u001b[38;5;241m=\u001b[39msep, max_level\u001b[38;5;241m=\u001b[39mmax_level)\n\u001b[0;32m    504\u001b[0m             \u001b[38;5;28;01mif\u001b[39;00m \u001b[38;5;28misinstance\u001b[39m(r, \u001b[38;5;28mdict\u001b[39m)\n\u001b[0;32m    505\u001b[0m             \u001b[38;5;28;01melse\u001b[39;00m r\n\u001b[0;32m    506\u001b[0m             \u001b[38;5;28;01mfor\u001b[39;00m r \u001b[38;5;129;01min\u001b[39;00m recs\n\u001b[0;32m    507\u001b[0m         ]\n\u001b[0;32m    509\u001b[0m         \u001b[38;5;66;03m# For repeating the metadata later\u001b[39;00m\n",
      "File \u001b[1;32m~\\anaconda3\\envs\\My_38\\lib\\site-packages\\pandas\\io\\json\\_normalize.py:423\u001b[0m, in \u001b[0;36mjson_normalize.<locals>._pull_records\u001b[1;34m(js, spec)\u001b[0m\n\u001b[0;32m    417\u001b[0m \u001b[38;5;28;01mdef\u001b[39;00m \u001b[38;5;21m_pull_records\u001b[39m(js: \u001b[38;5;28mdict\u001b[39m[\u001b[38;5;28mstr\u001b[39m, Any], spec: \u001b[38;5;28mlist\u001b[39m \u001b[38;5;241m|\u001b[39m \u001b[38;5;28mstr\u001b[39m) \u001b[38;5;241m-\u001b[39m\u001b[38;5;241m>\u001b[39m \u001b[38;5;28mlist\u001b[39m:\n\u001b[0;32m    418\u001b[0m \u001b[38;5;250m    \u001b[39m\u001b[38;5;124;03m\"\"\"\u001b[39;00m\n\u001b[0;32m    419\u001b[0m \u001b[38;5;124;03m    Internal function to pull field for records, and similar to\u001b[39;00m\n\u001b[0;32m    420\u001b[0m \u001b[38;5;124;03m    _pull_field, but require to return list. And will raise error\u001b[39;00m\n\u001b[0;32m    421\u001b[0m \u001b[38;5;124;03m    if has non iterable value.\u001b[39;00m\n\u001b[0;32m    422\u001b[0m \u001b[38;5;124;03m    \"\"\"\u001b[39;00m\n\u001b[1;32m--> 423\u001b[0m     result \u001b[38;5;241m=\u001b[39m \u001b[43m_pull_field\u001b[49m\u001b[43m(\u001b[49m\u001b[43mjs\u001b[49m\u001b[43m,\u001b[49m\u001b[43m \u001b[49m\u001b[43mspec\u001b[49m\u001b[43m,\u001b[49m\u001b[43m \u001b[49m\u001b[43mextract_record\u001b[49m\u001b[38;5;241;43m=\u001b[39;49m\u001b[38;5;28;43;01mTrue\u001b[39;49;00m\u001b[43m)\u001b[49m\n\u001b[0;32m    425\u001b[0m     \u001b[38;5;66;03m# GH 31507 GH 30145, GH 26284 if result is not list, raise TypeError if not\u001b[39;00m\n\u001b[0;32m    426\u001b[0m     \u001b[38;5;66;03m# null, otherwise return an empty list\u001b[39;00m\n\u001b[0;32m    427\u001b[0m     \u001b[38;5;28;01mif\u001b[39;00m \u001b[38;5;129;01mnot\u001b[39;00m \u001b[38;5;28misinstance\u001b[39m(result, \u001b[38;5;28mlist\u001b[39m):\n",
      "File \u001b[1;32m~\\anaconda3\\envs\\My_38\\lib\\site-packages\\pandas\\io\\json\\_normalize.py:403\u001b[0m, in \u001b[0;36mjson_normalize.<locals>._pull_field\u001b[1;34m(js, spec, extract_record)\u001b[0m\n\u001b[0;32m    401\u001b[0m \u001b[38;5;28;01mexcept\u001b[39;00m \u001b[38;5;167;01mKeyError\u001b[39;00m \u001b[38;5;28;01mas\u001b[39;00m e:\n\u001b[0;32m    402\u001b[0m     \u001b[38;5;28;01mif\u001b[39;00m extract_record:\n\u001b[1;32m--> 403\u001b[0m         \u001b[38;5;28;01mraise\u001b[39;00m \u001b[38;5;167;01mKeyError\u001b[39;00m(\n\u001b[0;32m    404\u001b[0m             \u001b[38;5;124mf\u001b[39m\u001b[38;5;124m\"\u001b[39m\u001b[38;5;124mKey \u001b[39m\u001b[38;5;132;01m{\u001b[39;00me\u001b[38;5;132;01m}\u001b[39;00m\u001b[38;5;124m not found. If specifying a record_path, all elements of \u001b[39m\u001b[38;5;124m\"\u001b[39m\n\u001b[0;32m    405\u001b[0m             \u001b[38;5;124mf\u001b[39m\u001b[38;5;124m\"\u001b[39m\u001b[38;5;124mdata should have the path.\u001b[39m\u001b[38;5;124m\"\u001b[39m\n\u001b[0;32m    406\u001b[0m         ) \u001b[38;5;28;01mfrom\u001b[39;00m \u001b[38;5;21;01me\u001b[39;00m\n\u001b[0;32m    407\u001b[0m     \u001b[38;5;28;01mif\u001b[39;00m errors \u001b[38;5;241m==\u001b[39m \u001b[38;5;124m\"\u001b[39m\u001b[38;5;124mignore\u001b[39m\u001b[38;5;124m\"\u001b[39m:\n\u001b[0;32m    408\u001b[0m         \u001b[38;5;28;01mreturn\u001b[39;00m np\u001b[38;5;241m.\u001b[39mnan\n",
      "\u001b[1;31mKeyError\u001b[0m: \"Key 'laureates' not found. If specifying a record_path, all elements of data should have the path.\""
     ]
    }
   ],
   "source": [
    "pd.json_normalize(nobelDF.prizes, record_path=\"laureates\")"
   ]
  },
  {
   "cell_type": "code",
   "execution_count": 38,
   "id": "85367af4-cad5-4a5e-b2a1-e5f8ea5dfa89",
   "metadata": {},
   "outputs": [
    {
     "data": {
      "text/plain": [
       "0      {'year': '2019', 'category': 'chemistry', 'lau...\n",
       "1      {'year': '2019', 'category': 'economics', 'lau...\n",
       "2      {'year': '2019', 'category': 'literature', 'la...\n",
       "3      {'year': '2019', 'category': 'peace', 'laureat...\n",
       "4      {'year': '2019', 'category': 'physics', 'overa...\n",
       "                             ...                        \n",
       "641    {'year': '1901', 'category': 'chemistry', 'lau...\n",
       "642    {'year': '1901', 'category': 'literature', 'la...\n",
       "643    {'year': '1901', 'category': 'peace', 'laureat...\n",
       "644    {'year': '1901', 'category': 'physics', 'laure...\n",
       "645    {'year': '1901', 'category': 'medicine', 'laur...\n",
       "Name: prizes, Length: 646, dtype: object"
      ]
     },
     "execution_count": 38,
     "metadata": {},
     "output_type": "execute_result"
    }
   ],
   "source": [
    "# 일부 행은 laureates가 없어서 에러가 나는 것임\n",
    "# 즉 record path에 넣으려면 모든 행에 해당 col값이 존재해야함\n",
    "# 존재하지 않는 행에는? 해당하는 key를 추가한다\n",
    "nobelDF.prizes"
   ]
  },
  {
   "cell_type": "code",
   "execution_count": 41,
   "id": "ee0336cf-e9ee-4a37-a3b5-900542a3f37c",
   "metadata": {},
   "outputs": [],
   "source": [
    "for data in nobelDF.prizes:\n",
    "    # print(type(data), data.keys(), end=\"\\n\\n\") # 딕셔너리 원소 -> 'laureates'가 없으면 추가시켜 주셈!!!\n",
    "    data.setdefault('laureates', []) # 없으면 넣고 있으면 걍 둔다는 뜻!!"
   ]
  },
  {
   "cell_type": "code",
   "execution_count": 46,
   "id": "7b1df402-ba38-4d7f-9f3a-31a7d450d621",
   "metadata": {},
   "outputs": [
    {
     "data": {
      "text/html": [
       "<div>\n",
       "<style scoped>\n",
       "    .dataframe tbody tr th:only-of-type {\n",
       "        vertical-align: middle;\n",
       "    }\n",
       "\n",
       "    .dataframe tbody tr th {\n",
       "        vertical-align: top;\n",
       "    }\n",
       "\n",
       "    .dataframe thead th {\n",
       "        text-align: right;\n",
       "    }\n",
       "</style>\n",
       "<table border=\"1\" class=\"dataframe\">\n",
       "  <thead>\n",
       "    <tr style=\"text-align: right;\">\n",
       "      <th></th>\n",
       "      <th>id</th>\n",
       "      <th>firstname</th>\n",
       "      <th>surname</th>\n",
       "      <th>motivation</th>\n",
       "      <th>share</th>\n",
       "      <th>year</th>\n",
       "      <th>category</th>\n",
       "    </tr>\n",
       "  </thead>\n",
       "  <tbody>\n",
       "    <tr>\n",
       "      <th>0</th>\n",
       "      <td>976</td>\n",
       "      <td>John</td>\n",
       "      <td>Goodenough</td>\n",
       "      <td>\"for the development of lithium-ion batteries\"</td>\n",
       "      <td>3</td>\n",
       "      <td>2019</td>\n",
       "      <td>chemistry</td>\n",
       "    </tr>\n",
       "    <tr>\n",
       "      <th>1</th>\n",
       "      <td>977</td>\n",
       "      <td>M. Stanley</td>\n",
       "      <td>Whittingham</td>\n",
       "      <td>\"for the development of lithium-ion batteries\"</td>\n",
       "      <td>3</td>\n",
       "      <td>2019</td>\n",
       "      <td>chemistry</td>\n",
       "    </tr>\n",
       "    <tr>\n",
       "      <th>2</th>\n",
       "      <td>978</td>\n",
       "      <td>Akira</td>\n",
       "      <td>Yoshino</td>\n",
       "      <td>\"for the development of lithium-ion batteries\"</td>\n",
       "      <td>3</td>\n",
       "      <td>2019</td>\n",
       "      <td>chemistry</td>\n",
       "    </tr>\n",
       "    <tr>\n",
       "      <th>3</th>\n",
       "      <td>982</td>\n",
       "      <td>Abhijit</td>\n",
       "      <td>Banerjee</td>\n",
       "      <td>\"for their experimental approach to alleviatin...</td>\n",
       "      <td>3</td>\n",
       "      <td>2019</td>\n",
       "      <td>economics</td>\n",
       "    </tr>\n",
       "    <tr>\n",
       "      <th>4</th>\n",
       "      <td>983</td>\n",
       "      <td>Esther</td>\n",
       "      <td>Duflo</td>\n",
       "      <td>\"for their experimental approach to alleviatin...</td>\n",
       "      <td>3</td>\n",
       "      <td>2019</td>\n",
       "      <td>economics</td>\n",
       "    </tr>\n",
       "    <tr>\n",
       "      <th>...</th>\n",
       "      <td>...</td>\n",
       "      <td>...</td>\n",
       "      <td>...</td>\n",
       "      <td>...</td>\n",
       "      <td>...</td>\n",
       "      <td>...</td>\n",
       "      <td>...</td>\n",
       "    </tr>\n",
       "    <tr>\n",
       "      <th>945</th>\n",
       "      <td>569</td>\n",
       "      <td>Sully</td>\n",
       "      <td>Prudhomme</td>\n",
       "      <td>\"in special recognition of his poetic composit...</td>\n",
       "      <td>1</td>\n",
       "      <td>1901</td>\n",
       "      <td>literature</td>\n",
       "    </tr>\n",
       "    <tr>\n",
       "      <th>946</th>\n",
       "      <td>462</td>\n",
       "      <td>Henry</td>\n",
       "      <td>Dunant</td>\n",
       "      <td>\"for his humanitarian efforts to help wounded ...</td>\n",
       "      <td>2</td>\n",
       "      <td>1901</td>\n",
       "      <td>peace</td>\n",
       "    </tr>\n",
       "    <tr>\n",
       "      <th>947</th>\n",
       "      <td>463</td>\n",
       "      <td>Frédéric</td>\n",
       "      <td>Passy</td>\n",
       "      <td>\"for his lifelong work for international peace...</td>\n",
       "      <td>2</td>\n",
       "      <td>1901</td>\n",
       "      <td>peace</td>\n",
       "    </tr>\n",
       "    <tr>\n",
       "      <th>948</th>\n",
       "      <td>1</td>\n",
       "      <td>Wilhelm Conrad</td>\n",
       "      <td>Röntgen</td>\n",
       "      <td>\"in recognition of the extraordinary services ...</td>\n",
       "      <td>1</td>\n",
       "      <td>1901</td>\n",
       "      <td>physics</td>\n",
       "    </tr>\n",
       "    <tr>\n",
       "      <th>949</th>\n",
       "      <td>293</td>\n",
       "      <td>Emil</td>\n",
       "      <td>von Behring</td>\n",
       "      <td>\"for his work on serum therapy, especially its...</td>\n",
       "      <td>1</td>\n",
       "      <td>1901</td>\n",
       "      <td>medicine</td>\n",
       "    </tr>\n",
       "  </tbody>\n",
       "</table>\n",
       "<p>950 rows × 7 columns</p>\n",
       "</div>"
      ],
      "text/plain": [
       "      id       firstname      surname  \\\n",
       "0    976            John   Goodenough   \n",
       "1    977      M. Stanley  Whittingham   \n",
       "2    978           Akira      Yoshino   \n",
       "3    982         Abhijit     Banerjee   \n",
       "4    983          Esther        Duflo   \n",
       "..   ...             ...          ...   \n",
       "945  569           Sully    Prudhomme   \n",
       "946  462           Henry       Dunant   \n",
       "947  463        Frédéric        Passy   \n",
       "948    1  Wilhelm Conrad      Röntgen   \n",
       "949  293            Emil  von Behring   \n",
       "\n",
       "                                            motivation share  year    category  \n",
       "0       \"for the development of lithium-ion batteries\"     3  2019   chemistry  \n",
       "1       \"for the development of lithium-ion batteries\"     3  2019   chemistry  \n",
       "2       \"for the development of lithium-ion batteries\"     3  2019   chemistry  \n",
       "3    \"for their experimental approach to alleviatin...     3  2019   economics  \n",
       "4    \"for their experimental approach to alleviatin...     3  2019   economics  \n",
       "..                                                 ...   ...   ...         ...  \n",
       "945  \"in special recognition of his poetic composit...     1  1901  literature  \n",
       "946  \"for his humanitarian efforts to help wounded ...     2  1901       peace  \n",
       "947  \"for his lifelong work for international peace...     2  1901       peace  \n",
       "948  \"in recognition of the extraordinary services ...     1  1901     physics  \n",
       "949  \"for his work on serum therapy, especially its...     1  1901    medicine  \n",
       "\n",
       "[950 rows x 7 columns]"
      ]
     },
     "execution_count": 46,
     "metadata": {},
     "output_type": "execute_result"
    }
   ],
   "source": [
    "nobelDF2 = pd.json_normalize(nobelDF.prizes, record_path=\"laureates\", meta=['year', 'category']) # 426p\n",
    "nobelDF2"
   ]
  },
  {
   "cell_type": "code",
   "execution_count": null,
   "id": "f2db31ba-e516-4af7-8383-8e99bc48bc37",
   "metadata": {},
   "outputs": [],
   "source": [
    "# apply = 파이썬의 map같은 존재임!!"
   ]
  },
  {
   "cell_type": "markdown",
   "id": "726f6b1d-eff3-4d76-829b-057435f46b77",
   "metadata": {},
   "source": [
    "## <hr>(7) JSON의 다양한 방식의 DataFrame 저장하기 => orient 파라미터"
   ]
  },
  {
   "cell_type": "code",
   "execution_count": 53,
   "id": "d88ecce1-9818-41f8-a541-b636d6460f20",
   "metadata": {},
   "outputs": [],
   "source": [
    "# list like\n",
    "json_data='''\n",
    "[\n",
    "    {\"id\" : \"1\",\"name\":\"sravan\",\"age\":22},\n",
    "    {\"id\" : \"2\",\"name\":\"harsha\",\"age\":22},\n",
    "    {\"id\" : \"3\",\"name\":\"deepika\",\"age\":21},\n",
    "    {\"id\" : \"4\",\"name\":\"jyothika\",\"age\":23}\n",
    "]\n",
    "''' # 데이터 => 키 : 값"
   ]
  },
  {
   "cell_type": "markdown",
   "id": "59b9df3f-0a1d-420e-8c2c-e20062b83b92",
   "metadata": {},
   "source": [
    "- orient = \"record\" 설정 => JSON 파일 데이터를 행 단위로 읽어서 DF에 저장 (데이터를 보고 결정할 것)"
   ]
  },
  {
   "cell_type": "code",
   "execution_count": 54,
   "id": "ec6fef28-71a1-4fe0-81c9-850b1a260dd5",
   "metadata": {},
   "outputs": [
    {
     "data": {
      "text/html": [
       "<div>\n",
       "<style scoped>\n",
       "    .dataframe tbody tr th:only-of-type {\n",
       "        vertical-align: middle;\n",
       "    }\n",
       "\n",
       "    .dataframe tbody tr th {\n",
       "        vertical-align: top;\n",
       "    }\n",
       "\n",
       "    .dataframe thead th {\n",
       "        text-align: right;\n",
       "    }\n",
       "</style>\n",
       "<table border=\"1\" class=\"dataframe\">\n",
       "  <thead>\n",
       "    <tr style=\"text-align: right;\">\n",
       "      <th></th>\n",
       "      <th>id</th>\n",
       "      <th>name</th>\n",
       "      <th>age</th>\n",
       "    </tr>\n",
       "  </thead>\n",
       "  <tbody>\n",
       "    <tr>\n",
       "      <th>0</th>\n",
       "      <td>1</td>\n",
       "      <td>sravan</td>\n",
       "      <td>22</td>\n",
       "    </tr>\n",
       "    <tr>\n",
       "      <th>1</th>\n",
       "      <td>2</td>\n",
       "      <td>harsha</td>\n",
       "      <td>22</td>\n",
       "    </tr>\n",
       "    <tr>\n",
       "      <th>2</th>\n",
       "      <td>3</td>\n",
       "      <td>deepika</td>\n",
       "      <td>21</td>\n",
       "    </tr>\n",
       "    <tr>\n",
       "      <th>3</th>\n",
       "      <td>4</td>\n",
       "      <td>jyothika</td>\n",
       "      <td>23</td>\n",
       "    </tr>\n",
       "  </tbody>\n",
       "</table>\n",
       "</div>"
      ],
      "text/plain": [
       "   id      name  age\n",
       "0   1    sravan   22\n",
       "1   2    harsha   22\n",
       "2   3   deepika   21\n",
       "3   4  jyothika   23"
      ]
     },
     "execution_count": 54,
     "metadata": {},
     "output_type": "execute_result"
    }
   ],
   "source": [
    "pd.read_json(json_data, orient=\"records\")"
   ]
  },
  {
   "cell_type": "code",
   "execution_count": 55,
   "id": "417e9339-f838-402a-9aa6-a1d6a6fbdb0e",
   "metadata": {},
   "outputs": [],
   "source": [
    "# dict like\n",
    "json_data2='''\n",
    "{\n",
    "    \"student1\": {\"id\" : \"1\",\"name\":\"sravan\",\"age\":22},\n",
    "    \"student2\": {\"id\" : \"2\",\"name\":\"harsha\",\"age\":22},\n",
    "    \"student3\": {\"id\" : \"3\",\"name\":\"deepika\",\"age\":21},\n",
    "    \"student4\": {\"id\" : \"4\",\"name\":\"jyothika\",\"age\":23}\n",
    "}\n",
    "''' # 데이터 => 키 : 값"
   ]
  },
  {
   "cell_type": "code",
   "execution_count": 56,
   "id": "c83b5e16-0a42-40ed-ad4b-5b76fe4612ea",
   "metadata": {},
   "outputs": [
    {
     "data": {
      "text/html": [
       "<div>\n",
       "<style scoped>\n",
       "    .dataframe tbody tr th:only-of-type {\n",
       "        vertical-align: middle;\n",
       "    }\n",
       "\n",
       "    .dataframe tbody tr th {\n",
       "        vertical-align: top;\n",
       "    }\n",
       "\n",
       "    .dataframe thead th {\n",
       "        text-align: right;\n",
       "    }\n",
       "</style>\n",
       "<table border=\"1\" class=\"dataframe\">\n",
       "  <thead>\n",
       "    <tr style=\"text-align: right;\">\n",
       "      <th></th>\n",
       "      <th>id</th>\n",
       "      <th>name</th>\n",
       "      <th>age</th>\n",
       "    </tr>\n",
       "  </thead>\n",
       "  <tbody>\n",
       "    <tr>\n",
       "      <th>student1</th>\n",
       "      <td>1</td>\n",
       "      <td>sravan</td>\n",
       "      <td>22</td>\n",
       "    </tr>\n",
       "    <tr>\n",
       "      <th>student2</th>\n",
       "      <td>2</td>\n",
       "      <td>harsha</td>\n",
       "      <td>22</td>\n",
       "    </tr>\n",
       "    <tr>\n",
       "      <th>student3</th>\n",
       "      <td>3</td>\n",
       "      <td>deepika</td>\n",
       "      <td>21</td>\n",
       "    </tr>\n",
       "    <tr>\n",
       "      <th>student4</th>\n",
       "      <td>4</td>\n",
       "      <td>jyothika</td>\n",
       "      <td>23</td>\n",
       "    </tr>\n",
       "  </tbody>\n",
       "</table>\n",
       "</div>"
      ],
      "text/plain": [
       "          id      name  age\n",
       "student1   1    sravan   22\n",
       "student2   2    harsha   22\n",
       "student3   3   deepika   21\n",
       "student4   4  jyothika   23"
      ]
     },
     "execution_count": 56,
     "metadata": {},
     "output_type": "execute_result"
    }
   ],
   "source": [
    "pd.read_json(json_data2, orient=\"index\") # 키를 인덱스로 주겠다는 뜻 "
   ]
  },
  {
   "cell_type": "code",
   "execution_count": 57,
   "id": "1555e156-b547-4767-8d8d-717c020944ed",
   "metadata": {},
   "outputs": [
    {
     "data": {
      "text/html": [
       "<div>\n",
       "<style scoped>\n",
       "    .dataframe tbody tr th:only-of-type {\n",
       "        vertical-align: middle;\n",
       "    }\n",
       "\n",
       "    .dataframe tbody tr th {\n",
       "        vertical-align: top;\n",
       "    }\n",
       "\n",
       "    .dataframe thead th {\n",
       "        text-align: right;\n",
       "    }\n",
       "</style>\n",
       "<table border=\"1\" class=\"dataframe\">\n",
       "  <thead>\n",
       "    <tr style=\"text-align: right;\">\n",
       "      <th></th>\n",
       "      <th>student1</th>\n",
       "      <th>student2</th>\n",
       "      <th>student3</th>\n",
       "      <th>student4</th>\n",
       "    </tr>\n",
       "  </thead>\n",
       "  <tbody>\n",
       "    <tr>\n",
       "      <th>id</th>\n",
       "      <td>1</td>\n",
       "      <td>2</td>\n",
       "      <td>3</td>\n",
       "      <td>4</td>\n",
       "    </tr>\n",
       "    <tr>\n",
       "      <th>name</th>\n",
       "      <td>sravan</td>\n",
       "      <td>harsha</td>\n",
       "      <td>deepika</td>\n",
       "      <td>jyothika</td>\n",
       "    </tr>\n",
       "    <tr>\n",
       "      <th>age</th>\n",
       "      <td>22</td>\n",
       "      <td>22</td>\n",
       "      <td>21</td>\n",
       "      <td>23</td>\n",
       "    </tr>\n",
       "  </tbody>\n",
       "</table>\n",
       "</div>"
      ],
      "text/plain": [
       "     student1 student2 student3  student4\n",
       "id          1        2        3         4\n",
       "name   sravan   harsha  deepika  jyothika\n",
       "age        22       22       21        23"
      ]
     },
     "execution_count": 57,
     "metadata": {},
     "output_type": "execute_result"
    }
   ],
   "source": [
    "pd.read_json(json_data2, orient=\"columns\") # 키를 인덱스로 주겠다는 뜻 "
   ]
  },
  {
   "cell_type": "code",
   "execution_count": 58,
   "id": "594a9c76-6b1e-4f88-a8e9-0b19bfd292a9",
   "metadata": {},
   "outputs": [
    {
     "data": {
      "text/html": [
       "<div>\n",
       "<style scoped>\n",
       "    .dataframe tbody tr th:only-of-type {\n",
       "        vertical-align: middle;\n",
       "    }\n",
       "\n",
       "    .dataframe tbody tr th {\n",
       "        vertical-align: top;\n",
       "    }\n",
       "\n",
       "    .dataframe thead th {\n",
       "        text-align: right;\n",
       "    }\n",
       "</style>\n",
       "<table border=\"1\" class=\"dataframe\">\n",
       "  <thead>\n",
       "    <tr style=\"text-align: right;\">\n",
       "      <th></th>\n",
       "      <th>student1</th>\n",
       "      <th>student2</th>\n",
       "      <th>student3</th>\n",
       "      <th>student4</th>\n",
       "    </tr>\n",
       "  </thead>\n",
       "  <tbody>\n",
       "    <tr>\n",
       "      <th>id</th>\n",
       "      <td>1</td>\n",
       "      <td>2</td>\n",
       "      <td>3</td>\n",
       "      <td>4</td>\n",
       "    </tr>\n",
       "    <tr>\n",
       "      <th>name</th>\n",
       "      <td>sravan</td>\n",
       "      <td>harsha</td>\n",
       "      <td>deepika</td>\n",
       "      <td>jyothika</td>\n",
       "    </tr>\n",
       "    <tr>\n",
       "      <th>age</th>\n",
       "      <td>22</td>\n",
       "      <td>22</td>\n",
       "      <td>21</td>\n",
       "      <td>23</td>\n",
       "    </tr>\n",
       "  </tbody>\n",
       "</table>\n",
       "</div>"
      ],
      "text/plain": [
       "     student1 student2 student3  student4\n",
       "id          1        2        3         4\n",
       "name   sravan   harsha  deepika  jyothika\n",
       "age        22       22       21        23"
      ]
     },
     "execution_count": 58,
     "metadata": {},
     "output_type": "execute_result"
    }
   ],
   "source": [
    "pd.read_json(json_data2, orient=\"index\").T"
   ]
  },
  {
   "cell_type": "code",
   "execution_count": 59,
   "id": "f8334145-508d-443f-b464-39ea2ba22305",
   "metadata": {},
   "outputs": [],
   "source": [
    "# list like : 값만 있음!! \n",
    "json_data3 = '''\n",
    "[\n",
    "    [ \"1\", \"sravan\",22 ],\n",
    "    [ \"2\", \"harsha\",22 ],\n",
    "    [ \"3\", \"deepika\",21 ],\n",
    "    [ \"4\", \"jyothika\",23 ]\n",
    "]\n",
    "'''"
   ]
  },
  {
   "cell_type": "code",
   "execution_count": 62,
   "id": "6719cfa7-38a3-4064-9ae8-41aedd706d5c",
   "metadata": {},
   "outputs": [
    {
     "data": {
      "text/html": [
       "<div>\n",
       "<style scoped>\n",
       "    .dataframe tbody tr th:only-of-type {\n",
       "        vertical-align: middle;\n",
       "    }\n",
       "\n",
       "    .dataframe tbody tr th {\n",
       "        vertical-align: top;\n",
       "    }\n",
       "\n",
       "    .dataframe thead th {\n",
       "        text-align: right;\n",
       "    }\n",
       "</style>\n",
       "<table border=\"1\" class=\"dataframe\">\n",
       "  <thead>\n",
       "    <tr style=\"text-align: right;\">\n",
       "      <th></th>\n",
       "      <th>0</th>\n",
       "      <th>1</th>\n",
       "      <th>2</th>\n",
       "    </tr>\n",
       "  </thead>\n",
       "  <tbody>\n",
       "    <tr>\n",
       "      <th>0</th>\n",
       "      <td>1</td>\n",
       "      <td>sravan</td>\n",
       "      <td>22</td>\n",
       "    </tr>\n",
       "    <tr>\n",
       "      <th>1</th>\n",
       "      <td>2</td>\n",
       "      <td>harsha</td>\n",
       "      <td>22</td>\n",
       "    </tr>\n",
       "    <tr>\n",
       "      <th>2</th>\n",
       "      <td>3</td>\n",
       "      <td>deepika</td>\n",
       "      <td>21</td>\n",
       "    </tr>\n",
       "    <tr>\n",
       "      <th>3</th>\n",
       "      <td>4</td>\n",
       "      <td>jyothika</td>\n",
       "      <td>23</td>\n",
       "    </tr>\n",
       "  </tbody>\n",
       "</table>\n",
       "</div>"
      ],
      "text/plain": [
       "   0         1   2\n",
       "0  1    sravan  22\n",
       "1  2    harsha  22\n",
       "2  3   deepika  21\n",
       "3  4  jyothika  23"
      ]
     },
     "execution_count": 62,
     "metadata": {},
     "output_type": "execute_result"
    }
   ],
   "source": [
    "pd.read_json(json_data3) # orient = \"values\"랑 같은 상태 "
   ]
  },
  {
   "cell_type": "code",
   "execution_count": null,
   "id": "5bc5177d-11eb-4797-9a8e-8aec6287fee6",
   "metadata": {},
   "outputs": [],
   "source": []
  }
 ],
 "metadata": {
  "kernelspec": {
   "display_name": "Python 3 (ipykernel)",
   "language": "python",
   "name": "python3"
  },
  "language_info": {
   "codemirror_mode": {
    "name": "ipython",
    "version": 3
   },
   "file_extension": ".py",
   "mimetype": "text/x-python",
   "name": "python",
   "nbconvert_exporter": "python",
   "pygments_lexer": "ipython3",
   "version": "3.8.18"
  }
 },
 "nbformat": 4,
 "nbformat_minor": 5
}
